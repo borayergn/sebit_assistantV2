{
 "cells": [
  {
   "cell_type": "code",
   "execution_count": 74,
   "metadata": {},
   "outputs": [],
   "source": [
    "# !pip install selenium"
   ]
  },
  {
   "cell_type": "code",
   "execution_count": 75,
   "metadata": {},
   "outputs": [],
   "source": [
    "# !pip install webdriver-manager"
   ]
  },
  {
   "cell_type": "code",
   "execution_count": 76,
   "metadata": {},
   "outputs": [],
   "source": [
    "from selenium import webdriver\n",
    "from selenium.webdriver.common.keys import Keys\n",
    "from selenium.webdriver.common.by import By\n",
    "from selenium.webdriver.chrome.service import Service as ChromeService\n",
    "from webdriver_manager.chrome import ChromeDriverManager\n",
    "\n",
    "from selenium.webdriver.chrome.options import Options\n",
    "\n",
    "from selenium.webdriver.common.by import By"
   ]
  },
  {
   "cell_type": "code",
   "execution_count": 77,
   "metadata": {},
   "outputs": [],
   "source": [
    "import pandas as pd"
   ]
  },
  {
   "cell_type": "code",
   "execution_count": 78,
   "metadata": {},
   "outputs": [
    {
     "data": {
      "text/html": [
       "<div>\n",
       "<style scoped>\n",
       "    .dataframe tbody tr th:only-of-type {\n",
       "        vertical-align: middle;\n",
       "    }\n",
       "\n",
       "    .dataframe tbody tr th {\n",
       "        vertical-align: top;\n",
       "    }\n",
       "\n",
       "    .dataframe thead th {\n",
       "        text-align: right;\n",
       "    }\n",
       "</style>\n",
       "<table border=\"1\" class=\"dataframe\">\n",
       "  <thead>\n",
       "    <tr style=\"text-align: right;\">\n",
       "      <th></th>\n",
       "      <th>source</th>\n",
       "      <th>question</th>\n",
       "      <th>answer</th>\n",
       "    </tr>\n",
       "  </thead>\n",
       "  <tbody>\n",
       "  </tbody>\n",
       "</table>\n",
       "</div>"
      ],
      "text/plain": [
       "Empty DataFrame\n",
       "Columns: [source, question, answer]\n",
       "Index: []"
      ]
     },
     "execution_count": 78,
     "metadata": {},
     "output_type": "execute_result"
    }
   ],
   "source": [
    "faq_df = pd.DataFrame(columns=[\"source\", \"question\", \"answer\"])\n",
    "faq_df"
   ]
  },
  {
   "cell_type": "code",
   "execution_count": 79,
   "metadata": {},
   "outputs": [],
   "source": [
    "options = Options()\n",
    "options.add_argument('headless')\n",
    "options.add_argument('window-size=1920x1080')\n",
    "# options.add_argument(\"disable-gpu\")\n",
    "options.add_argument(\"--disable-gpu\")"
   ]
  },
  {
   "cell_type": "code",
   "execution_count": 80,
   "metadata": {},
   "outputs": [],
   "source": [
    "driver = webdriver.Chrome(service=ChromeService(ChromeDriverManager().install()), options=options)"
   ]
  },
  {
   "cell_type": "code",
   "execution_count": 81,
   "metadata": {},
   "outputs": [
    {
     "name": "stdout",
     "output_type": "stream",
     "text": [
      "Genel\n"
     ]
    }
   ],
   "source": [
    "url = \"https://www.osym.gov.tr/TR,8808/genel.html\"\n",
    "driver.get(url)\n",
    "\n",
    "print(driver.title)"
   ]
  },
  {
   "cell_type": "code",
   "execution_count": 82,
   "metadata": {},
   "outputs": [],
   "source": [
    "# #QUES\n",
    "# //body[1]/form[1]/div[4]/div[2]/div[1]/table[1]/tbody[1]/tr/td[2]/p[1]"
   ]
  },
  {
   "cell_type": "code",
   "execution_count": 83,
   "metadata": {},
   "outputs": [
    {
     "data": {
      "text/plain": [
       "'Şifremi unuttum. Telefondan bilgilerimi vererek şifre alabilir miyim?'"
      ]
     },
     "execution_count": 83,
     "metadata": {},
     "output_type": "execute_result"
    }
   ],
   "source": [
    "ques = driver.find_elements(By.XPATH, '//body[1]/form[1]/div[4]/div[2]/div[1]/table[1]/tbody[1]/tr/td[2]/p[1]')\n",
    "\n",
    "ques[0].text"
   ]
  },
  {
   "cell_type": "code",
   "execution_count": 84,
   "metadata": {},
   "outputs": [
    {
     "data": {
      "text/plain": [
       "41"
      ]
     },
     "execution_count": 84,
     "metadata": {},
     "output_type": "execute_result"
    }
   ],
   "source": [
    "len(ques)"
   ]
  },
  {
   "cell_type": "code",
   "execution_count": 85,
   "metadata": {},
   "outputs": [],
   "source": [
    "# #ANSW\n",
    "# //body[1]/form[1]/div[4]/div[2]/div[1]/table[1]/tbody[1]/tr[2]/td[1]/p[1]/strong[1]\n",
    "# //body[1]/form[1]/div[4]/div[2]/div[1]/table[1]/tbody[1]/tr[4]/td[1]/p[1]/strong[1]\n",
    "# //body[1]/form[1]/div[4]/div[2]/div[1]/table[1]/tbody[1]/tr/td[1]/p[1]/strong[1]\n",
    "\n",
    "# //body[1]/form[1]/div[4]/div[2]/div[1]/table[1]/tbody[1]/tr/td[1]/p[1]\n",
    "\n",
    "# //body[1]/form[1]/div[4]/div[2]/div[1]/table[1]/tbody[1]/tr/td[1]/p[1]/strong[1]"
   ]
  },
  {
   "cell_type": "code",
   "execution_count": 86,
   "metadata": {},
   "outputs": [
    {
     "data": {
      "text/plain": [
       "'Telefon üzerinden şifre verme uygulamamız yoktur. Şifrenizi, bulunduğunuz ildeki ÖSYM Sınav Koordinatörlüğünden ya da Sınav Koordinatörlüğü yetkisi olan Başvuru Merkezlerinden (Ortaöğretim Kurumları) alabilirsiniz.'"
      ]
     },
     "execution_count": 86,
     "metadata": {},
     "output_type": "execute_result"
    }
   ],
   "source": [
    "anws = driver.find_elements(By.XPATH, '//body[1]/form[1]/div[4]/div[2]/div[1]/table[1]/tbody[1]/tr/td[1]/p[1]')\n",
    "\n",
    "anws[1].text"
   ]
  },
  {
   "cell_type": "code",
   "execution_count": 87,
   "metadata": {},
   "outputs": [
    {
     "data": {
      "text/plain": [
       "81"
      ]
     },
     "execution_count": 87,
     "metadata": {},
     "output_type": "execute_result"
    }
   ],
   "source": [
    "len([i.text for i in anws])"
   ]
  },
  {
   "cell_type": "code",
   "execution_count": 88,
   "metadata": {},
   "outputs": [
    {
     "data": {
      "text/plain": [
       "80"
      ]
     },
     "execution_count": 88,
     "metadata": {},
     "output_type": "execute_result"
    }
   ],
   "source": [
    "len(anws[:-1])"
   ]
  },
  {
   "cell_type": "code",
   "execution_count": 89,
   "metadata": {},
   "outputs": [
    {
     "data": {
      "text/plain": [
       "81"
      ]
     },
     "execution_count": 89,
     "metadata": {},
     "output_type": "execute_result"
    }
   ],
   "source": [
    "len(anws)"
   ]
  },
  {
   "cell_type": "code",
   "execution_count": 90,
   "metadata": {},
   "outputs": [],
   "source": [
    "ques = driver.find_elements(By.XPATH, '//body[1]/form[1]/div[4]/div[2]/div[1]/table[1]/tbody[1]/tr/td[2]/p[1]')\n",
    "ques = [i.text for i in ques]\n",
    "\n",
    "answ = driver.find_elements(By.XPATH, '//body[1]/form[1]/div[4]/div[2]/div[1]/table[1]/tbody[1]/tr/td[1]/p[1]')\n",
    "answ = [i.text for i in answ]\n",
    "\n",
    "last_answ = answ[-1].replace('\\n', '')\n",
    "\n",
    "answ = answ[:-1]\n",
    "\n",
    "# print(answ[-1])\n",
    "# print(answ[1])\n",
    "\n",
    "# print(len(answ))\n",
    "\n",
    "a = list(range(len(answ)))\n",
    "answ_idx = list(filter(lambda x: x % 2 == 1, a))\n",
    "# print(answ_idx)\n",
    "# print(answ[answ_idx[0]])\n",
    "answ = [answ[i].replace('\\n', '') for i in answ_idx]\n",
    "\n",
    "# print(answ[0])\n",
    "# # print(answ[-1])\n",
    "# print(len(answ_idx))\n",
    "\n",
    "# print(len(ques))\n",
    "\n",
    "answ.append(last_answ)\n",
    "\n",
    "# print(answ[-1])\n",
    "\n",
    "# print(ques, answ)\n",
    "\n",
    "srcs = [f\"{url}/{i}\" for i in range(1, (len(ques)+1))]\n",
    "\n",
    "# print(len(srcs))\n",
    "# print(len(ques))\n",
    "# print(len(answ))\n",
    "\n",
    "data_dict = {\"source\": srcs, \"question\": ques, \"answer\":answ}\n",
    "\n",
    "temp_df = pd.DataFrame(columns=[\"source\", \"question\", \"answer\"])\n",
    "\n",
    "faq_df = pd.concat([faq_df, pd.DataFrame(data=data_dict)])"
   ]
  },
  {
   "cell_type": "code",
   "execution_count": 91,
   "metadata": {},
   "outputs": [
    {
     "data": {
      "text/html": [
       "<div>\n",
       "<style scoped>\n",
       "    .dataframe tbody tr th:only-of-type {\n",
       "        vertical-align: middle;\n",
       "    }\n",
       "\n",
       "    .dataframe tbody tr th {\n",
       "        vertical-align: top;\n",
       "    }\n",
       "\n",
       "    .dataframe thead th {\n",
       "        text-align: right;\n",
       "    }\n",
       "</style>\n",
       "<table border=\"1\" class=\"dataframe\">\n",
       "  <thead>\n",
       "    <tr style=\"text-align: right;\">\n",
       "      <th></th>\n",
       "      <th>source</th>\n",
       "      <th>question</th>\n",
       "      <th>answer</th>\n",
       "    </tr>\n",
       "  </thead>\n",
       "  <tbody>\n",
       "    <tr>\n",
       "      <th>0</th>\n",
       "      <td>https://www.osym.gov.tr/TR,8808/genel.html/1</td>\n",
       "      <td>Şifremi unuttum. Telefondan bilgilerimi verere...</td>\n",
       "      <td>Telefon üzerinden şifre verme uygulamamız yokt...</td>\n",
       "    </tr>\n",
       "    <tr>\n",
       "      <th>1</th>\n",
       "      <td>https://www.osym.gov.tr/TR,8808/genel.html/2</td>\n",
       "      <td>Sınava başvuru tarihlerini öğrenebilir miyim?</td>\n",
       "      <td>www.osym.gov.tr adresinden ilgili yıla ait sın...</td>\n",
       "    </tr>\n",
       "    <tr>\n",
       "      <th>2</th>\n",
       "      <td>https://www.osym.gov.tr/TR,8808/genel.html/3</td>\n",
       "      <td>Sınava başvuru şartlarını öğrenebilir miyim?</td>\n",
       "      <td>İlgili sınavın başvuru kılavuzunu inceleyiniz....</td>\n",
       "    </tr>\n",
       "    <tr>\n",
       "      <th>3</th>\n",
       "      <td>https://www.osym.gov.tr/TR,8808/genel.html/4</td>\n",
       "      <td>Sınava ait başvuru kılavuzunu nerden edinebili...</td>\n",
       "      <td>ÖSYM’nin İnternet sayfasından ilgili sınava ai...</td>\n",
       "    </tr>\n",
       "    <tr>\n",
       "      <th>4</th>\n",
       "      <td>https://www.osym.gov.tr/TR,8808/genel.html/5</td>\n",
       "      <td>Başvuru ücretini öğrenebilir miyim?</td>\n",
       "      <td>İlgili sınava ait başvuru kılavuzundan bakabil...</td>\n",
       "    </tr>\n",
       "    <tr>\n",
       "      <th>5</th>\n",
       "      <td>https://www.osym.gov.tr/TR,8808/genel.html/6</td>\n",
       "      <td>Sınav ücretini hangi bankalardan yatırabilirim?</td>\n",
       "      <td>Sınava ait başvuru kılavuzundan, ücret yatırab...</td>\n",
       "    </tr>\n",
       "    <tr>\n",
       "      <th>6</th>\n",
       "      <td>https://www.osym.gov.tr/TR,8808/genel.html/7</td>\n",
       "      <td>Sınavın kapsamı, süresi, soru sayısı, saati ha...</td>\n",
       "      <td>Bu tür bilgilere ilgili sınava ait kılavuzdan ...</td>\n",
       "    </tr>\n",
       "    <tr>\n",
       "      <th>7</th>\n",
       "      <td>https://www.osym.gov.tr/TR,8808/genel.html/8</td>\n",
       "      <td>Soyadım değişti, bilgilerimi nasıl güncelleyeb...</td>\n",
       "      <td>Aday işlemleri sisteminden “kimlik bilgilerimi...</td>\n",
       "    </tr>\n",
       "    <tr>\n",
       "      <th>8</th>\n",
       "      <td>https://www.osym.gov.tr/TR,8808/genel.html/9</td>\n",
       "      <td>Sürekli bir engelim yok, sonradan oluştu. Sağl...</td>\n",
       "      <td>Sınavın yapılacağı hafta çarşamba günü saat 17...</td>\n",
       "    </tr>\n",
       "    <tr>\n",
       "      <th>9</th>\n",
       "      <td>https://www.osym.gov.tr/TR,8808/genel.html/10</td>\n",
       "      <td>Sınava hangi belgelerle gideceğim?</td>\n",
       "      <td>Nüfus cüzdanı veya süresi geçerli bir pasaport...</td>\n",
       "    </tr>\n",
       "    <tr>\n",
       "      <th>10</th>\n",
       "      <td>https://www.osym.gov.tr/TR,8808/genel.html/11</td>\n",
       "      <td>Başvuru merkeziyim, sistemim hata veriyor. Nas...</td>\n",
       "      <td>444 67 96 ÖSYM Çağrı Merkezinden bilgi alabili...</td>\n",
       "    </tr>\n",
       "    <tr>\n",
       "      <th>11</th>\n",
       "      <td>https://www.osym.gov.tr/TR,8808/genel.html/12</td>\n",
       "      <td>Sınavlarda görev almak istiyorum ne yapmalıyım?</td>\n",
       "      <td>444 67 96 ÖSYM Çağrı Merkezinden bilgi alabili...</td>\n",
       "    </tr>\n",
       "    <tr>\n",
       "      <th>12</th>\n",
       "      <td>https://www.osym.gov.tr/TR,8808/genel.html/13</td>\n",
       "      <td>Sınava giriş belgemi nasıl alacağım?</td>\n",
       "      <td>Aday işlemleri sisteminden sınava giriş belgen...</td>\n",
       "    </tr>\n",
       "    <tr>\n",
       "      <th>13</th>\n",
       "      <td>https://www.osym.gov.tr/TR,8808/genel.html/14</td>\n",
       "      <td>Başvuru esnasında yanlışlıkla fotoğraf başkası...</td>\n",
       "      <td>444 67 96 ÖSYM Çağrı Merkezinden bilgi alabili...</td>\n",
       "    </tr>\n",
       "    <tr>\n",
       "      <th>14</th>\n",
       "      <td>https://www.osym.gov.tr/TR,8808/genel.html/15</td>\n",
       "      <td>Bir başkası benim adıma şifre alabilir mi?</td>\n",
       "      <td>Sınav koordinatörlükleri veya sınav koordinatö...</td>\n",
       "    </tr>\n",
       "    <tr>\n",
       "      <th>15</th>\n",
       "      <td>https://www.osym.gov.tr/TR,8808/genel.html/16</td>\n",
       "      <td>Başörtülü fotoğraf çektirebilir miyim?</td>\n",
       "      <td>Fotoğraf, adayın fiziksel olarak tanınmasını s...</td>\n",
       "    </tr>\n",
       "    <tr>\n",
       "      <th>16</th>\n",
       "      <td>https://www.osym.gov.tr/TR,8808/genel.html/17</td>\n",
       "      <td>Nüfus cüzdanımı kaybettim sınava girebilecek m...</td>\n",
       "      <td>Güvenlik tedbirleri dolayısı ile nüfus cüzdanı...</td>\n",
       "    </tr>\n",
       "    <tr>\n",
       "      <th>17</th>\n",
       "      <td>https://www.osym.gov.tr/TR,8808/genel.html/18</td>\n",
       "      <td>Giriş belgemde yazılı olan okul verilen adrest...</td>\n",
       "      <td>Bu durumu İl/İlçe Sınav Merkezi Koordinatörlüğ...</td>\n",
       "    </tr>\n",
       "    <tr>\n",
       "      <th>18</th>\n",
       "      <td>https://www.osym.gov.tr/TR,8808/genel.html/19</td>\n",
       "      <td>Yurt dışında sınava girebilir miyim?</td>\n",
       "      <td>Yurt dışında sınav uygulamamız yok.</td>\n",
       "    </tr>\n",
       "    <tr>\n",
       "      <th>19</th>\n",
       "      <td>https://www.osym.gov.tr/TR,8808/genel.html/20</td>\n",
       "      <td>İki tane lisans diplomam var KPSS ye her ikisi...</td>\n",
       "      <td>2014 yılı itibarıyla birden fazla eğitim bilgi...</td>\n",
       "    </tr>\n",
       "    <tr>\n",
       "      <th>20</th>\n",
       "      <td>https://www.osym.gov.tr/TR,8808/genel.html/21</td>\n",
       "      <td>Sonuçlar ne zaman açıklanacak?</td>\n",
       "      <td>ÖSYM’nin İnternet(www.osym.gov.tr) sayfasındak...</td>\n",
       "    </tr>\n",
       "    <tr>\n",
       "      <th>21</th>\n",
       "      <td>https://www.osym.gov.tr/TR,8808/genel.html/22</td>\n",
       "      <td>Cevap kâğıdıma adımı, soyadımı ya da T.C kimli...</td>\n",
       "      <td>Bu durumla ilgili, merkezimize genel amaçlı bi...</td>\n",
       "    </tr>\n",
       "    <tr>\n",
       "      <th>22</th>\n",
       "      <td>https://www.osym.gov.tr/TR,8808/genel.html/23</td>\n",
       "      <td>Sınav esnasında hakkımda tutanak tutuldu, sına...</td>\n",
       "      <td>Sonuçların açıklanmasını beklemeniz gerekmekte...</td>\n",
       "    </tr>\n",
       "    <tr>\n",
       "      <th>23</th>\n",
       "      <td>https://www.osym.gov.tr/TR,8808/genel.html/24</td>\n",
       "      <td>Sınav esnasında gözetmenle sorun yaşadım. Şikâ...</td>\n",
       "      <td>Merkezimize bu konuyla ilgili bir dilekçe gönd...</td>\n",
       "    </tr>\n",
       "    <tr>\n",
       "      <th>24</th>\n",
       "      <td>https://www.osym.gov.tr/TR,8808/genel.html/25</td>\n",
       "      <td>Sınav soru ve cevapları ne zaman açıklanacak?</td>\n",
       "      <td>ÖSYM’nin İnternet(www.osym.gov.tr) sayfasındak...</td>\n",
       "    </tr>\n",
       "    <tr>\n",
       "      <th>25</th>\n",
       "      <td>https://www.osym.gov.tr/TR,8808/genel.html/26</td>\n",
       "      <td>Sınav salonunda saat yoktu. Neden adaylara saa...</td>\n",
       "      <td>Bu konuyla ilgili şikâyet ve isteklerinizi Mer...</td>\n",
       "    </tr>\n",
       "    <tr>\n",
       "      <th>26</th>\n",
       "      <td>https://www.osym.gov.tr/TR,8808/genel.html/27</td>\n",
       "      <td>Sınav sonuç belgesi tarafımıza gönderilecek mi?</td>\n",
       "      <td>Sınav sonuç belgeleri postalanmamaktadır, ÖSYM...</td>\n",
       "    </tr>\n",
       "    <tr>\n",
       "      <th>27</th>\n",
       "      <td>https://www.osym.gov.tr/TR,8808/genel.html/28</td>\n",
       "      <td>Geçmiş yıllara ait sınav sonuç belgesi almak i...</td>\n",
       "      <td>ÖSYM’nin İnternet sayfasındaki sonuçlar bölümü...</td>\n",
       "    </tr>\n",
       "    <tr>\n",
       "      <th>28</th>\n",
       "      <td>https://www.osym.gov.tr/TR,8808/genel.html/29</td>\n",
       "      <td>Sınav puanım beklediğimden düşük geldi, ne yap...</td>\n",
       "      <td>Sınav sonucunuzun yeniden değerlendirilmesi iç...</td>\n",
       "    </tr>\n",
       "    <tr>\n",
       "      <th>29</th>\n",
       "      <td>https://www.osym.gov.tr/TR,8808/genel.html/30</td>\n",
       "      <td>Okul olarak ÖSYS  için başarı sıramızı öğrenme...</td>\n",
       "      <td>ÖSYM ‘nin İnternet sayfasında yayımlanan istat...</td>\n",
       "    </tr>\n",
       "    <tr>\n",
       "      <th>30</th>\n",
       "      <td>https://www.osym.gov.tr/TR,8808/genel.html/31</td>\n",
       "      <td>Sınavla ilgili istatistiki bilgilere nasıl ula...</td>\n",
       "      <td>ÖSYM’nin İnternet(www.osym.gov.tr)  sayfasında...</td>\n",
       "    </tr>\n",
       "    <tr>\n",
       "      <th>31</th>\n",
       "      <td>https://www.osym.gov.tr/TR,8808/genel.html/32</td>\n",
       "      <td>Geçmiş yıllarda çıkmış soruları toparlayıp kit...</td>\n",
       "      <td>Merkezimize bu konu ile ilgili genel amaçlı di...</td>\n",
       "    </tr>\n",
       "    <tr>\n",
       "      <th>32</th>\n",
       "      <td>https://www.osym.gov.tr/TR,8808/genel.html/33</td>\n",
       "      <td>Sınav sonucumuza ne zamana kadar itiraz edebil...</td>\n",
       "      <td>Sınav sonucunuza itiraz süresine, sınava ait b...</td>\n",
       "    </tr>\n",
       "    <tr>\n",
       "      <th>33</th>\n",
       "      <td>https://www.osym.gov.tr/TR,8808/genel.html/34</td>\n",
       "      <td>Askerdeyim veya tutukluyum, şifremi nasıl alab...</td>\n",
       "      <td>Tutuklu ya da zorunlu askerlik görevini yapmak...</td>\n",
       "    </tr>\n",
       "    <tr>\n",
       "      <th>34</th>\n",
       "      <td>https://www.osym.gov.tr/TR,8808/genel.html/35</td>\n",
       "      <td>Şifremi unuttum, yeni şifre alamıyorum. “Siste...</td>\n",
       "      <td>Şifre değiştirme işlemi yaparken bir güvenlik ...</td>\n",
       "    </tr>\n",
       "    <tr>\n",
       "      <th>35</th>\n",
       "      <td>https://www.osym.gov.tr/TR,8808/genel.html/36</td>\n",
       "      <td>T.C. kimlik numaramı ve şifremi yazdığım zaman...</td>\n",
       "      <td>Şifreniz yeni kurallara uygun olarak en az 8 h...</td>\n",
       "    </tr>\n",
       "    <tr>\n",
       "      <th>36</th>\n",
       "      <td>https://www.osym.gov.tr/TR,8808/genel.html/37</td>\n",
       "      <td>Sistemde kayıtlı olan adres bilgilerimi değişt...</td>\n",
       "      <td>Adres iletişim bilgilerinde değişiklik/düzeltm...</td>\n",
       "    </tr>\n",
       "    <tr>\n",
       "      <th>37</th>\n",
       "      <td>https://www.osym.gov.tr/TR,8808/genel.html/38</td>\n",
       "      <td>Aday işlemleri sisteminde fotoğrafımın süresi ...</td>\n",
       "      <td>Sistemde fotoğraflarının \"Geçerlilik Süresi Do...</td>\n",
       "    </tr>\n",
       "    <tr>\n",
       "      <th>38</th>\n",
       "      <td>https://www.osym.gov.tr/TR,8808/genel.html/39</td>\n",
       "      <td>Sınav sonuçları ne zaman açıklanacak?</td>\n",
       "      <td>2016 yılından itibaren 2016 Sınav Takviminde s...</td>\n",
       "    </tr>\n",
       "    <tr>\n",
       "      <th>39</th>\n",
       "      <td>https://www.osym.gov.tr/TR,8808/genel.html/40</td>\n",
       "      <td>Sınav başvuruları nasıl yapılmaktadır?</td>\n",
       "      <td>İlgili sınava ait kılavuza veya temel ilke ve ...</td>\n",
       "    </tr>\n",
       "    <tr>\n",
       "      <th>40</th>\n",
       "      <td>https://www.osym.gov.tr/TR,8808/genel.html/41</td>\n",
       "      <td>Yurt dışından sınav başvuruları nasıl yapılır?</td>\n",
       "      <td>İnternet aracılığıyla bireysel başvuru hakkı o...</td>\n",
       "    </tr>\n",
       "  </tbody>\n",
       "</table>\n",
       "</div>"
      ],
      "text/plain": [
       "                                           source  \\\n",
       "0    https://www.osym.gov.tr/TR,8808/genel.html/1   \n",
       "1    https://www.osym.gov.tr/TR,8808/genel.html/2   \n",
       "2    https://www.osym.gov.tr/TR,8808/genel.html/3   \n",
       "3    https://www.osym.gov.tr/TR,8808/genel.html/4   \n",
       "4    https://www.osym.gov.tr/TR,8808/genel.html/5   \n",
       "5    https://www.osym.gov.tr/TR,8808/genel.html/6   \n",
       "6    https://www.osym.gov.tr/TR,8808/genel.html/7   \n",
       "7    https://www.osym.gov.tr/TR,8808/genel.html/8   \n",
       "8    https://www.osym.gov.tr/TR,8808/genel.html/9   \n",
       "9   https://www.osym.gov.tr/TR,8808/genel.html/10   \n",
       "10  https://www.osym.gov.tr/TR,8808/genel.html/11   \n",
       "11  https://www.osym.gov.tr/TR,8808/genel.html/12   \n",
       "12  https://www.osym.gov.tr/TR,8808/genel.html/13   \n",
       "13  https://www.osym.gov.tr/TR,8808/genel.html/14   \n",
       "14  https://www.osym.gov.tr/TR,8808/genel.html/15   \n",
       "15  https://www.osym.gov.tr/TR,8808/genel.html/16   \n",
       "16  https://www.osym.gov.tr/TR,8808/genel.html/17   \n",
       "17  https://www.osym.gov.tr/TR,8808/genel.html/18   \n",
       "18  https://www.osym.gov.tr/TR,8808/genel.html/19   \n",
       "19  https://www.osym.gov.tr/TR,8808/genel.html/20   \n",
       "20  https://www.osym.gov.tr/TR,8808/genel.html/21   \n",
       "21  https://www.osym.gov.tr/TR,8808/genel.html/22   \n",
       "22  https://www.osym.gov.tr/TR,8808/genel.html/23   \n",
       "23  https://www.osym.gov.tr/TR,8808/genel.html/24   \n",
       "24  https://www.osym.gov.tr/TR,8808/genel.html/25   \n",
       "25  https://www.osym.gov.tr/TR,8808/genel.html/26   \n",
       "26  https://www.osym.gov.tr/TR,8808/genel.html/27   \n",
       "27  https://www.osym.gov.tr/TR,8808/genel.html/28   \n",
       "28  https://www.osym.gov.tr/TR,8808/genel.html/29   \n",
       "29  https://www.osym.gov.tr/TR,8808/genel.html/30   \n",
       "30  https://www.osym.gov.tr/TR,8808/genel.html/31   \n",
       "31  https://www.osym.gov.tr/TR,8808/genel.html/32   \n",
       "32  https://www.osym.gov.tr/TR,8808/genel.html/33   \n",
       "33  https://www.osym.gov.tr/TR,8808/genel.html/34   \n",
       "34  https://www.osym.gov.tr/TR,8808/genel.html/35   \n",
       "35  https://www.osym.gov.tr/TR,8808/genel.html/36   \n",
       "36  https://www.osym.gov.tr/TR,8808/genel.html/37   \n",
       "37  https://www.osym.gov.tr/TR,8808/genel.html/38   \n",
       "38  https://www.osym.gov.tr/TR,8808/genel.html/39   \n",
       "39  https://www.osym.gov.tr/TR,8808/genel.html/40   \n",
       "40  https://www.osym.gov.tr/TR,8808/genel.html/41   \n",
       "\n",
       "                                             question  \\\n",
       "0   Şifremi unuttum. Telefondan bilgilerimi verere...   \n",
       "1       Sınava başvuru tarihlerini öğrenebilir miyim?   \n",
       "2        Sınava başvuru şartlarını öğrenebilir miyim?   \n",
       "3   Sınava ait başvuru kılavuzunu nerden edinebili...   \n",
       "4                 Başvuru ücretini öğrenebilir miyim?   \n",
       "5     Sınav ücretini hangi bankalardan yatırabilirim?   \n",
       "6   Sınavın kapsamı, süresi, soru sayısı, saati ha...   \n",
       "7   Soyadım değişti, bilgilerimi nasıl güncelleyeb...   \n",
       "8   Sürekli bir engelim yok, sonradan oluştu. Sağl...   \n",
       "9                  Sınava hangi belgelerle gideceğim?   \n",
       "10  Başvuru merkeziyim, sistemim hata veriyor. Nas...   \n",
       "11    Sınavlarda görev almak istiyorum ne yapmalıyım?   \n",
       "12               Sınava giriş belgemi nasıl alacağım?   \n",
       "13  Başvuru esnasında yanlışlıkla fotoğraf başkası...   \n",
       "14         Bir başkası benim adıma şifre alabilir mi?   \n",
       "15             Başörtülü fotoğraf çektirebilir miyim?   \n",
       "16  Nüfus cüzdanımı kaybettim sınava girebilecek m...   \n",
       "17  Giriş belgemde yazılı olan okul verilen adrest...   \n",
       "18               Yurt dışında sınava girebilir miyim?   \n",
       "19  İki tane lisans diplomam var KPSS ye her ikisi...   \n",
       "20                     Sonuçlar ne zaman açıklanacak?   \n",
       "21  Cevap kâğıdıma adımı, soyadımı ya da T.C kimli...   \n",
       "22  Sınav esnasında hakkımda tutanak tutuldu, sına...   \n",
       "23  Sınav esnasında gözetmenle sorun yaşadım. Şikâ...   \n",
       "24      Sınav soru ve cevapları ne zaman açıklanacak?   \n",
       "25  Sınav salonunda saat yoktu. Neden adaylara saa...   \n",
       "26    Sınav sonuç belgesi tarafımıza gönderilecek mi?   \n",
       "27  Geçmiş yıllara ait sınav sonuç belgesi almak i...   \n",
       "28  Sınav puanım beklediğimden düşük geldi, ne yap...   \n",
       "29  Okul olarak ÖSYS  için başarı sıramızı öğrenme...   \n",
       "30  Sınavla ilgili istatistiki bilgilere nasıl ula...   \n",
       "31  Geçmiş yıllarda çıkmış soruları toparlayıp kit...   \n",
       "32  Sınav sonucumuza ne zamana kadar itiraz edebil...   \n",
       "33  Askerdeyim veya tutukluyum, şifremi nasıl alab...   \n",
       "34  Şifremi unuttum, yeni şifre alamıyorum. “Siste...   \n",
       "35  T.C. kimlik numaramı ve şifremi yazdığım zaman...   \n",
       "36  Sistemde kayıtlı olan adres bilgilerimi değişt...   \n",
       "37  Aday işlemleri sisteminde fotoğrafımın süresi ...   \n",
       "38              Sınav sonuçları ne zaman açıklanacak?   \n",
       "39            Sınav başvuruları nasıl yapılmaktadır?    \n",
       "40     Yurt dışından sınav başvuruları nasıl yapılır?   \n",
       "\n",
       "                                               answer  \n",
       "0   Telefon üzerinden şifre verme uygulamamız yokt...  \n",
       "1   www.osym.gov.tr adresinden ilgili yıla ait sın...  \n",
       "2   İlgili sınavın başvuru kılavuzunu inceleyiniz....  \n",
       "3   ÖSYM’nin İnternet sayfasından ilgili sınava ai...  \n",
       "4   İlgili sınava ait başvuru kılavuzundan bakabil...  \n",
       "5   Sınava ait başvuru kılavuzundan, ücret yatırab...  \n",
       "6   Bu tür bilgilere ilgili sınava ait kılavuzdan ...  \n",
       "7   Aday işlemleri sisteminden “kimlik bilgilerimi...  \n",
       "8   Sınavın yapılacağı hafta çarşamba günü saat 17...  \n",
       "9   Nüfus cüzdanı veya süresi geçerli bir pasaport...  \n",
       "10  444 67 96 ÖSYM Çağrı Merkezinden bilgi alabili...  \n",
       "11  444 67 96 ÖSYM Çağrı Merkezinden bilgi alabili...  \n",
       "12  Aday işlemleri sisteminden sınava giriş belgen...  \n",
       "13  444 67 96 ÖSYM Çağrı Merkezinden bilgi alabili...  \n",
       "14  Sınav koordinatörlükleri veya sınav koordinatö...  \n",
       "15  Fotoğraf, adayın fiziksel olarak tanınmasını s...  \n",
       "16  Güvenlik tedbirleri dolayısı ile nüfus cüzdanı...  \n",
       "17  Bu durumu İl/İlçe Sınav Merkezi Koordinatörlüğ...  \n",
       "18                Yurt dışında sınav uygulamamız yok.  \n",
       "19  2014 yılı itibarıyla birden fazla eğitim bilgi...  \n",
       "20  ÖSYM’nin İnternet(www.osym.gov.tr) sayfasındak...  \n",
       "21  Bu durumla ilgili, merkezimize genel amaçlı bi...  \n",
       "22  Sonuçların açıklanmasını beklemeniz gerekmekte...  \n",
       "23  Merkezimize bu konuyla ilgili bir dilekçe gönd...  \n",
       "24  ÖSYM’nin İnternet(www.osym.gov.tr) sayfasındak...  \n",
       "25  Bu konuyla ilgili şikâyet ve isteklerinizi Mer...  \n",
       "26  Sınav sonuç belgeleri postalanmamaktadır, ÖSYM...  \n",
       "27  ÖSYM’nin İnternet sayfasındaki sonuçlar bölümü...  \n",
       "28  Sınav sonucunuzun yeniden değerlendirilmesi iç...  \n",
       "29  ÖSYM ‘nin İnternet sayfasında yayımlanan istat...  \n",
       "30  ÖSYM’nin İnternet(www.osym.gov.tr)  sayfasında...  \n",
       "31  Merkezimize bu konu ile ilgili genel amaçlı di...  \n",
       "32  Sınav sonucunuza itiraz süresine, sınava ait b...  \n",
       "33  Tutuklu ya da zorunlu askerlik görevini yapmak...  \n",
       "34  Şifre değiştirme işlemi yaparken bir güvenlik ...  \n",
       "35  Şifreniz yeni kurallara uygun olarak en az 8 h...  \n",
       "36  Adres iletişim bilgilerinde değişiklik/düzeltm...  \n",
       "37  Sistemde fotoğraflarının \"Geçerlilik Süresi Do...  \n",
       "38  2016 yılından itibaren 2016 Sınav Takviminde s...  \n",
       "39  İlgili sınava ait kılavuza veya temel ilke ve ...  \n",
       "40  İnternet aracılığıyla bireysel başvuru hakkı o...  "
      ]
     },
     "execution_count": 91,
     "metadata": {},
     "output_type": "execute_result"
    }
   ],
   "source": [
    "faq_df"
   ]
  },
  {
   "cell_type": "code",
   "execution_count": 92,
   "metadata": {},
   "outputs": [],
   "source": [
    "faq_df.to_csv(\"osym_faq.csv\", index=False)"
   ]
  },
  {
   "cell_type": "code",
   "execution_count": 93,
   "metadata": {},
   "outputs": [],
   "source": [
    "driver.close()"
   ]
  },
  {
   "cell_type": "code",
   "execution_count": null,
   "metadata": {},
   "outputs": [],
   "source": []
  }
 ],
 "metadata": {
  "kernelspec": {
   "display_name": "dsml",
   "language": "python",
   "name": "python3"
  },
  "language_info": {
   "codemirror_mode": {
    "name": "ipython",
    "version": 3
   },
   "file_extension": ".py",
   "mimetype": "text/x-python",
   "name": "python",
   "nbconvert_exporter": "python",
   "pygments_lexer": "ipython3",
   "version": "3.8.15"
  },
  "orig_nbformat": 4
 },
 "nbformat": 4,
 "nbformat_minor": 2
}
