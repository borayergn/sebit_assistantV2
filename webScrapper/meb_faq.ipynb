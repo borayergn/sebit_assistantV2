{
 "cells": [
  {
   "cell_type": "code",
   "execution_count": 45,
   "metadata": {},
   "outputs": [],
   "source": [
    "# !pip install selenium"
   ]
  },
  {
   "cell_type": "code",
   "execution_count": 46,
   "metadata": {},
   "outputs": [],
   "source": [
    "# !pip install webdriver-manager"
   ]
  },
  {
   "cell_type": "code",
   "execution_count": 47,
   "metadata": {},
   "outputs": [],
   "source": [
    "from selenium import webdriver\n",
    "from selenium.webdriver.common.keys import Keys\n",
    "from selenium.webdriver.common.by import By\n",
    "from selenium.webdriver.chrome.service import Service as ChromeService\n",
    "from webdriver_manager.chrome import ChromeDriverManager\n",
    "\n",
    "from selenium.webdriver.chrome.options import Options\n",
    "\n",
    "from selenium.webdriver.common.by import By"
   ]
  },
  {
   "cell_type": "code",
   "execution_count": 48,
   "metadata": {},
   "outputs": [],
   "source": [
    "import pandas as pd"
   ]
  },
  {
   "cell_type": "code",
   "execution_count": 49,
   "metadata": {},
   "outputs": [
    {
     "data": {
      "text/html": [
       "<div>\n",
       "<style scoped>\n",
       "    .dataframe tbody tr th:only-of-type {\n",
       "        vertical-align: middle;\n",
       "    }\n",
       "\n",
       "    .dataframe tbody tr th {\n",
       "        vertical-align: top;\n",
       "    }\n",
       "\n",
       "    .dataframe thead th {\n",
       "        text-align: right;\n",
       "    }\n",
       "</style>\n",
       "<table border=\"1\" class=\"dataframe\">\n",
       "  <thead>\n",
       "    <tr style=\"text-align: right;\">\n",
       "      <th></th>\n",
       "      <th>source</th>\n",
       "      <th>question</th>\n",
       "      <th>answer</th>\n",
       "    </tr>\n",
       "  </thead>\n",
       "  <tbody>\n",
       "  </tbody>\n",
       "</table>\n",
       "</div>"
      ],
      "text/plain": [
       "Empty DataFrame\n",
       "Columns: [source, question, answer]\n",
       "Index: []"
      ]
     },
     "execution_count": 49,
     "metadata": {},
     "output_type": "execute_result"
    }
   ],
   "source": [
    "faq_df = pd.DataFrame(columns=[\"source\", \"question\", \"answer\"])\n",
    "faq_df"
   ]
  },
  {
   "cell_type": "code",
   "execution_count": 50,
   "metadata": {},
   "outputs": [],
   "source": [
    "options = Options()\n",
    "options.add_argument('headless')\n",
    "options.add_argument('window-size=1920x1080')\n",
    "# options.add_argument(\"disable-gpu\")\n",
    "options.add_argument(\"--disable-gpu\")"
   ]
  },
  {
   "cell_type": "code",
   "execution_count": 51,
   "metadata": {},
   "outputs": [],
   "source": [
    "driver = webdriver.Chrome(service=ChromeService(ChromeDriverManager().install()), options=options)\n",
    "\n",
    "# driver.get(\"http://www.python.org\")\n",
    "# print(driver.title)\n",
    "\n",
    "# driver.close()"
   ]
  },
  {
   "cell_type": "code",
   "execution_count": 52,
   "metadata": {},
   "outputs": [],
   "source": [
    "# # driver.get(\"https://odsgm.meb.gov.tr/www/sss.php\")\n",
    "# url = \"https://ogm.meb.gov.tr/www/sss.php\"\n",
    "# url = \"https://odsgm.meb.gov.tr/www/sss.php\"\n",
    "# driver.get(url)\n",
    "# print(driver.title)"
   ]
  },
  {
   "cell_type": "code",
   "execution_count": 70,
   "metadata": {},
   "outputs": [],
   "source": [
    "urls = [\"https://odsgm.meb.gov.tr/www/sss.php\", \"https://ogm.meb.gov.tr/www/sss.php\", \"https://www.meb.gov.tr/sss.php\", \n",
    "        \"https://personel.meb.gov.tr/www/sss.php\", \"https://oygm.meb.gov.tr/www/sss.php\", \"https://tegm.meb.gov.tr/www/sss.php\",\n",
    "        \"https://orgm.meb.gov.tr/www/sss.php\", \"https://yyegm.meb.gov.tr/www/sss.php\", \"https://ookgm.meb.gov.tr/www/sss.php\",\n",
    "        \"https://pazar53.meb.gov.tr/www/sss.php\", \"https://dhgm.meb.gov.tr/www/sss.php\", \"http://hbogm.meb.gov.tr/www/sss.php\"]"
   ]
  },
  {
   "cell_type": "code",
   "execution_count": 71,
   "metadata": {},
   "outputs": [],
   "source": [
    "def get_qa_pairs(url):\n",
    "    \n",
    "    driver.get(url)\n",
    "    \n",
    "    questions = driver.find_elements(By.XPATH, '//body[1]/section[1]/div[1]/div[2]/div[1]/div[1]/div[2]/ul/li/strong')\n",
    "    answers = driver.find_elements(By.XPATH, '//body[1]/section[1]/div[1]/div[2]/div[1]/div[1]/div[2]/ul/li')\n",
    "    \n",
    "    questions = [i.text for i in questions]\n",
    "    answers = [i.text for i in answers]\n",
    "    \n",
    "    assert len(questions)==len(answers), url\n",
    "\n",
    "    data_dict = {\"source\": [], \"question\": [], \"answer\":[]}\n",
    "    \n",
    "    temp_df = pd.DataFrame(columns=[\"source\", \"question\", \"answer\"])\n",
    "\n",
    "    for i in range(len(questions)):\n",
    "        answers[i] = answers[i].replace(questions[i], \"\")\n",
    "        answers[i] = answers[i].replace('\\n', \" \")\n",
    "\n",
    "        # data_dict = {\"source\": url+f'/{i}', \"question\": questions[i], \"answer\": answers[i]}\n",
    "        data_dict[\"source\"].append(url+f'/{i}')\n",
    "        data_dict[\"question\"].append(questions[i])\n",
    "        data_dict[\"answer\"].append(answers[i])\n",
    "\n",
    "    temp_df = pd.concat([temp_df, pd.DataFrame(data=data_dict)])\n",
    "\n",
    "    return temp_df"
   ]
  },
  {
   "cell_type": "code",
   "execution_count": 72,
   "metadata": {},
   "outputs": [
    {
     "data": {
      "text/html": [
       "<div>\n",
       "<style scoped>\n",
       "    .dataframe tbody tr th:only-of-type {\n",
       "        vertical-align: middle;\n",
       "    }\n",
       "\n",
       "    .dataframe tbody tr th {\n",
       "        vertical-align: top;\n",
       "    }\n",
       "\n",
       "    .dataframe thead th {\n",
       "        text-align: right;\n",
       "    }\n",
       "</style>\n",
       "<table border=\"1\" class=\"dataframe\">\n",
       "  <thead>\n",
       "    <tr style=\"text-align: right;\">\n",
       "      <th></th>\n",
       "      <th>source</th>\n",
       "      <th>question</th>\n",
       "      <th>answer</th>\n",
       "    </tr>\n",
       "  </thead>\n",
       "  <tbody>\n",
       "    <tr>\n",
       "      <th>0</th>\n",
       "      <td>http://hbogm.meb.gov.tr/www/sss.php/0</td>\n",
       "      <td>Açık Öğretim Lisesi ile ilgili her türlü haber...</td>\n",
       "      <td>Açık Öğretim Lisesi https://aol.meb.gov.tr/  ...</td>\n",
       "    </tr>\n",
       "    <tr>\n",
       "      <th>1</th>\n",
       "      <td>http://hbogm.meb.gov.tr/www/sss.php/1</td>\n",
       "      <td>Üniversite başvurularında hangi kodları kullan...</td>\n",
       "      <td>Üniversite başvurularında Açık Öğretim Lisesi...</td>\n",
       "    </tr>\n",
       "    <tr>\n",
       "      <th>2</th>\n",
       "      <td>http://hbogm.meb.gov.tr/www/sss.php/2</td>\n",
       "      <td>Üniversite sınavlarına nereden başvuru yapabil...</td>\n",
       "      <td>Mezun olmuş ve diplomasını almış öğrenciler Ö...</td>\n",
       "    </tr>\n",
       "    <tr>\n",
       "      <th>3</th>\n",
       "      <td>http://hbogm.meb.gov.tr/www/sss.php/3</td>\n",
       "      <td>Geçici Mezuniyet Belgesi (Çıkma Belgesi) ile Ü...</td>\n",
       "      <td>Geçici Mezuniyet Belgesi ile Üniversiteye kay...</td>\n",
       "    </tr>\n",
       "    <tr>\n",
       "      <th>4</th>\n",
       "      <td>http://hbogm.meb.gov.tr/www/sss.php/4</td>\n",
       "      <td>Açık Öğretim lisesinde okuyorum. Üniversiteye ...</td>\n",
       "      <td>Açık Öğretim Lisesine kayıtlı mezun olabilece...</td>\n",
       "    </tr>\n",
       "  </tbody>\n",
       "</table>\n",
       "</div>"
      ],
      "text/plain": [
       "                                  source  \\\n",
       "0  http://hbogm.meb.gov.tr/www/sss.php/0   \n",
       "1  http://hbogm.meb.gov.tr/www/sss.php/1   \n",
       "2  http://hbogm.meb.gov.tr/www/sss.php/2   \n",
       "3  http://hbogm.meb.gov.tr/www/sss.php/3   \n",
       "4  http://hbogm.meb.gov.tr/www/sss.php/4   \n",
       "\n",
       "                                            question  \\\n",
       "0  Açık Öğretim Lisesi ile ilgili her türlü haber...   \n",
       "1  Üniversite başvurularında hangi kodları kullan...   \n",
       "2  Üniversite sınavlarına nereden başvuru yapabil...   \n",
       "3  Geçici Mezuniyet Belgesi (Çıkma Belgesi) ile Ü...   \n",
       "4  Açık Öğretim lisesinde okuyorum. Üniversiteye ...   \n",
       "\n",
       "                                              answer  \n",
       "0   Açık Öğretim Lisesi https://aol.meb.gov.tr/  ...  \n",
       "1   Üniversite başvurularında Açık Öğretim Lisesi...  \n",
       "2   Mezun olmuş ve diplomasını almış öğrenciler Ö...  \n",
       "3   Geçici Mezuniyet Belgesi ile Üniversiteye kay...  \n",
       "4   Açık Öğretim Lisesine kayıtlı mezun olabilece...  "
      ]
     },
     "execution_count": 72,
     "metadata": {},
     "output_type": "execute_result"
    }
   ],
   "source": [
    "get_qa_pairs(urls[-1]).head()"
   ]
  },
  {
   "cell_type": "code",
   "execution_count": 73,
   "metadata": {},
   "outputs": [
    {
     "data": {
      "text/html": [
       "<div>\n",
       "<style scoped>\n",
       "    .dataframe tbody tr th:only-of-type {\n",
       "        vertical-align: middle;\n",
       "    }\n",
       "\n",
       "    .dataframe tbody tr th {\n",
       "        vertical-align: top;\n",
       "    }\n",
       "\n",
       "    .dataframe thead th {\n",
       "        text-align: right;\n",
       "    }\n",
       "</style>\n",
       "<table border=\"1\" class=\"dataframe\">\n",
       "  <thead>\n",
       "    <tr style=\"text-align: right;\">\n",
       "      <th></th>\n",
       "      <th>source</th>\n",
       "      <th>question</th>\n",
       "      <th>answer</th>\n",
       "    </tr>\n",
       "  </thead>\n",
       "  <tbody>\n",
       "    <tr>\n",
       "      <th>189</th>\n",
       "      <td>http://hbogm.meb.gov.tr/www/sss.php/189</td>\n",
       "      <td>Milli Eğitim Bakanlığının açmış olduğu Emlak D...</td>\n",
       "      <td>Sayın ilgili, Gümrük ve Ticaret Bakanlığından...</td>\n",
       "    </tr>\n",
       "    <tr>\n",
       "      <th>190</th>\n",
       "      <td>http://hbogm.meb.gov.tr/www/sss.php/190</td>\n",
       "      <td>Fatura harici ödenek taleplerimi nasıl yapabil...</td>\n",
       "      <td>* Makine, Teçhizat ve donatım (06.1) taleple...</td>\n",
       "    </tr>\n",
       "    <tr>\n",
       "      <th>191</th>\n",
       "      <td>http://hbogm.meb.gov.tr/www/sss.php/191</td>\n",
       "      <td>Genel Müdürlüğümüz tarafından okul ve kurumlar...</td>\n",
       "      <td>Ödenek takip modülünden talep edilen faturala...</td>\n",
       "    </tr>\n",
       "    <tr>\n",
       "      <th>192</th>\n",
       "      <td>http://hbogm.meb.gov.tr/www/sss.php/192</td>\n",
       "      <td>Elektrik, su, doğalgaz, telefon, internet vb f...</td>\n",
       "      <td>Mebbis Ödenek Takip Modülü Fatura İşlemlerind...</td>\n",
       "    </tr>\n",
       "    <tr>\n",
       "      <th>193</th>\n",
       "      <td>http://hbogm.meb.gov.tr/www/sss.php/193</td>\n",
       "      <td>Hayat Boyu Öğrenme Genel Müdürlüğü Sıkça Sorul...</td>\n",
       "      <td>Üst kısımda yer alan  kategorilerde sorular v...</td>\n",
       "    </tr>\n",
       "  </tbody>\n",
       "</table>\n",
       "</div>"
      ],
      "text/plain": [
       "                                      source  \\\n",
       "189  http://hbogm.meb.gov.tr/www/sss.php/189   \n",
       "190  http://hbogm.meb.gov.tr/www/sss.php/190   \n",
       "191  http://hbogm.meb.gov.tr/www/sss.php/191   \n",
       "192  http://hbogm.meb.gov.tr/www/sss.php/192   \n",
       "193  http://hbogm.meb.gov.tr/www/sss.php/193   \n",
       "\n",
       "                                              question  \\\n",
       "189  Milli Eğitim Bakanlığının açmış olduğu Emlak D...   \n",
       "190  Fatura harici ödenek taleplerimi nasıl yapabil...   \n",
       "191  Genel Müdürlüğümüz tarafından okul ve kurumlar...   \n",
       "192  Elektrik, su, doğalgaz, telefon, internet vb f...   \n",
       "193  Hayat Boyu Öğrenme Genel Müdürlüğü Sıkça Sorul...   \n",
       "\n",
       "                                                answer  \n",
       "189   Sayın ilgili, Gümrük ve Ticaret Bakanlığından...  \n",
       "190    * Makine, Teçhizat ve donatım (06.1) taleple...  \n",
       "191   Ödenek takip modülünden talep edilen faturala...  \n",
       "192   Mebbis Ödenek Takip Modülü Fatura İşlemlerind...  \n",
       "193   Üst kısımda yer alan  kategorilerde sorular v...  "
      ]
     },
     "execution_count": 73,
     "metadata": {},
     "output_type": "execute_result"
    }
   ],
   "source": [
    "get_qa_pairs(urls[-1]).tail()"
   ]
  },
  {
   "cell_type": "code",
   "execution_count": 74,
   "metadata": {},
   "outputs": [],
   "source": [
    "# questions = driver.find_elements(By.XPATH, '//body[1]/section[1]/div[1]/div[2]/div[1]/div[1]/div[2]/ul/li/strong')\n",
    "# answers = driver.find_elements(By.XPATH, '//body[1]/section[1]/div[1]/div[2]/div[1]/div[1]/div[2]/ul/li')\n",
    "\n",
    "\n",
    "# questions[-1].text\n",
    "# answers[-1].text"
   ]
  },
  {
   "cell_type": "code",
   "execution_count": 75,
   "metadata": {},
   "outputs": [],
   "source": [
    "# questions = [i.text for i in questions]\n",
    "# answers = [i.text for i in answers]"
   ]
  },
  {
   "cell_type": "code",
   "execution_count": 76,
   "metadata": {},
   "outputs": [],
   "source": [
    "# print(questions[-1])\n",
    "# print(answers[-1])"
   ]
  },
  {
   "cell_type": "code",
   "execution_count": 77,
   "metadata": {},
   "outputs": [],
   "source": [
    "# assert len(questions)==len(answers)\n",
    "\n",
    "# data_dict = {\"source\": [], \"question\": [], \"answer\":[]}\n",
    "\n",
    "# for i in range(len(questions)):\n",
    "#     answers[i] = answers[i].replace(questions[i], \"\")\n",
    "#     answers[i] = answers[i].replace('\\n', \" \")\n",
    "\n",
    "#     # data_dict = {\"source\": url+f'/{i}', \"question\": questions[i], \"answer\": answers[i]}\n",
    "#     data_dict[\"source\"].append(url+f'/{i}')\n",
    "#     data_dict[\"question\"].append(questions[i])\n",
    "#     data_dict[\"answer\"].append(answers[i])\n",
    "\n",
    "# faq_df = pd.concat([faq_df, pd.DataFrame(data=data_dict)])\n",
    "\n",
    "# faq_df"
   ]
  },
  {
   "cell_type": "code",
   "execution_count": 78,
   "metadata": {},
   "outputs": [
    {
     "data": {
      "text/plain": [
       "12"
      ]
     },
     "execution_count": 78,
     "metadata": {},
     "output_type": "execute_result"
    }
   ],
   "source": [
    "meb_dfs = list(map(get_qa_pairs, urls))\n",
    "len(meb_dfs)"
   ]
  },
  {
   "cell_type": "code",
   "execution_count": 79,
   "metadata": {},
   "outputs": [
    {
     "data": {
      "text/html": [
       "<div>\n",
       "<style scoped>\n",
       "    .dataframe tbody tr th:only-of-type {\n",
       "        vertical-align: middle;\n",
       "    }\n",
       "\n",
       "    .dataframe tbody tr th {\n",
       "        vertical-align: top;\n",
       "    }\n",
       "\n",
       "    .dataframe thead th {\n",
       "        text-align: right;\n",
       "    }\n",
       "</style>\n",
       "<table border=\"1\" class=\"dataframe\">\n",
       "  <thead>\n",
       "    <tr style=\"text-align: right;\">\n",
       "      <th></th>\n",
       "      <th>source</th>\n",
       "      <th>question</th>\n",
       "      <th>answer</th>\n",
       "    </tr>\n",
       "  </thead>\n",
       "  <tbody>\n",
       "    <tr>\n",
       "      <th>0</th>\n",
       "      <td>https://odsgm.meb.gov.tr/www/sss.php/0</td>\n",
       "      <td>Hangi sınıf ve derslerden ortak yazılı sınav y...</td>\n",
       "      <td>Ortak yazılı sınavların; Bakanlık tarafından ...</td>\n",
       "    </tr>\n",
       "    <tr>\n",
       "      <th>1</th>\n",
       "      <td>https://odsgm.meb.gov.tr/www/sss.php/1</td>\n",
       "      <td>Ortak yazılı sınavlarda sorular nasıl olacak?</td>\n",
       "      <td>Bu öğretim yılına mahsus olmak üzere Bakanlık...</td>\n",
       "    </tr>\n",
       "    <tr>\n",
       "      <th>2</th>\n",
       "      <td>https://odsgm.meb.gov.tr/www/sss.php/2</td>\n",
       "      <td>Ortak yazılı sınav uygulaması nasıl yapılacak?</td>\n",
       "      <td>Bakanlık tarafından yapılacak ortak yazılı sı...</td>\n",
       "    </tr>\n",
       "    <tr>\n",
       "      <th>3</th>\n",
       "      <td>https://odsgm.meb.gov.tr/www/sss.php/3</td>\n",
       "      <td>Ortak yazılı sınavların okul öğretmenleri tara...</td>\n",
       "      <td>Ülke ve il geneli ortak yazılı sınav uygulama...</td>\n",
       "    </tr>\n",
       "    <tr>\n",
       "      <th>4</th>\n",
       "      <td>https://odsgm.meb.gov.tr/www/sss.php/4</td>\n",
       "      <td>Ortak yazılı sınavların soru ve cevap anahtarl...</td>\n",
       "      <td>Bakanlık (ülke geneli ortak yazılı sınavlar) ...</td>\n",
       "    </tr>\n",
       "    <tr>\n",
       "      <th>...</th>\n",
       "      <td>...</td>\n",
       "      <td>...</td>\n",
       "      <td>...</td>\n",
       "    </tr>\n",
       "    <tr>\n",
       "      <th>893</th>\n",
       "      <td>http://hbogm.meb.gov.tr/www/sss.php/189</td>\n",
       "      <td>Milli Eğitim Bakanlığının açmış olduğu Emlak D...</td>\n",
       "      <td>Sayın ilgili, Gümrük ve Ticaret Bakanlığından...</td>\n",
       "    </tr>\n",
       "    <tr>\n",
       "      <th>894</th>\n",
       "      <td>http://hbogm.meb.gov.tr/www/sss.php/190</td>\n",
       "      <td>Fatura harici ödenek taleplerimi nasıl yapabil...</td>\n",
       "      <td>* Makine, Teçhizat ve donatım (06.1) taleple...</td>\n",
       "    </tr>\n",
       "    <tr>\n",
       "      <th>895</th>\n",
       "      <td>http://hbogm.meb.gov.tr/www/sss.php/191</td>\n",
       "      <td>Genel Müdürlüğümüz tarafından okul ve kurumlar...</td>\n",
       "      <td>Ödenek takip modülünden talep edilen faturala...</td>\n",
       "    </tr>\n",
       "    <tr>\n",
       "      <th>896</th>\n",
       "      <td>http://hbogm.meb.gov.tr/www/sss.php/192</td>\n",
       "      <td>Elektrik, su, doğalgaz, telefon, internet vb f...</td>\n",
       "      <td>Mebbis Ödenek Takip Modülü Fatura İşlemlerind...</td>\n",
       "    </tr>\n",
       "    <tr>\n",
       "      <th>897</th>\n",
       "      <td>http://hbogm.meb.gov.tr/www/sss.php/193</td>\n",
       "      <td>Hayat Boyu Öğrenme Genel Müdürlüğü Sıkça Sorul...</td>\n",
       "      <td>Üst kısımda yer alan  kategorilerde sorular v...</td>\n",
       "    </tr>\n",
       "  </tbody>\n",
       "</table>\n",
       "<p>898 rows × 3 columns</p>\n",
       "</div>"
      ],
      "text/plain": [
       "                                      source  \\\n",
       "0     https://odsgm.meb.gov.tr/www/sss.php/0   \n",
       "1     https://odsgm.meb.gov.tr/www/sss.php/1   \n",
       "2     https://odsgm.meb.gov.tr/www/sss.php/2   \n",
       "3     https://odsgm.meb.gov.tr/www/sss.php/3   \n",
       "4     https://odsgm.meb.gov.tr/www/sss.php/4   \n",
       "..                                       ...   \n",
       "893  http://hbogm.meb.gov.tr/www/sss.php/189   \n",
       "894  http://hbogm.meb.gov.tr/www/sss.php/190   \n",
       "895  http://hbogm.meb.gov.tr/www/sss.php/191   \n",
       "896  http://hbogm.meb.gov.tr/www/sss.php/192   \n",
       "897  http://hbogm.meb.gov.tr/www/sss.php/193   \n",
       "\n",
       "                                              question  \\\n",
       "0    Hangi sınıf ve derslerden ortak yazılı sınav y...   \n",
       "1        Ortak yazılı sınavlarda sorular nasıl olacak?   \n",
       "2       Ortak yazılı sınav uygulaması nasıl yapılacak?   \n",
       "3    Ortak yazılı sınavların okul öğretmenleri tara...   \n",
       "4    Ortak yazılı sınavların soru ve cevap anahtarl...   \n",
       "..                                                 ...   \n",
       "893  Milli Eğitim Bakanlığının açmış olduğu Emlak D...   \n",
       "894  Fatura harici ödenek taleplerimi nasıl yapabil...   \n",
       "895  Genel Müdürlüğümüz tarafından okul ve kurumlar...   \n",
       "896  Elektrik, su, doğalgaz, telefon, internet vb f...   \n",
       "897  Hayat Boyu Öğrenme Genel Müdürlüğü Sıkça Sorul...   \n",
       "\n",
       "                                                answer  \n",
       "0     Ortak yazılı sınavların; Bakanlık tarafından ...  \n",
       "1     Bu öğretim yılına mahsus olmak üzere Bakanlık...  \n",
       "2     Bakanlık tarafından yapılacak ortak yazılı sı...  \n",
       "3     Ülke ve il geneli ortak yazılı sınav uygulama...  \n",
       "4     Bakanlık (ülke geneli ortak yazılı sınavlar) ...  \n",
       "..                                                 ...  \n",
       "893   Sayın ilgili, Gümrük ve Ticaret Bakanlığından...  \n",
       "894    * Makine, Teçhizat ve donatım (06.1) taleple...  \n",
       "895   Ödenek takip modülünden talep edilen faturala...  \n",
       "896   Mebbis Ödenek Takip Modülü Fatura İşlemlerind...  \n",
       "897   Üst kısımda yer alan  kategorilerde sorular v...  \n",
       "\n",
       "[898 rows x 3 columns]"
      ]
     },
     "execution_count": 79,
     "metadata": {},
     "output_type": "execute_result"
    }
   ],
   "source": [
    "faq_df = pd.concat(meb_dfs)\n",
    "faq_df.reset_index(drop=True, inplace=True)\n",
    "faq_df"
   ]
  },
  {
   "cell_type": "code",
   "execution_count": 80,
   "metadata": {},
   "outputs": [],
   "source": [
    "faq_df.to_csv(\"meb_faq.csv\", index=False)"
   ]
  },
  {
   "cell_type": "code",
   "execution_count": 81,
   "metadata": {},
   "outputs": [],
   "source": [
    "driver.close()"
   ]
  }
 ],
 "metadata": {
  "kernelspec": {
   "display_name": "dsml",
   "language": "python",
   "name": "python3"
  },
  "language_info": {
   "codemirror_mode": {
    "name": "ipython",
    "version": 3
   },
   "file_extension": ".py",
   "mimetype": "text/x-python",
   "name": "python",
   "nbconvert_exporter": "python",
   "pygments_lexer": "ipython3",
   "version": "3.8.15"
  },
  "orig_nbformat": 4
 },
 "nbformat": 4,
 "nbformat_minor": 2
}
