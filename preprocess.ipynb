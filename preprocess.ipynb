{
 "cells": [
  {
   "cell_type": "code",
   "execution_count": 1,
   "metadata": {},
   "outputs": [],
   "source": [
    "from selenium import webdriver\n",
    "from bs4 import BeautifulSoup\n",
    "import pandas as pd\n",
    "import time\n",
    "from selenium.webdriver.common.by import By\n",
    "import re\n",
    "import os"
   ]
  },
  {
   "cell_type": "markdown",
   "metadata": {},
   "source": [
    "Automation to catch all csv files in scrapper"
   ]
  },
  {
   "cell_type": "code",
   "execution_count": 2,
   "metadata": {},
   "outputs": [],
   "source": [
    "directory = \"webScrapper/for_small_litgpt/\""
   ]
  },
  {
   "cell_type": "code",
   "execution_count": 3,
   "metadata": {},
   "outputs": [],
   "source": [
    "csv_file_paths = list()\n",
    "\n",
    "for filename in os.listdir(directory):\n",
    "    last_path = os.path.join(directory,filename)\n",
    "    csv_file_paths.append(last_path)"
   ]
  },
  {
   "cell_type": "code",
   "execution_count": 4,
   "metadata": {},
   "outputs": [],
   "source": [
    "df_try = pd.read_csv(directory+\"csv_OSYM.csv\")"
   ]
  },
  {
   "cell_type": "code",
   "execution_count": 5,
   "metadata": {},
   "outputs": [
    {
     "data": {
      "text/plain": [
       "0     ÖSYM Aday İşlemleri Sistemi (AİS) şifresi olma...\n",
       "1     ÖSYM Başvuru Merkezlerine gitmeden 2023-YKS’ye...\n",
       "2     ÖSYM Aday İşlemleri Sisteminde (AİS) güncel fo...\n",
       "3     ÖSYM Mobil uygulamasından 2023-YKS başvurusu y...\n",
       "4     2023 Yükseköğretim Kurumları Sınavına (2023-YK...\n",
       "                            ...                        \n",
       "78    2022-TYT puanım 200’ün üzerinde  2023-YKS’ye g...\n",
       "79    2022-TYT puanım 200’ün üzerinde  2023-YKS’ye g...\n",
       "80    2022-TYT puanım 200’ün üzerinde  2023-YKS’de b...\n",
       "81    TYT  SAY  SÖZ  EA veya DİL puanlarının hesapla...\n",
       "82    6 Şubat 2023 tarihli depremde  afet bölgesi il...\n",
       "Name: concept, Length: 83, dtype: object"
      ]
     },
     "execution_count": 5,
     "metadata": {},
     "output_type": "execute_result"
    }
   ],
   "source": [
    "df_try[\"concept\"]"
   ]
  },
  {
   "cell_type": "markdown",
   "metadata": {},
   "source": [
    "Dataframe Construction"
   ]
  },
  {
   "cell_type": "code",
   "execution_count": 6,
   "metadata": {},
   "outputs": [],
   "source": [
    "df = pd.concat(map(pd.read_csv,csv_file_paths))"
   ]
  },
  {
   "cell_type": "code",
   "execution_count": 7,
   "metadata": {},
   "outputs": [
    {
     "data": {
      "text/html": [
       "<div>\n",
       "<style scoped>\n",
       "    .dataframe tbody tr th:only-of-type {\n",
       "        vertical-align: middle;\n",
       "    }\n",
       "\n",
       "    .dataframe tbody tr th {\n",
       "        vertical-align: top;\n",
       "    }\n",
       "\n",
       "    .dataframe thead th {\n",
       "        text-align: right;\n",
       "    }\n",
       "</style>\n",
       "<table border=\"1\" class=\"dataframe\">\n",
       "  <thead>\n",
       "    <tr style=\"text-align: right;\">\n",
       "      <th></th>\n",
       "      <th>source</th>\n",
       "      <th>concept</th>\n",
       "      <th>description</th>\n",
       "    </tr>\n",
       "  </thead>\n",
       "  <tbody>\n",
       "    <tr>\n",
       "      <th>0</th>\n",
       "      <td>https://www.yok.gov.tr/iletisim/sss/1/1</td>\n",
       "      <td>ÖSYS'de özürlü öğrenci kontenjanı var mıdır?</td>\n",
       "      <td>Yurdumuzda bulunan yükseköğretim kurumlarına g...</td>\n",
       "    </tr>\n",
       "    <tr>\n",
       "      <th>1</th>\n",
       "      <td>https://www.yok.gov.tr/iletisim/sss/1/2</td>\n",
       "      <td>Meslek Yüksekokulu öğrencileri programdan fayd...</td>\n",
       "      <td>Evet</td>\n",
       "    </tr>\n",
       "    <tr>\n",
       "      <th>2</th>\n",
       "      <td>https://www.yok.gov.tr/iletisim/sss/1/3</td>\n",
       "      <td>Bologna Eşgüdüm Komisyonu ile ilgili hangi bil...</td>\n",
       "      <td>Üniversitenizin Bologna Eşgüdüm Komisyonu başk...</td>\n",
       "    </tr>\n",
       "    <tr>\n",
       "      <th>3</th>\n",
       "      <td>https://www.yok.gov.tr/iletisim/sss/1/4</td>\n",
       "      <td>Türkiye Bologna Sürecine üye olduğu için, bir ...</td>\n",
       "      <td>Hayır. Bologna Süreci doğrudan tanınmayı amaçl...</td>\n",
       "    </tr>\n",
       "    <tr>\n",
       "      <th>4</th>\n",
       "      <td>https://www.yok.gov.tr/iletisim/sss/1/5</td>\n",
       "      <td>Erasmus programıyla yurtdışına gitmek istiyoru...</td>\n",
       "      <td>Erasmus'un da dahil olduğu Avrupa Birliği Eğit...</td>\n",
       "    </tr>\n",
       "    <tr>\n",
       "      <th>...</th>\n",
       "      <td>...</td>\n",
       "      <td>...</td>\n",
       "      <td>...</td>\n",
       "    </tr>\n",
       "    <tr>\n",
       "      <th>78</th>\n",
       "      <td>https://osym.gov.tr/</td>\n",
       "      <td>2022-TYT puanım 200’ün üzerinde  2023-YKS’ye g...</td>\n",
       "      <td>Evet. Bu durumdaki adayların da 2023-YKS’ye gi...</td>\n",
       "    </tr>\n",
       "    <tr>\n",
       "      <th>79</th>\n",
       "      <td>https://osym.gov.tr/</td>\n",
       "      <td>2022-TYT puanım 200’ün üzerinde  2023-YKS’ye g...</td>\n",
       "      <td>Hayır. 2023 yılında sadece “Özel Yetenek Sınav...</td>\n",
       "    </tr>\n",
       "    <tr>\n",
       "      <th>80</th>\n",
       "      <td>https://osym.gov.tr/</td>\n",
       "      <td>2022-TYT puanım 200’ün üzerinde  2023-YKS’de b...</td>\n",
       "      <td>Hayır. 2022-TYT puanı 200 ve üzeri olan adayla...</td>\n",
       "    </tr>\n",
       "    <tr>\n",
       "      <th>81</th>\n",
       "      <td>https://osym.gov.tr/</td>\n",
       "      <td>TYT  SAY  SÖZ  EA veya DİL puanlarının hesapla...</td>\n",
       "      <td>Hayır. TYT  SAY  SÖZ  EA veya DİL puanlarının ...</td>\n",
       "    </tr>\n",
       "    <tr>\n",
       "      <th>82</th>\n",
       "      <td>https://osym.gov.tr/</td>\n",
       "      <td>6 Şubat 2023 tarihli depremde  afet bölgesi il...</td>\n",
       "      <td>6 Şubat 2023 tarihli depremde  afet bölgesi ed...</td>\n",
       "    </tr>\n",
       "  </tbody>\n",
       "</table>\n",
       "<p>1723 rows × 3 columns</p>\n",
       "</div>"
      ],
      "text/plain": [
       "                                     source  \\\n",
       "0   https://www.yok.gov.tr/iletisim/sss/1/1   \n",
       "1   https://www.yok.gov.tr/iletisim/sss/1/2   \n",
       "2   https://www.yok.gov.tr/iletisim/sss/1/3   \n",
       "3   https://www.yok.gov.tr/iletisim/sss/1/4   \n",
       "4   https://www.yok.gov.tr/iletisim/sss/1/5   \n",
       "..                                      ...   \n",
       "78                     https://osym.gov.tr/   \n",
       "79                     https://osym.gov.tr/   \n",
       "80                     https://osym.gov.tr/   \n",
       "81                     https://osym.gov.tr/   \n",
       "82                     https://osym.gov.tr/   \n",
       "\n",
       "                                              concept  \\\n",
       "0        ÖSYS'de özürlü öğrenci kontenjanı var mıdır?   \n",
       "1   Meslek Yüksekokulu öğrencileri programdan fayd...   \n",
       "2   Bologna Eşgüdüm Komisyonu ile ilgili hangi bil...   \n",
       "3   Türkiye Bologna Sürecine üye olduğu için, bir ...   \n",
       "4   Erasmus programıyla yurtdışına gitmek istiyoru...   \n",
       "..                                                ...   \n",
       "78  2022-TYT puanım 200’ün üzerinde  2023-YKS’ye g...   \n",
       "79  2022-TYT puanım 200’ün üzerinde  2023-YKS’ye g...   \n",
       "80  2022-TYT puanım 200’ün üzerinde  2023-YKS’de b...   \n",
       "81  TYT  SAY  SÖZ  EA veya DİL puanlarının hesapla...   \n",
       "82  6 Şubat 2023 tarihli depremde  afet bölgesi il...   \n",
       "\n",
       "                                          description  \n",
       "0   Yurdumuzda bulunan yükseköğretim kurumlarına g...  \n",
       "1                                                Evet  \n",
       "2   Üniversitenizin Bologna Eşgüdüm Komisyonu başk...  \n",
       "3   Hayır. Bologna Süreci doğrudan tanınmayı amaçl...  \n",
       "4   Erasmus'un da dahil olduğu Avrupa Birliği Eğit...  \n",
       "..                                                ...  \n",
       "78  Evet. Bu durumdaki adayların da 2023-YKS’ye gi...  \n",
       "79  Hayır. 2023 yılında sadece “Özel Yetenek Sınav...  \n",
       "80  Hayır. 2022-TYT puanı 200 ve üzeri olan adayla...  \n",
       "81  Hayır. TYT  SAY  SÖZ  EA veya DİL puanlarının ...  \n",
       "82  6 Şubat 2023 tarihli depremde  afet bölgesi ed...  \n",
       "\n",
       "[1723 rows x 3 columns]"
      ]
     },
     "execution_count": 7,
     "metadata": {},
     "output_type": "execute_result"
    }
   ],
   "source": [
    "df"
   ]
  },
  {
   "cell_type": "code",
   "execution_count": 8,
   "metadata": {},
   "outputs": [],
   "source": [
    "#df.drop(columns=[\"Unnamed: 0\"],axis=1,inplace=True)"
   ]
  },
  {
   "cell_type": "code",
   "execution_count": 9,
   "metadata": {},
   "outputs": [],
   "source": [
    "df = df.reset_index().drop(columns=[\"index\"],axis=1)"
   ]
  },
  {
   "cell_type": "code",
   "execution_count": 10,
   "metadata": {},
   "outputs": [
    {
     "data": {
      "text/html": [
       "<div>\n",
       "<style scoped>\n",
       "    .dataframe tbody tr th:only-of-type {\n",
       "        vertical-align: middle;\n",
       "    }\n",
       "\n",
       "    .dataframe tbody tr th {\n",
       "        vertical-align: top;\n",
       "    }\n",
       "\n",
       "    .dataframe thead th {\n",
       "        text-align: right;\n",
       "    }\n",
       "</style>\n",
       "<table border=\"1\" class=\"dataframe\">\n",
       "  <thead>\n",
       "    <tr style=\"text-align: right;\">\n",
       "      <th></th>\n",
       "      <th>source</th>\n",
       "      <th>concept</th>\n",
       "      <th>description</th>\n",
       "    </tr>\n",
       "  </thead>\n",
       "  <tbody>\n",
       "    <tr>\n",
       "      <th>0</th>\n",
       "      <td>https://www.yok.gov.tr/iletisim/sss/1/1</td>\n",
       "      <td>ÖSYS'de özürlü öğrenci kontenjanı var mıdır?</td>\n",
       "      <td>Yurdumuzda bulunan yükseköğretim kurumlarına g...</td>\n",
       "    </tr>\n",
       "    <tr>\n",
       "      <th>1</th>\n",
       "      <td>https://www.yok.gov.tr/iletisim/sss/1/2</td>\n",
       "      <td>Meslek Yüksekokulu öğrencileri programdan fayd...</td>\n",
       "      <td>Evet</td>\n",
       "    </tr>\n",
       "    <tr>\n",
       "      <th>2</th>\n",
       "      <td>https://www.yok.gov.tr/iletisim/sss/1/3</td>\n",
       "      <td>Bologna Eşgüdüm Komisyonu ile ilgili hangi bil...</td>\n",
       "      <td>Üniversitenizin Bologna Eşgüdüm Komisyonu başk...</td>\n",
       "    </tr>\n",
       "    <tr>\n",
       "      <th>3</th>\n",
       "      <td>https://www.yok.gov.tr/iletisim/sss/1/4</td>\n",
       "      <td>Türkiye Bologna Sürecine üye olduğu için, bir ...</td>\n",
       "      <td>Hayır. Bologna Süreci doğrudan tanınmayı amaçl...</td>\n",
       "    </tr>\n",
       "    <tr>\n",
       "      <th>4</th>\n",
       "      <td>https://www.yok.gov.tr/iletisim/sss/1/5</td>\n",
       "      <td>Erasmus programıyla yurtdışına gitmek istiyoru...</td>\n",
       "      <td>Erasmus'un da dahil olduğu Avrupa Birliği Eğit...</td>\n",
       "    </tr>\n",
       "    <tr>\n",
       "      <th>...</th>\n",
       "      <td>...</td>\n",
       "      <td>...</td>\n",
       "      <td>...</td>\n",
       "    </tr>\n",
       "    <tr>\n",
       "      <th>1718</th>\n",
       "      <td>https://osym.gov.tr/</td>\n",
       "      <td>2022-TYT puanım 200’ün üzerinde  2023-YKS’ye g...</td>\n",
       "      <td>Evet. Bu durumdaki adayların da 2023-YKS’ye gi...</td>\n",
       "    </tr>\n",
       "    <tr>\n",
       "      <th>1719</th>\n",
       "      <td>https://osym.gov.tr/</td>\n",
       "      <td>2022-TYT puanım 200’ün üzerinde  2023-YKS’ye g...</td>\n",
       "      <td>Hayır. 2023 yılında sadece “Özel Yetenek Sınav...</td>\n",
       "    </tr>\n",
       "    <tr>\n",
       "      <th>1720</th>\n",
       "      <td>https://osym.gov.tr/</td>\n",
       "      <td>2022-TYT puanım 200’ün üzerinde  2023-YKS’de b...</td>\n",
       "      <td>Hayır. 2022-TYT puanı 200 ve üzeri olan adayla...</td>\n",
       "    </tr>\n",
       "    <tr>\n",
       "      <th>1721</th>\n",
       "      <td>https://osym.gov.tr/</td>\n",
       "      <td>TYT  SAY  SÖZ  EA veya DİL puanlarının hesapla...</td>\n",
       "      <td>Hayır. TYT  SAY  SÖZ  EA veya DİL puanlarının ...</td>\n",
       "    </tr>\n",
       "    <tr>\n",
       "      <th>1722</th>\n",
       "      <td>https://osym.gov.tr/</td>\n",
       "      <td>6 Şubat 2023 tarihli depremde  afet bölgesi il...</td>\n",
       "      <td>6 Şubat 2023 tarihli depremde  afet bölgesi ed...</td>\n",
       "    </tr>\n",
       "  </tbody>\n",
       "</table>\n",
       "<p>1723 rows × 3 columns</p>\n",
       "</div>"
      ],
      "text/plain": [
       "                                       source  \\\n",
       "0     https://www.yok.gov.tr/iletisim/sss/1/1   \n",
       "1     https://www.yok.gov.tr/iletisim/sss/1/2   \n",
       "2     https://www.yok.gov.tr/iletisim/sss/1/3   \n",
       "3     https://www.yok.gov.tr/iletisim/sss/1/4   \n",
       "4     https://www.yok.gov.tr/iletisim/sss/1/5   \n",
       "...                                       ...   \n",
       "1718                     https://osym.gov.tr/   \n",
       "1719                     https://osym.gov.tr/   \n",
       "1720                     https://osym.gov.tr/   \n",
       "1721                     https://osym.gov.tr/   \n",
       "1722                     https://osym.gov.tr/   \n",
       "\n",
       "                                                concept  \\\n",
       "0          ÖSYS'de özürlü öğrenci kontenjanı var mıdır?   \n",
       "1     Meslek Yüksekokulu öğrencileri programdan fayd...   \n",
       "2     Bologna Eşgüdüm Komisyonu ile ilgili hangi bil...   \n",
       "3     Türkiye Bologna Sürecine üye olduğu için, bir ...   \n",
       "4     Erasmus programıyla yurtdışına gitmek istiyoru...   \n",
       "...                                                 ...   \n",
       "1718  2022-TYT puanım 200’ün üzerinde  2023-YKS’ye g...   \n",
       "1719  2022-TYT puanım 200’ün üzerinde  2023-YKS’ye g...   \n",
       "1720  2022-TYT puanım 200’ün üzerinde  2023-YKS’de b...   \n",
       "1721  TYT  SAY  SÖZ  EA veya DİL puanlarının hesapla...   \n",
       "1722  6 Şubat 2023 tarihli depremde  afet bölgesi il...   \n",
       "\n",
       "                                            description  \n",
       "0     Yurdumuzda bulunan yükseköğretim kurumlarına g...  \n",
       "1                                                  Evet  \n",
       "2     Üniversitenizin Bologna Eşgüdüm Komisyonu başk...  \n",
       "3     Hayır. Bologna Süreci doğrudan tanınmayı amaçl...  \n",
       "4     Erasmus'un da dahil olduğu Avrupa Birliği Eğit...  \n",
       "...                                                 ...  \n",
       "1718  Evet. Bu durumdaki adayların da 2023-YKS’ye gi...  \n",
       "1719  Hayır. 2023 yılında sadece “Özel Yetenek Sınav...  \n",
       "1720  Hayır. 2022-TYT puanı 200 ve üzeri olan adayla...  \n",
       "1721  Hayır. TYT  SAY  SÖZ  EA veya DİL puanlarının ...  \n",
       "1722  6 Şubat 2023 tarihli depremde  afet bölgesi ed...  \n",
       "\n",
       "[1723 rows x 3 columns]"
      ]
     },
     "execution_count": 10,
     "metadata": {},
     "output_type": "execute_result"
    }
   ],
   "source": [
    "df"
   ]
  },
  {
   "cell_type": "code",
   "execution_count": 11,
   "metadata": {},
   "outputs": [
    {
     "data": {
      "text/plain": [
       "source         0\n",
       "concept        1\n",
       "description    7\n",
       "dtype: int64"
      ]
     },
     "execution_count": 11,
     "metadata": {},
     "output_type": "execute_result"
    }
   ],
   "source": [
    "df.isnull().sum()"
   ]
  },
  {
   "cell_type": "code",
   "execution_count": 12,
   "metadata": {},
   "outputs": [],
   "source": [
    "df = df.dropna()"
   ]
  },
  {
   "cell_type": "code",
   "execution_count": 13,
   "metadata": {},
   "outputs": [],
   "source": [
    "#df[\"concept\"] = \"18 yaşının altındaki Türk öğrencilerin ve velilerinin sorularını yanıtlayan bir yapay zeka chatbotusun. Türkçe dilinde ilk ve ortaöğretim konuları ile Sebit'in Raunt Vitamin Vcloud ve Hızlıgo ürünleri hakkında cevap vermek için özelleştirildin. Eğitim ve Sebit'in eğitim teknolojileri çözümleri ile ilgili sorular dışında hiçbir soruya cevap verme. Argo küfür ve sinkaf içeren sorulara cevap verme bu tür sohbetlere devam etme. Sadece Türkçe cevap ver başka dillerde cevap verme. \"+df[\"concept\"]"
   ]
  },
  {
   "cell_type": "code",
   "execution_count": 14,
   "metadata": {},
   "outputs": [
    {
     "data": {
      "text/plain": [
       "\"ÖSYS'de özürlü öğrenci kontenjanı var mıdır?\""
      ]
     },
     "execution_count": 14,
     "metadata": {},
     "output_type": "execute_result"
    }
   ],
   "source": [
    "df[\"concept\"][0]\n"
   ]
  },
  {
   "cell_type": "markdown",
   "metadata": {},
   "source": [
    "Preprocess of V-Cloud"
   ]
  },
  {
   "cell_type": "code",
   "execution_count": 15,
   "metadata": {},
   "outputs": [],
   "source": [
    "def clearSpaces(strng):\n",
    "   strng = re.sub(\"\\.\\s{2,}\",\". \",strng)\n",
    "   if strng[-1] == \" \":\n",
    "      strng = strng.rstrip(strng[-1])\n",
    "   return(strng)"
   ]
  },
  {
   "cell_type": "code",
   "execution_count": 16,
   "metadata": {},
   "outputs": [
    {
     "name": "stderr",
     "output_type": "stream",
     "text": [
      "/tmp/ipykernel_273864/2151714713.py:1: SettingWithCopyWarning: \n",
      "A value is trying to be set on a copy of a slice from a DataFrame.\n",
      "Try using .loc[row_indexer,col_indexer] = value instead\n",
      "\n",
      "See the caveats in the documentation: https://pandas.pydata.org/pandas-docs/stable/user_guide/indexing.html#returning-a-view-versus-a-copy\n",
      "  df[\"description\"]=df[\"description\"].apply(clearSpaces)\n"
     ]
    }
   ],
   "source": [
    "df[\"description\"]=df[\"description\"].apply(clearSpaces)"
   ]
  },
  {
   "cell_type": "code",
   "execution_count": 17,
   "metadata": {},
   "outputs": [
    {
     "data": {
      "text/plain": [
       "\"ÖSYM'nin yaptığı Tıp Doktorluğu Diş Hekimliği ve Öğretmenlik alanlarındaki sınav sonuçları ÖSYM tarafından wep sitesinde yayınlanacaktır. Yükseköğretim Kurulunun diğer alandaki yaptığı (Mühendislik, Türk Dili, Hukuk vb.) sınav sonuçları Kurulumuz web sitesinde yayınlanmaktadır.\""
      ]
     },
     "execution_count": 17,
     "metadata": {},
     "output_type": "execute_result"
    }
   ],
   "source": [
    "df.iloc[41:72][\"description\"].iloc[7]"
   ]
  },
  {
   "cell_type": "markdown",
   "metadata": {},
   "source": [
    "System Message Column"
   ]
  },
  {
   "cell_type": "code",
   "execution_count": 18,
   "metadata": {},
   "outputs": [],
   "source": [
    "system_message = \"Sen Türkçe cevap veren yardımcı bir asistansın\""
   ]
  },
  {
   "cell_type": "code",
   "execution_count": 19,
   "metadata": {},
   "outputs": [
    {
     "name": "stderr",
     "output_type": "stream",
     "text": [
      "/tmp/ipykernel_273864/1121705871.py:1: SettingWithCopyWarning: \n",
      "A value is trying to be set on a copy of a slice from a DataFrame.\n",
      "Try using .loc[row_indexer,col_indexer] = value instead\n",
      "\n",
      "See the caveats in the documentation: https://pandas.pydata.org/pandas-docs/stable/user_guide/indexing.html#returning-a-view-versus-a-copy\n",
      "  df[\"system_message\"] = system_message\n"
     ]
    }
   ],
   "source": [
    "df[\"system_message\"] = system_message"
   ]
  },
  {
   "cell_type": "code",
   "execution_count": 20,
   "metadata": {},
   "outputs": [
    {
     "data": {
      "text/html": [
       "<div>\n",
       "<style scoped>\n",
       "    .dataframe tbody tr th:only-of-type {\n",
       "        vertical-align: middle;\n",
       "    }\n",
       "\n",
       "    .dataframe tbody tr th {\n",
       "        vertical-align: top;\n",
       "    }\n",
       "\n",
       "    .dataframe thead th {\n",
       "        text-align: right;\n",
       "    }\n",
       "</style>\n",
       "<table border=\"1\" class=\"dataframe\">\n",
       "  <thead>\n",
       "    <tr style=\"text-align: right;\">\n",
       "      <th></th>\n",
       "      <th>source</th>\n",
       "      <th>concept</th>\n",
       "      <th>description</th>\n",
       "      <th>system_message</th>\n",
       "    </tr>\n",
       "  </thead>\n",
       "  <tbody>\n",
       "    <tr>\n",
       "      <th>0</th>\n",
       "      <td>https://www.yok.gov.tr/iletisim/sss/1/1</td>\n",
       "      <td>ÖSYS'de özürlü öğrenci kontenjanı var mıdır?</td>\n",
       "      <td>Yurdumuzda bulunan yükseköğretim kurumlarına g...</td>\n",
       "      <td>Sen Türkçe cevap veren yardımcı bir asistansın</td>\n",
       "    </tr>\n",
       "    <tr>\n",
       "      <th>1</th>\n",
       "      <td>https://www.yok.gov.tr/iletisim/sss/1/2</td>\n",
       "      <td>Meslek Yüksekokulu öğrencileri programdan fayd...</td>\n",
       "      <td>Evet</td>\n",
       "      <td>Sen Türkçe cevap veren yardımcı bir asistansın</td>\n",
       "    </tr>\n",
       "    <tr>\n",
       "      <th>2</th>\n",
       "      <td>https://www.yok.gov.tr/iletisim/sss/1/3</td>\n",
       "      <td>Bologna Eşgüdüm Komisyonu ile ilgili hangi bil...</td>\n",
       "      <td>Üniversitenizin Bologna Eşgüdüm Komisyonu başk...</td>\n",
       "      <td>Sen Türkçe cevap veren yardımcı bir asistansın</td>\n",
       "    </tr>\n",
       "    <tr>\n",
       "      <th>3</th>\n",
       "      <td>https://www.yok.gov.tr/iletisim/sss/1/4</td>\n",
       "      <td>Türkiye Bologna Sürecine üye olduğu için, bir ...</td>\n",
       "      <td>Hayır. Bologna Süreci doğrudan tanınmayı amaçl...</td>\n",
       "      <td>Sen Türkçe cevap veren yardımcı bir asistansın</td>\n",
       "    </tr>\n",
       "    <tr>\n",
       "      <th>4</th>\n",
       "      <td>https://www.yok.gov.tr/iletisim/sss/1/5</td>\n",
       "      <td>Erasmus programıyla yurtdışına gitmek istiyoru...</td>\n",
       "      <td>Erasmus'un da dahil olduğu Avrupa Birliği Eğit...</td>\n",
       "      <td>Sen Türkçe cevap veren yardımcı bir asistansın</td>\n",
       "    </tr>\n",
       "    <tr>\n",
       "      <th>...</th>\n",
       "      <td>...</td>\n",
       "      <td>...</td>\n",
       "      <td>...</td>\n",
       "      <td>...</td>\n",
       "    </tr>\n",
       "    <tr>\n",
       "      <th>1718</th>\n",
       "      <td>https://osym.gov.tr/</td>\n",
       "      <td>2022-TYT puanım 200’ün üzerinde  2023-YKS’ye g...</td>\n",
       "      <td>Evet. Bu durumdaki adayların da 2023-YKS’ye gi...</td>\n",
       "      <td>Sen Türkçe cevap veren yardımcı bir asistansın</td>\n",
       "    </tr>\n",
       "    <tr>\n",
       "      <th>1719</th>\n",
       "      <td>https://osym.gov.tr/</td>\n",
       "      <td>2022-TYT puanım 200’ün üzerinde  2023-YKS’ye g...</td>\n",
       "      <td>Hayır. 2023 yılında sadece “Özel Yetenek Sınav...</td>\n",
       "      <td>Sen Türkçe cevap veren yardımcı bir asistansın</td>\n",
       "    </tr>\n",
       "    <tr>\n",
       "      <th>1720</th>\n",
       "      <td>https://osym.gov.tr/</td>\n",
       "      <td>2022-TYT puanım 200’ün üzerinde  2023-YKS’de b...</td>\n",
       "      <td>Hayır. 2022-TYT puanı 200 ve üzeri olan adayla...</td>\n",
       "      <td>Sen Türkçe cevap veren yardımcı bir asistansın</td>\n",
       "    </tr>\n",
       "    <tr>\n",
       "      <th>1721</th>\n",
       "      <td>https://osym.gov.tr/</td>\n",
       "      <td>TYT  SAY  SÖZ  EA veya DİL puanlarının hesapla...</td>\n",
       "      <td>Hayır. TYT  SAY  SÖZ  EA veya DİL puanlarının ...</td>\n",
       "      <td>Sen Türkçe cevap veren yardımcı bir asistansın</td>\n",
       "    </tr>\n",
       "    <tr>\n",
       "      <th>1722</th>\n",
       "      <td>https://osym.gov.tr/</td>\n",
       "      <td>6 Şubat 2023 tarihli depremde  afet bölgesi il...</td>\n",
       "      <td>6 Şubat 2023 tarihli depremde  afet bölgesi ed...</td>\n",
       "      <td>Sen Türkçe cevap veren yardımcı bir asistansın</td>\n",
       "    </tr>\n",
       "  </tbody>\n",
       "</table>\n",
       "<p>1715 rows × 4 columns</p>\n",
       "</div>"
      ],
      "text/plain": [
       "                                       source  \\\n",
       "0     https://www.yok.gov.tr/iletisim/sss/1/1   \n",
       "1     https://www.yok.gov.tr/iletisim/sss/1/2   \n",
       "2     https://www.yok.gov.tr/iletisim/sss/1/3   \n",
       "3     https://www.yok.gov.tr/iletisim/sss/1/4   \n",
       "4     https://www.yok.gov.tr/iletisim/sss/1/5   \n",
       "...                                       ...   \n",
       "1718                     https://osym.gov.tr/   \n",
       "1719                     https://osym.gov.tr/   \n",
       "1720                     https://osym.gov.tr/   \n",
       "1721                     https://osym.gov.tr/   \n",
       "1722                     https://osym.gov.tr/   \n",
       "\n",
       "                                                concept  \\\n",
       "0          ÖSYS'de özürlü öğrenci kontenjanı var mıdır?   \n",
       "1     Meslek Yüksekokulu öğrencileri programdan fayd...   \n",
       "2     Bologna Eşgüdüm Komisyonu ile ilgili hangi bil...   \n",
       "3     Türkiye Bologna Sürecine üye olduğu için, bir ...   \n",
       "4     Erasmus programıyla yurtdışına gitmek istiyoru...   \n",
       "...                                                 ...   \n",
       "1718  2022-TYT puanım 200’ün üzerinde  2023-YKS’ye g...   \n",
       "1719  2022-TYT puanım 200’ün üzerinde  2023-YKS’ye g...   \n",
       "1720  2022-TYT puanım 200’ün üzerinde  2023-YKS’de b...   \n",
       "1721  TYT  SAY  SÖZ  EA veya DİL puanlarının hesapla...   \n",
       "1722  6 Şubat 2023 tarihli depremde  afet bölgesi il...   \n",
       "\n",
       "                                            description  \\\n",
       "0     Yurdumuzda bulunan yükseköğretim kurumlarına g...   \n",
       "1                                                  Evet   \n",
       "2     Üniversitenizin Bologna Eşgüdüm Komisyonu başk...   \n",
       "3     Hayır. Bologna Süreci doğrudan tanınmayı amaçl...   \n",
       "4     Erasmus'un da dahil olduğu Avrupa Birliği Eğit...   \n",
       "...                                                 ...   \n",
       "1718  Evet. Bu durumdaki adayların da 2023-YKS’ye gi...   \n",
       "1719  Hayır. 2023 yılında sadece “Özel Yetenek Sınav...   \n",
       "1720  Hayır. 2022-TYT puanı 200 ve üzeri olan adayla...   \n",
       "1721  Hayır. TYT  SAY  SÖZ  EA veya DİL puanlarının ...   \n",
       "1722  6 Şubat 2023 tarihli depremde  afet bölgesi ed...   \n",
       "\n",
       "                                      system_message  \n",
       "0     Sen Türkçe cevap veren yardımcı bir asistansın  \n",
       "1     Sen Türkçe cevap veren yardımcı bir asistansın  \n",
       "2     Sen Türkçe cevap veren yardımcı bir asistansın  \n",
       "3     Sen Türkçe cevap veren yardımcı bir asistansın  \n",
       "4     Sen Türkçe cevap veren yardımcı bir asistansın  \n",
       "...                                              ...  \n",
       "1718  Sen Türkçe cevap veren yardımcı bir asistansın  \n",
       "1719  Sen Türkçe cevap veren yardımcı bir asistansın  \n",
       "1720  Sen Türkçe cevap veren yardımcı bir asistansın  \n",
       "1721  Sen Türkçe cevap veren yardımcı bir asistansın  \n",
       "1722  Sen Türkçe cevap veren yardımcı bir asistansın  \n",
       "\n",
       "[1715 rows x 4 columns]"
      ]
     },
     "execution_count": 20,
     "metadata": {},
     "output_type": "execute_result"
    }
   ],
   "source": [
    "df"
   ]
  },
  {
   "cell_type": "code",
   "execution_count": 21,
   "metadata": {},
   "outputs": [
    {
     "name": "stderr",
     "output_type": "stream",
     "text": [
      "/tmp/ipykernel_273864/1746843406.py:1: SettingWithCopyWarning: \n",
      "A value is trying to be set on a copy of a slice from a DataFrame.\n",
      "Try using .loc[row_indexer,col_indexer] = value instead\n",
      "\n",
      "See the caveats in the documentation: https://pandas.pydata.org/pandas-docs/stable/user_guide/indexing.html#returning-a-view-versus-a-copy\n",
      "  df[\"input\"] = \"\"\n"
     ]
    }
   ],
   "source": [
    "df[\"input\"] = \"\""
   ]
  },
  {
   "cell_type": "code",
   "execution_count": 22,
   "metadata": {},
   "outputs": [
    {
     "data": {
      "text/html": [
       "<div>\n",
       "<style scoped>\n",
       "    .dataframe tbody tr th:only-of-type {\n",
       "        vertical-align: middle;\n",
       "    }\n",
       "\n",
       "    .dataframe tbody tr th {\n",
       "        vertical-align: top;\n",
       "    }\n",
       "\n",
       "    .dataframe thead th {\n",
       "        text-align: right;\n",
       "    }\n",
       "</style>\n",
       "<table border=\"1\" class=\"dataframe\">\n",
       "  <thead>\n",
       "    <tr style=\"text-align: right;\">\n",
       "      <th></th>\n",
       "      <th>source</th>\n",
       "      <th>concept</th>\n",
       "      <th>description</th>\n",
       "      <th>system_message</th>\n",
       "      <th>input</th>\n",
       "    </tr>\n",
       "  </thead>\n",
       "  <tbody>\n",
       "    <tr>\n",
       "      <th>0</th>\n",
       "      <td>https://www.yok.gov.tr/iletisim/sss/1/1</td>\n",
       "      <td>ÖSYS'de özürlü öğrenci kontenjanı var mıdır?</td>\n",
       "      <td>Yurdumuzda bulunan yükseköğretim kurumlarına g...</td>\n",
       "      <td>Sen Türkçe cevap veren yardımcı bir asistansın</td>\n",
       "      <td></td>\n",
       "    </tr>\n",
       "    <tr>\n",
       "      <th>1</th>\n",
       "      <td>https://www.yok.gov.tr/iletisim/sss/1/2</td>\n",
       "      <td>Meslek Yüksekokulu öğrencileri programdan fayd...</td>\n",
       "      <td>Evet</td>\n",
       "      <td>Sen Türkçe cevap veren yardımcı bir asistansın</td>\n",
       "      <td></td>\n",
       "    </tr>\n",
       "    <tr>\n",
       "      <th>2</th>\n",
       "      <td>https://www.yok.gov.tr/iletisim/sss/1/3</td>\n",
       "      <td>Bologna Eşgüdüm Komisyonu ile ilgili hangi bil...</td>\n",
       "      <td>Üniversitenizin Bologna Eşgüdüm Komisyonu başk...</td>\n",
       "      <td>Sen Türkçe cevap veren yardımcı bir asistansın</td>\n",
       "      <td></td>\n",
       "    </tr>\n",
       "    <tr>\n",
       "      <th>3</th>\n",
       "      <td>https://www.yok.gov.tr/iletisim/sss/1/4</td>\n",
       "      <td>Türkiye Bologna Sürecine üye olduğu için, bir ...</td>\n",
       "      <td>Hayır. Bologna Süreci doğrudan tanınmayı amaçl...</td>\n",
       "      <td>Sen Türkçe cevap veren yardımcı bir asistansın</td>\n",
       "      <td></td>\n",
       "    </tr>\n",
       "    <tr>\n",
       "      <th>4</th>\n",
       "      <td>https://www.yok.gov.tr/iletisim/sss/1/5</td>\n",
       "      <td>Erasmus programıyla yurtdışına gitmek istiyoru...</td>\n",
       "      <td>Erasmus'un da dahil olduğu Avrupa Birliği Eğit...</td>\n",
       "      <td>Sen Türkçe cevap veren yardımcı bir asistansın</td>\n",
       "      <td></td>\n",
       "    </tr>\n",
       "  </tbody>\n",
       "</table>\n",
       "</div>"
      ],
      "text/plain": [
       "                                    source  \\\n",
       "0  https://www.yok.gov.tr/iletisim/sss/1/1   \n",
       "1  https://www.yok.gov.tr/iletisim/sss/1/2   \n",
       "2  https://www.yok.gov.tr/iletisim/sss/1/3   \n",
       "3  https://www.yok.gov.tr/iletisim/sss/1/4   \n",
       "4  https://www.yok.gov.tr/iletisim/sss/1/5   \n",
       "\n",
       "                                             concept  \\\n",
       "0       ÖSYS'de özürlü öğrenci kontenjanı var mıdır?   \n",
       "1  Meslek Yüksekokulu öğrencileri programdan fayd...   \n",
       "2  Bologna Eşgüdüm Komisyonu ile ilgili hangi bil...   \n",
       "3  Türkiye Bologna Sürecine üye olduğu için, bir ...   \n",
       "4  Erasmus programıyla yurtdışına gitmek istiyoru...   \n",
       "\n",
       "                                         description  \\\n",
       "0  Yurdumuzda bulunan yükseköğretim kurumlarına g...   \n",
       "1                                               Evet   \n",
       "2  Üniversitenizin Bologna Eşgüdüm Komisyonu başk...   \n",
       "3  Hayır. Bologna Süreci doğrudan tanınmayı amaçl...   \n",
       "4  Erasmus'un da dahil olduğu Avrupa Birliği Eğit...   \n",
       "\n",
       "                                   system_message input  \n",
       "0  Sen Türkçe cevap veren yardımcı bir asistansın        \n",
       "1  Sen Türkçe cevap veren yardımcı bir asistansın        \n",
       "2  Sen Türkçe cevap veren yardımcı bir asistansın        \n",
       "3  Sen Türkçe cevap veren yardımcı bir asistansın        \n",
       "4  Sen Türkçe cevap veren yardımcı bir asistansın        "
      ]
     },
     "execution_count": 22,
     "metadata": {},
     "output_type": "execute_result"
    }
   ],
   "source": [
    "df.head()"
   ]
  },
  {
   "cell_type": "markdown",
   "metadata": {},
   "source": [
    "Constructing Full Prompt Column"
   ]
  },
  {
   "cell_type": "code",
   "execution_count": 23,
   "metadata": {},
   "outputs": [],
   "source": [
    "def fullText(df,mode = \"hash\"):\n",
    "    mode_ = mode\n",
    "    if mode_ == \"hash\":\n",
    "        df[\"text\"] = \" ###System: \"+df[\"system_message\"]+\" ###User: \" + df[\"concept\"] + \" ###Assistant: \" + df[\"description\"]\n",
    "    elif mode_ ==\"tag\":\n",
    "        df[\"text\"] = \"<s>[INST]\"+\"<<SYS>>\"+df[\"system_message\"]+\"<</SYS>>\"+df[\"concept\"]+\"[/INST]\"+\" \"+df[\"description\"]+\"</s>\" \n",
    "    else:\n",
    "        print(\"Wrong mode\")\n",
    "        return\n",
    "\n",
    "    return df"
   ]
  },
  {
   "cell_type": "code",
   "execution_count": 24,
   "metadata": {},
   "outputs": [],
   "source": [
    "def fineTunePrepLitGPT(df):\n",
    "    df_new = pd.DataFrame()\n",
    "    df_new[\"instruction\"] = df[\"concept\"]\n",
    "    df_new[\"input\"] = df[\"input\"]\n",
    "    df_new[\"output\"] = df[\"description\"]\n",
    "\n",
    "    return df_new"
   ]
  },
  {
   "cell_type": "code",
   "execution_count": 25,
   "metadata": {},
   "outputs": [],
   "source": [
    "lit_gpt_df = fineTunePrepLitGPT(df)"
   ]
  },
  {
   "cell_type": "code",
   "execution_count": 26,
   "metadata": {},
   "outputs": [
    {
     "data": {
      "text/plain": [
       "instruction    Askerlik tecili yaptırmam lazım, denklik işlem...\n",
       "input                                                           \n",
       "output         Kurulumuza gerekçenizi belirten bir dilekçe il...\n",
       "Name: 23, dtype: object"
      ]
     },
     "execution_count": 26,
     "metadata": {},
     "output_type": "execute_result"
    }
   ],
   "source": [
    "lit_gpt_df.iloc[23]"
   ]
  },
  {
   "cell_type": "code",
   "execution_count": 27,
   "metadata": {},
   "outputs": [
    {
     "name": "stderr",
     "output_type": "stream",
     "text": [
      "/tmp/ipykernel_273864/2145021689.py:6: SettingWithCopyWarning: \n",
      "A value is trying to be set on a copy of a slice from a DataFrame.\n",
      "Try using .loc[row_indexer,col_indexer] = value instead\n",
      "\n",
      "See the caveats in the documentation: https://pandas.pydata.org/pandas-docs/stable/user_guide/indexing.html#returning-a-view-versus-a-copy\n",
      "  df[\"text\"] = \"<s>[INST]\"+\"<<SYS>>\"+df[\"system_message\"]+\"<</SYS>>\"+df[\"concept\"]+\"[/INST]\"+\" \"+df[\"description\"]+\"</s>\"\n"
     ]
    }
   ],
   "source": [
    "df_full_text = fullText(df,mode=\"tag\")"
   ]
  },
  {
   "cell_type": "code",
   "execution_count": 28,
   "metadata": {},
   "outputs": [
    {
     "data": {
      "text/html": [
       "<div>\n",
       "<style scoped>\n",
       "    .dataframe tbody tr th:only-of-type {\n",
       "        vertical-align: middle;\n",
       "    }\n",
       "\n",
       "    .dataframe tbody tr th {\n",
       "        vertical-align: top;\n",
       "    }\n",
       "\n",
       "    .dataframe thead th {\n",
       "        text-align: right;\n",
       "    }\n",
       "</style>\n",
       "<table border=\"1\" class=\"dataframe\">\n",
       "  <thead>\n",
       "    <tr style=\"text-align: right;\">\n",
       "      <th></th>\n",
       "      <th>source</th>\n",
       "      <th>concept</th>\n",
       "      <th>description</th>\n",
       "      <th>system_message</th>\n",
       "      <th>input</th>\n",
       "      <th>text</th>\n",
       "    </tr>\n",
       "  </thead>\n",
       "  <tbody>\n",
       "    <tr>\n",
       "      <th>0</th>\n",
       "      <td>https://www.yok.gov.tr/iletisim/sss/1/1</td>\n",
       "      <td>ÖSYS'de özürlü öğrenci kontenjanı var mıdır?</td>\n",
       "      <td>Yurdumuzda bulunan yükseköğretim kurumlarına g...</td>\n",
       "      <td>Sen Türkçe cevap veren yardımcı bir asistansın</td>\n",
       "      <td></td>\n",
       "      <td>&lt;s&gt;[INST]&lt;&lt;SYS&gt;&gt;Sen Türkçe cevap veren yardımc...</td>\n",
       "    </tr>\n",
       "    <tr>\n",
       "      <th>1</th>\n",
       "      <td>https://www.yok.gov.tr/iletisim/sss/1/2</td>\n",
       "      <td>Meslek Yüksekokulu öğrencileri programdan fayd...</td>\n",
       "      <td>Evet</td>\n",
       "      <td>Sen Türkçe cevap veren yardımcı bir asistansın</td>\n",
       "      <td></td>\n",
       "      <td>&lt;s&gt;[INST]&lt;&lt;SYS&gt;&gt;Sen Türkçe cevap veren yardımc...</td>\n",
       "    </tr>\n",
       "    <tr>\n",
       "      <th>2</th>\n",
       "      <td>https://www.yok.gov.tr/iletisim/sss/1/3</td>\n",
       "      <td>Bologna Eşgüdüm Komisyonu ile ilgili hangi bil...</td>\n",
       "      <td>Üniversitenizin Bologna Eşgüdüm Komisyonu başk...</td>\n",
       "      <td>Sen Türkçe cevap veren yardımcı bir asistansın</td>\n",
       "      <td></td>\n",
       "      <td>&lt;s&gt;[INST]&lt;&lt;SYS&gt;&gt;Sen Türkçe cevap veren yardımc...</td>\n",
       "    </tr>\n",
       "    <tr>\n",
       "      <th>3</th>\n",
       "      <td>https://www.yok.gov.tr/iletisim/sss/1/4</td>\n",
       "      <td>Türkiye Bologna Sürecine üye olduğu için, bir ...</td>\n",
       "      <td>Hayır. Bologna Süreci doğrudan tanınmayı amaçl...</td>\n",
       "      <td>Sen Türkçe cevap veren yardımcı bir asistansın</td>\n",
       "      <td></td>\n",
       "      <td>&lt;s&gt;[INST]&lt;&lt;SYS&gt;&gt;Sen Türkçe cevap veren yardımc...</td>\n",
       "    </tr>\n",
       "    <tr>\n",
       "      <th>4</th>\n",
       "      <td>https://www.yok.gov.tr/iletisim/sss/1/5</td>\n",
       "      <td>Erasmus programıyla yurtdışına gitmek istiyoru...</td>\n",
       "      <td>Erasmus'un da dahil olduğu Avrupa Birliği Eğit...</td>\n",
       "      <td>Sen Türkçe cevap veren yardımcı bir asistansın</td>\n",
       "      <td></td>\n",
       "      <td>&lt;s&gt;[INST]&lt;&lt;SYS&gt;&gt;Sen Türkçe cevap veren yardımc...</td>\n",
       "    </tr>\n",
       "    <tr>\n",
       "      <th>...</th>\n",
       "      <td>...</td>\n",
       "      <td>...</td>\n",
       "      <td>...</td>\n",
       "      <td>...</td>\n",
       "      <td>...</td>\n",
       "      <td>...</td>\n",
       "    </tr>\n",
       "    <tr>\n",
       "      <th>1718</th>\n",
       "      <td>https://osym.gov.tr/</td>\n",
       "      <td>2022-TYT puanım 200’ün üzerinde  2023-YKS’ye g...</td>\n",
       "      <td>Evet. Bu durumdaki adayların da 2023-YKS’ye gi...</td>\n",
       "      <td>Sen Türkçe cevap veren yardımcı bir asistansın</td>\n",
       "      <td></td>\n",
       "      <td>&lt;s&gt;[INST]&lt;&lt;SYS&gt;&gt;Sen Türkçe cevap veren yardımc...</td>\n",
       "    </tr>\n",
       "    <tr>\n",
       "      <th>1719</th>\n",
       "      <td>https://osym.gov.tr/</td>\n",
       "      <td>2022-TYT puanım 200’ün üzerinde  2023-YKS’ye g...</td>\n",
       "      <td>Hayır. 2023 yılında sadece “Özel Yetenek Sınav...</td>\n",
       "      <td>Sen Türkçe cevap veren yardımcı bir asistansın</td>\n",
       "      <td></td>\n",
       "      <td>&lt;s&gt;[INST]&lt;&lt;SYS&gt;&gt;Sen Türkçe cevap veren yardımc...</td>\n",
       "    </tr>\n",
       "    <tr>\n",
       "      <th>1720</th>\n",
       "      <td>https://osym.gov.tr/</td>\n",
       "      <td>2022-TYT puanım 200’ün üzerinde  2023-YKS’de b...</td>\n",
       "      <td>Hayır. 2022-TYT puanı 200 ve üzeri olan adayla...</td>\n",
       "      <td>Sen Türkçe cevap veren yardımcı bir asistansın</td>\n",
       "      <td></td>\n",
       "      <td>&lt;s&gt;[INST]&lt;&lt;SYS&gt;&gt;Sen Türkçe cevap veren yardımc...</td>\n",
       "    </tr>\n",
       "    <tr>\n",
       "      <th>1721</th>\n",
       "      <td>https://osym.gov.tr/</td>\n",
       "      <td>TYT  SAY  SÖZ  EA veya DİL puanlarının hesapla...</td>\n",
       "      <td>Hayır. TYT  SAY  SÖZ  EA veya DİL puanlarının ...</td>\n",
       "      <td>Sen Türkçe cevap veren yardımcı bir asistansın</td>\n",
       "      <td></td>\n",
       "      <td>&lt;s&gt;[INST]&lt;&lt;SYS&gt;&gt;Sen Türkçe cevap veren yardımc...</td>\n",
       "    </tr>\n",
       "    <tr>\n",
       "      <th>1722</th>\n",
       "      <td>https://osym.gov.tr/</td>\n",
       "      <td>6 Şubat 2023 tarihli depremde  afet bölgesi il...</td>\n",
       "      <td>6 Şubat 2023 tarihli depremde  afet bölgesi ed...</td>\n",
       "      <td>Sen Türkçe cevap veren yardımcı bir asistansın</td>\n",
       "      <td></td>\n",
       "      <td>&lt;s&gt;[INST]&lt;&lt;SYS&gt;&gt;Sen Türkçe cevap veren yardımc...</td>\n",
       "    </tr>\n",
       "  </tbody>\n",
       "</table>\n",
       "<p>1715 rows × 6 columns</p>\n",
       "</div>"
      ],
      "text/plain": [
       "                                       source  \\\n",
       "0     https://www.yok.gov.tr/iletisim/sss/1/1   \n",
       "1     https://www.yok.gov.tr/iletisim/sss/1/2   \n",
       "2     https://www.yok.gov.tr/iletisim/sss/1/3   \n",
       "3     https://www.yok.gov.tr/iletisim/sss/1/4   \n",
       "4     https://www.yok.gov.tr/iletisim/sss/1/5   \n",
       "...                                       ...   \n",
       "1718                     https://osym.gov.tr/   \n",
       "1719                     https://osym.gov.tr/   \n",
       "1720                     https://osym.gov.tr/   \n",
       "1721                     https://osym.gov.tr/   \n",
       "1722                     https://osym.gov.tr/   \n",
       "\n",
       "                                                concept  \\\n",
       "0          ÖSYS'de özürlü öğrenci kontenjanı var mıdır?   \n",
       "1     Meslek Yüksekokulu öğrencileri programdan fayd...   \n",
       "2     Bologna Eşgüdüm Komisyonu ile ilgili hangi bil...   \n",
       "3     Türkiye Bologna Sürecine üye olduğu için, bir ...   \n",
       "4     Erasmus programıyla yurtdışına gitmek istiyoru...   \n",
       "...                                                 ...   \n",
       "1718  2022-TYT puanım 200’ün üzerinde  2023-YKS’ye g...   \n",
       "1719  2022-TYT puanım 200’ün üzerinde  2023-YKS’ye g...   \n",
       "1720  2022-TYT puanım 200’ün üzerinde  2023-YKS’de b...   \n",
       "1721  TYT  SAY  SÖZ  EA veya DİL puanlarının hesapla...   \n",
       "1722  6 Şubat 2023 tarihli depremde  afet bölgesi il...   \n",
       "\n",
       "                                            description  \\\n",
       "0     Yurdumuzda bulunan yükseköğretim kurumlarına g...   \n",
       "1                                                  Evet   \n",
       "2     Üniversitenizin Bologna Eşgüdüm Komisyonu başk...   \n",
       "3     Hayır. Bologna Süreci doğrudan tanınmayı amaçl...   \n",
       "4     Erasmus'un da dahil olduğu Avrupa Birliği Eğit...   \n",
       "...                                                 ...   \n",
       "1718  Evet. Bu durumdaki adayların da 2023-YKS’ye gi...   \n",
       "1719  Hayır. 2023 yılında sadece “Özel Yetenek Sınav...   \n",
       "1720  Hayır. 2022-TYT puanı 200 ve üzeri olan adayla...   \n",
       "1721  Hayır. TYT  SAY  SÖZ  EA veya DİL puanlarının ...   \n",
       "1722  6 Şubat 2023 tarihli depremde  afet bölgesi ed...   \n",
       "\n",
       "                                      system_message input  \\\n",
       "0     Sen Türkçe cevap veren yardımcı bir asistansın         \n",
       "1     Sen Türkçe cevap veren yardımcı bir asistansın         \n",
       "2     Sen Türkçe cevap veren yardımcı bir asistansın         \n",
       "3     Sen Türkçe cevap veren yardımcı bir asistansın         \n",
       "4     Sen Türkçe cevap veren yardımcı bir asistansın         \n",
       "...                                              ...   ...   \n",
       "1718  Sen Türkçe cevap veren yardımcı bir asistansın         \n",
       "1719  Sen Türkçe cevap veren yardımcı bir asistansın         \n",
       "1720  Sen Türkçe cevap veren yardımcı bir asistansın         \n",
       "1721  Sen Türkçe cevap veren yardımcı bir asistansın         \n",
       "1722  Sen Türkçe cevap veren yardımcı bir asistansın         \n",
       "\n",
       "                                                   text  \n",
       "0     <s>[INST]<<SYS>>Sen Türkçe cevap veren yardımc...  \n",
       "1     <s>[INST]<<SYS>>Sen Türkçe cevap veren yardımc...  \n",
       "2     <s>[INST]<<SYS>>Sen Türkçe cevap veren yardımc...  \n",
       "3     <s>[INST]<<SYS>>Sen Türkçe cevap veren yardımc...  \n",
       "4     <s>[INST]<<SYS>>Sen Türkçe cevap veren yardımc...  \n",
       "...                                                 ...  \n",
       "1718  <s>[INST]<<SYS>>Sen Türkçe cevap veren yardımc...  \n",
       "1719  <s>[INST]<<SYS>>Sen Türkçe cevap veren yardımc...  \n",
       "1720  <s>[INST]<<SYS>>Sen Türkçe cevap veren yardımc...  \n",
       "1721  <s>[INST]<<SYS>>Sen Türkçe cevap veren yardımc...  \n",
       "1722  <s>[INST]<<SYS>>Sen Türkçe cevap veren yardımc...  \n",
       "\n",
       "[1715 rows x 6 columns]"
      ]
     },
     "execution_count": 28,
     "metadata": {},
     "output_type": "execute_result"
    }
   ],
   "source": [
    "df_full_text"
   ]
  },
  {
   "cell_type": "code",
   "execution_count": 29,
   "metadata": {},
   "outputs": [],
   "source": [
    "full_text = df_full_text[\"text\"]"
   ]
  },
  {
   "cell_type": "code",
   "execution_count": 30,
   "metadata": {},
   "outputs": [],
   "source": [
    "full_text.to_csv(\"data/fine_tune_data.csv\")"
   ]
  },
  {
   "cell_type": "code",
   "execution_count": 31,
   "metadata": {},
   "outputs": [],
   "source": [
    "lit_gpt_df.to_csv(\"data/lit_gpt_fine_tune_data.csv\",index=False)"
   ]
  },
  {
   "cell_type": "code",
   "execution_count": 32,
   "metadata": {},
   "outputs": [],
   "source": [
    "full_text=full_text.dropna()"
   ]
  },
  {
   "cell_type": "code",
   "execution_count": 33,
   "metadata": {},
   "outputs": [
    {
     "data": {
      "text/plain": [
       "0"
      ]
     },
     "execution_count": 33,
     "metadata": {},
     "output_type": "execute_result"
    }
   ],
   "source": [
    "full_text.isnull().sum()"
   ]
  },
  {
   "cell_type": "markdown",
   "metadata": {},
   "source": [
    "Counting Tokens"
   ]
  },
  {
   "cell_type": "code",
   "execution_count": 34,
   "metadata": {},
   "outputs": [],
   "source": [
    "import nltk\n",
    "import tiktoken"
   ]
  },
  {
   "cell_type": "code",
   "execution_count": 35,
   "metadata": {},
   "outputs": [],
   "source": [
    "token_num_with_tags = 0\n",
    "token_num_without_tags = 0\n",
    "for row in full_text:\n",
    "    tokens = nltk.word_tokenize(row)\n",
    "    token_num_with_tags += len(tokens)\n",
    "    token_num_without_tags += (len(tokens)-22) #Number of tokens coming from tags each row."
   ]
  },
  {
   "cell_type": "code",
   "execution_count": 36,
   "metadata": {},
   "outputs": [
    {
     "name": "stdout",
     "output_type": "stream",
     "text": [
      "Number of total tokens without tags:  119532\n",
      "Number of total tokens with tags:  157262\n"
     ]
    }
   ],
   "source": [
    "print(\"Number of total tokens without tags: \",token_num_without_tags)\n",
    "print(\"Number of total tokens with tags: \",token_num_with_tags)"
   ]
  },
  {
   "cell_type": "code",
   "execution_count": null,
   "metadata": {},
   "outputs": [],
   "source": []
  }
 ],
 "metadata": {
  "kernelspec": {
   "display_name": "base",
   "language": "python",
   "name": "python3"
  },
  "language_info": {
   "codemirror_mode": {
    "name": "ipython",
    "version": 3
   },
   "file_extension": ".py",
   "mimetype": "text/x-python",
   "name": "python",
   "nbconvert_exporter": "python",
   "pygments_lexer": "ipython3",
   "version": "3.11.4"
  },
  "orig_nbformat": 4
 },
 "nbformat": 4,
 "nbformat_minor": 2
}
