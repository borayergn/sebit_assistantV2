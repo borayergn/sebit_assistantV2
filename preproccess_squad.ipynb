{
 "cells": [
  {
   "cell_type": "code",
   "execution_count": 1,
   "metadata": {},
   "outputs": [],
   "source": [
    "import pandas as pd\n",
    "import json"
   ]
  },
  {
   "cell_type": "code",
   "execution_count": 2,
   "metadata": {},
   "outputs": [],
   "source": [
    "f = open(\"SQuAD_JSON/train-tr-v1.1.json\")"
   ]
  },
  {
   "cell_type": "code",
   "execution_count": 3,
   "metadata": {},
   "outputs": [],
   "source": [
    "raw_json = json.load(f)"
   ]
  },
  {
   "cell_type": "code",
   "execution_count": 4,
   "metadata": {},
   "outputs": [],
   "source": [
    "f = open(\"SQuAD_JSON/dev-tr-v1.1.json\")"
   ]
  },
  {
   "cell_type": "code",
   "execution_count": 5,
   "metadata": {},
   "outputs": [],
   "source": [
    "raw_json_dev = json.load(f)"
   ]
  },
  {
   "cell_type": "code",
   "execution_count": 6,
   "metadata": {},
   "outputs": [],
   "source": [
    "f = open(\"TQuAD_JSON/train-v0.1.json\")"
   ]
  },
  {
   "cell_type": "code",
   "execution_count": 7,
   "metadata": {},
   "outputs": [],
   "source": [
    "raw_json_T = json.load(f)"
   ]
  },
  {
   "cell_type": "code",
   "execution_count": 8,
   "metadata": {},
   "outputs": [],
   "source": [
    "f = open(\"TQuAD_JSON/dev-v0.1.json\")"
   ]
  },
  {
   "cell_type": "code",
   "execution_count": 9,
   "metadata": {},
   "outputs": [],
   "source": [
    "raw_json_T_dev = json.load(f)"
   ]
  },
  {
   "cell_type": "code",
   "execution_count": 10,
   "metadata": {},
   "outputs": [
    {
     "data": {
      "text/plain": [
       "'1.1'"
      ]
     },
     "execution_count": 10,
     "metadata": {},
     "output_type": "execute_result"
    }
   ],
   "source": [
    "raw_json[\"version\"]"
   ]
  },
  {
   "cell_type": "code",
   "execution_count": 11,
   "metadata": {},
   "outputs": [],
   "source": [
    "raw_json = raw_json[\"data\"]"
   ]
  },
  {
   "cell_type": "markdown",
   "metadata": {},
   "source": [
    "Reaching Down The QAs"
   ]
  },
  {
   "cell_type": "markdown",
   "metadata": {},
   "source": [
    "SQUAD Train Data"
   ]
  },
  {
   "cell_type": "code",
   "execution_count": 12,
   "metadata": {},
   "outputs": [
    {
     "name": "stdout",
     "output_type": "stream",
     "text": [
      "Total # of qa pairs: 40014\n",
      "Len Question column: 40014\n",
      "Len Answer column: 40014\n"
     ]
    }
   ],
   "source": [
    "counter = 0\n",
    "question_column = []\n",
    "answer_column = []\n",
    "for doc in raw_json:\n",
    "    for paragraph in doc[\"paragraphs\"]:\n",
    "        for qas in paragraph[\"qas\"]:\n",
    "            question_column.append(qas[\"question\"])\n",
    "            answer_column.append(qas[\"answers\"][0][\"text\"])\n",
    "            \n",
    "            counter+=1\n",
    "\n",
    "print(\"Total # of qa pairs:\",counter)\n",
    "print(\"Len Question column:\",len(question_column))\n",
    "print(\"Len Answer column:\",len(answer_column))\n",
    "\n",
    "df = pd.DataFrame({\"source\":\"SQuAD Dataset\",\"concept\":question_column,\"description\":answer_column})\n"
   ]
  },
  {
   "cell_type": "code",
   "execution_count": 13,
   "metadata": {},
   "outputs": [
    {
     "data": {
      "text/html": [
       "<div>\n",
       "<style scoped>\n",
       "    .dataframe tbody tr th:only-of-type {\n",
       "        vertical-align: middle;\n",
       "    }\n",
       "\n",
       "    .dataframe tbody tr th {\n",
       "        vertical-align: top;\n",
       "    }\n",
       "\n",
       "    .dataframe thead th {\n",
       "        text-align: right;\n",
       "    }\n",
       "</style>\n",
       "<table border=\"1\" class=\"dataframe\">\n",
       "  <thead>\n",
       "    <tr style=\"text-align: right;\">\n",
       "      <th></th>\n",
       "      <th>source</th>\n",
       "      <th>concept</th>\n",
       "      <th>description</th>\n",
       "    </tr>\n",
       "  </thead>\n",
       "  <tbody>\n",
       "    <tr>\n",
       "      <th>0</th>\n",
       "      <td>SQuAD Dataset</td>\n",
       "      <td>Meryem Ana'nın 1858'de Lourdes Fransa'da kime ...</td>\n",
       "      <td>Saint Bernadette Soubirous</td>\n",
       "    </tr>\n",
       "    <tr>\n",
       "      <th>1</th>\n",
       "      <td>SQuAD Dataset</td>\n",
       "      <td>Notre dame Scholastic Dergisi ne zaman yayınla...</td>\n",
       "      <td>Eylül 1876</td>\n",
       "    </tr>\n",
       "    <tr>\n",
       "      <th>2</th>\n",
       "      <td>SQuAD Dataset</td>\n",
       "      <td>Notre Dame'deki günlük öğrenci makalesine ne d...</td>\n",
       "      <td>Gözlemci</td>\n",
       "    </tr>\n",
       "    <tr>\n",
       "      <th>3</th>\n",
       "      <td>SQuAD Dataset</td>\n",
       "      <td>Notre Dame'da kaç tane öğrenci haber makalesi ...</td>\n",
       "      <td>üç</td>\n",
       "    </tr>\n",
       "    <tr>\n",
       "      <th>4</th>\n",
       "      <td>SQuAD Dataset</td>\n",
       "      <td>Common Sense öğrenci notu hangi yılda Notre Da...</td>\n",
       "      <td>1987</td>\n",
       "    </tr>\n",
       "    <tr>\n",
       "      <th>...</th>\n",
       "      <td>...</td>\n",
       "      <td>...</td>\n",
       "      <td>...</td>\n",
       "    </tr>\n",
       "    <tr>\n",
       "      <th>40009</th>\n",
       "      <td>SQuAD Dataset</td>\n",
       "      <td>Prithvi Otoyolu Katmandu'dan hangi yöne gidiyor?</td>\n",
       "      <td>batı</td>\n",
       "    </tr>\n",
       "    <tr>\n",
       "      <th>40010</th>\n",
       "      <td>SQuAD Dataset</td>\n",
       "      <td>Eğer biri Katmandu'dan kuzeye gitmek isterse, ...</td>\n",
       "      <td>Araniko</td>\n",
       "    </tr>\n",
       "    <tr>\n",
       "      <th>40011</th>\n",
       "      <td>SQuAD Dataset</td>\n",
       "      <td>Nepal'in uluslararası seyahat için birincil ha...</td>\n",
       "      <td>Tribhuvan Uluslararası Havaalanı</td>\n",
       "    </tr>\n",
       "    <tr>\n",
       "      <th>40012</th>\n",
       "      <td>SQuAD Dataset</td>\n",
       "      <td>Katmandu'nun merkezinden başlayarak, Tribhuvan...</td>\n",
       "      <td>6</td>\n",
       "    </tr>\n",
       "    <tr>\n",
       "      <th>40013</th>\n",
       "      <td>SQuAD Dataset</td>\n",
       "      <td>Uluslararası havayolları için kaç havayolu Tri...</td>\n",
       "      <td>22</td>\n",
       "    </tr>\n",
       "  </tbody>\n",
       "</table>\n",
       "<p>40014 rows × 3 columns</p>\n",
       "</div>"
      ],
      "text/plain": [
       "              source                                            concept  \\\n",
       "0      SQuAD Dataset  Meryem Ana'nın 1858'de Lourdes Fransa'da kime ...   \n",
       "1      SQuAD Dataset  Notre dame Scholastic Dergisi ne zaman yayınla...   \n",
       "2      SQuAD Dataset  Notre Dame'deki günlük öğrenci makalesine ne d...   \n",
       "3      SQuAD Dataset  Notre Dame'da kaç tane öğrenci haber makalesi ...   \n",
       "4      SQuAD Dataset  Common Sense öğrenci notu hangi yılda Notre Da...   \n",
       "...              ...                                                ...   \n",
       "40009  SQuAD Dataset   Prithvi Otoyolu Katmandu'dan hangi yöne gidiyor?   \n",
       "40010  SQuAD Dataset  Eğer biri Katmandu'dan kuzeye gitmek isterse, ...   \n",
       "40011  SQuAD Dataset  Nepal'in uluslararası seyahat için birincil ha...   \n",
       "40012  SQuAD Dataset  Katmandu'nun merkezinden başlayarak, Tribhuvan...   \n",
       "40013  SQuAD Dataset  Uluslararası havayolları için kaç havayolu Tri...   \n",
       "\n",
       "                            description  \n",
       "0            Saint Bernadette Soubirous  \n",
       "1                            Eylül 1876  \n",
       "2                              Gözlemci  \n",
       "3                                    üç  \n",
       "4                                  1987  \n",
       "...                                 ...  \n",
       "40009                              batı  \n",
       "40010                           Araniko  \n",
       "40011  Tribhuvan Uluslararası Havaalanı  \n",
       "40012                                 6  \n",
       "40013                                22  \n",
       "\n",
       "[40014 rows x 3 columns]"
      ]
     },
     "execution_count": 13,
     "metadata": {},
     "output_type": "execute_result"
    }
   ],
   "source": [
    "df"
   ]
  },
  {
   "cell_type": "markdown",
   "metadata": {},
   "source": [
    "SQUAD Dev Data"
   ]
  },
  {
   "cell_type": "code",
   "execution_count": 19,
   "metadata": {},
   "outputs": [
    {
     "name": "stdout",
     "output_type": "stream",
     "text": [
      "Total # of qa pairs: 5858\n",
      "Len Question column: 5858\n",
      "Len Answer column: 5858\n"
     ]
    }
   ],
   "source": [
    "counter = 0\n",
    "question_column = []\n",
    "answer_column = []\n",
    "for doc in raw_json_dev[\"data\"]:\n",
    "    for paragraph in doc[\"paragraphs\"]:\n",
    "        for qas in paragraph[\"qas\"]:\n",
    "            question_column.append(qas[\"question\"])\n",
    "            answer_column.append(qas[\"answers\"][0][\"text\"])\n",
    "            \n",
    "            counter+=1\n",
    "\n",
    "print(\"Total # of qa pairs:\",counter)\n",
    "print(\"Len Question column:\",len(question_column))\n",
    "print(\"Len Answer column:\",len(answer_column))\n",
    "\n",
    "df_dev = pd.DataFrame({\"source\":\"SQuAD Dataset\",\"concept\":question_column,\"description\":answer_column})"
   ]
  },
  {
   "cell_type": "code",
   "execution_count": 20,
   "metadata": {},
   "outputs": [
    {
     "data": {
      "text/html": [
       "<div>\n",
       "<style scoped>\n",
       "    .dataframe tbody tr th:only-of-type {\n",
       "        vertical-align: middle;\n",
       "    }\n",
       "\n",
       "    .dataframe tbody tr th {\n",
       "        vertical-align: top;\n",
       "    }\n",
       "\n",
       "    .dataframe thead th {\n",
       "        text-align: right;\n",
       "    }\n",
       "</style>\n",
       "<table border=\"1\" class=\"dataframe\">\n",
       "  <thead>\n",
       "    <tr style=\"text-align: right;\">\n",
       "      <th></th>\n",
       "      <th>source</th>\n",
       "      <th>concept</th>\n",
       "      <th>description</th>\n",
       "    </tr>\n",
       "  </thead>\n",
       "  <tbody>\n",
       "    <tr>\n",
       "      <th>0</th>\n",
       "      <td>SQuAD Dataset</td>\n",
       "      <td>Super Bowl 50'de hangi NFL takımı AFC'yi temsi...</td>\n",
       "      <td>Denver Broncos</td>\n",
       "    </tr>\n",
       "    <tr>\n",
       "      <th>1</th>\n",
       "      <td>SQuAD Dataset</td>\n",
       "      <td>Super Bowl 50'de hangi NFL takımı NFC'yi temsi...</td>\n",
       "      <td>Carolina Panthers</td>\n",
       "    </tr>\n",
       "    <tr>\n",
       "      <th>2</th>\n",
       "      <td>SQuAD Dataset</td>\n",
       "      <td>Hangi NFL takımı Super Bowl 50'yi kazandı?</td>\n",
       "      <td>Denver Broncos</td>\n",
       "    </tr>\n",
       "    <tr>\n",
       "      <th>3</th>\n",
       "      <td>SQuAD Dataset</td>\n",
       "      <td>Super Bowl'un 50. yıldönümünü vurgulamak için ...</td>\n",
       "      <td>altın</td>\n",
       "    </tr>\n",
       "    <tr>\n",
       "      <th>4</th>\n",
       "      <td>SQuAD Dataset</td>\n",
       "      <td>Super Bowl 50'nin teması neydi?</td>\n",
       "      <td>\"altın yıldönümü\"</td>\n",
       "    </tr>\n",
       "    <tr>\n",
       "      <th>...</th>\n",
       "      <td>...</td>\n",
       "      <td>...</td>\n",
       "      <td>...</td>\n",
       "    </tr>\n",
       "    <tr>\n",
       "      <th>5853</th>\n",
       "      <td>SQuAD Dataset</td>\n",
       "      <td>Makroskopik kapalı sistem enerjilerini ne deği...</td>\n",
       "      <td>sistemin iç enerjileri</td>\n",
       "    </tr>\n",
       "    <tr>\n",
       "      <th>5854</th>\n",
       "      <td>SQuAD Dataset</td>\n",
       "      <td>Kapalı sistem ısı değişimiyle ilişkili termodi...</td>\n",
       "      <td>İkinci</td>\n",
       "    </tr>\n",
       "    <tr>\n",
       "      <th>5855</th>\n",
       "      <td>SQuAD Dataset</td>\n",
       "      <td>Newton'dan daha az kullanılan metrik terim nedir?</td>\n",
       "      <td>kilogram-kuvvet (kgf)</td>\n",
       "    </tr>\n",
       "    <tr>\n",
       "      <th>5856</th>\n",
       "      <td>SQuAD Dataset</td>\n",
       "      <td>Kilogram-kuvvet bazen olarak ifade edilen nedir?</td>\n",
       "      <td>kilopond</td>\n",
       "    </tr>\n",
       "    <tr>\n",
       "      <th>5857</th>\n",
       "      <td>SQuAD Dataset</td>\n",
       "      <td>Bin Newton'a nadiren kullanılan kuvvet birimi ...</td>\n",
       "      <td>sthène</td>\n",
       "    </tr>\n",
       "  </tbody>\n",
       "</table>\n",
       "<p>5858 rows × 3 columns</p>\n",
       "</div>"
      ],
      "text/plain": [
       "             source                                            concept  \\\n",
       "0     SQuAD Dataset  Super Bowl 50'de hangi NFL takımı AFC'yi temsi...   \n",
       "1     SQuAD Dataset  Super Bowl 50'de hangi NFL takımı NFC'yi temsi...   \n",
       "2     SQuAD Dataset         Hangi NFL takımı Super Bowl 50'yi kazandı?   \n",
       "3     SQuAD Dataset  Super Bowl'un 50. yıldönümünü vurgulamak için ...   \n",
       "4     SQuAD Dataset                    Super Bowl 50'nin teması neydi?   \n",
       "...             ...                                                ...   \n",
       "5853  SQuAD Dataset  Makroskopik kapalı sistem enerjilerini ne deği...   \n",
       "5854  SQuAD Dataset  Kapalı sistem ısı değişimiyle ilişkili termodi...   \n",
       "5855  SQuAD Dataset  Newton'dan daha az kullanılan metrik terim nedir?   \n",
       "5856  SQuAD Dataset   Kilogram-kuvvet bazen olarak ifade edilen nedir?   \n",
       "5857  SQuAD Dataset  Bin Newton'a nadiren kullanılan kuvvet birimi ...   \n",
       "\n",
       "                 description  \n",
       "0             Denver Broncos  \n",
       "1          Carolina Panthers  \n",
       "2             Denver Broncos  \n",
       "3                      altın  \n",
       "4          \"altın yıldönümü\"  \n",
       "...                      ...  \n",
       "5853  sistemin iç enerjileri  \n",
       "5854                  İkinci  \n",
       "5855   kilogram-kuvvet (kgf)  \n",
       "5856                kilopond  \n",
       "5857                  sthène  \n",
       "\n",
       "[5858 rows x 3 columns]"
      ]
     },
     "execution_count": 20,
     "metadata": {},
     "output_type": "execute_result"
    }
   ],
   "source": [
    "df_dev"
   ]
  },
  {
   "cell_type": "markdown",
   "metadata": {},
   "source": [
    "TQUAD Train Data"
   ]
  },
  {
   "cell_type": "code",
   "execution_count": 27,
   "metadata": {},
   "outputs": [
    {
     "name": "stdout",
     "output_type": "stream",
     "text": [
      "Total # of qa pairs: 8308\n",
      "Len Question column: 8308\n",
      "Len Answer column: 8308\n"
     ]
    }
   ],
   "source": [
    "counter = 0\n",
    "question_column = []\n",
    "answer_column = []\n",
    "for doc in raw_json_T[\"data\"]:\n",
    "    for paragraph in doc[\"paragraphs\"]:\n",
    "        for qas in paragraph[\"qas\"]:\n",
    "            question_column.append(qas[\"question\"])\n",
    "            answer_column.append(qas[\"answers\"][0][\"text\"])\n",
    "            \n",
    "            counter+=1\n",
    "\n",
    "print(\"Total # of qa pairs:\",counter)\n",
    "print(\"Len Question column:\",len(question_column))\n",
    "print(\"Len Answer column:\",len(answer_column))\n",
    "\n",
    "df2 = pd.DataFrame({\"source\":\"TQuAD Dataset\",\"concept\":question_column,\"description\":answer_column})"
   ]
  },
  {
   "cell_type": "code",
   "execution_count": 28,
   "metadata": {},
   "outputs": [
    {
     "data": {
      "text/html": [
       "<div>\n",
       "<style scoped>\n",
       "    .dataframe tbody tr th:only-of-type {\n",
       "        vertical-align: middle;\n",
       "    }\n",
       "\n",
       "    .dataframe tbody tr th {\n",
       "        vertical-align: top;\n",
       "    }\n",
       "\n",
       "    .dataframe thead th {\n",
       "        text-align: right;\n",
       "    }\n",
       "</style>\n",
       "<table border=\"1\" class=\"dataframe\">\n",
       "  <thead>\n",
       "    <tr style=\"text-align: right;\">\n",
       "      <th></th>\n",
       "      <th>source</th>\n",
       "      <th>concept</th>\n",
       "      <th>description</th>\n",
       "    </tr>\n",
       "  </thead>\n",
       "  <tbody>\n",
       "    <tr>\n",
       "      <th>0</th>\n",
       "      <td>TQuAD Dataset</td>\n",
       "      <td>el-Hasan b. Muhammed el-Vezzan isimli bilgin a...</td>\n",
       "      <td>Afrikalı Leo</td>\n",
       "    </tr>\n",
       "    <tr>\n",
       "      <th>1</th>\n",
       "      <td>TQuAD Dataset</td>\n",
       "      <td>el-Hasan b. Muhammed el-Vezzan hangi şehirde b...</td>\n",
       "      <td>Fas (Fez) şehrinde</td>\n",
       "    </tr>\n",
       "    <tr>\n",
       "      <th>2</th>\n",
       "      <td>TQuAD Dataset</td>\n",
       "      <td>el-Hasan b. Muhammed el-Vezzan sicilyalı korsa...</td>\n",
       "      <td>ilk olarak Napoli’ye daha sonra Roma’ya</td>\n",
       "    </tr>\n",
       "    <tr>\n",
       "      <th>3</th>\n",
       "      <td>TQuAD Dataset</td>\n",
       "      <td>el-Hasan b. Muhammed el-Vezzan kim tarafından ...</td>\n",
       "      <td>Papa X. Leo</td>\n",
       "    </tr>\n",
       "    <tr>\n",
       "      <th>4</th>\n",
       "      <td>TQuAD Dataset</td>\n",
       "      <td>el-Hasan b. Muhammed el-Vezzan kaç yılında vaf...</td>\n",
       "      <td>6.1.1520 yılında</td>\n",
       "    </tr>\n",
       "    <tr>\n",
       "      <th>...</th>\n",
       "      <td>...</td>\n",
       "      <td>...</td>\n",
       "      <td>...</td>\n",
       "    </tr>\n",
       "    <tr>\n",
       "      <th>8303</th>\n",
       "      <td>TQuAD Dataset</td>\n",
       "      <td>Beko, Türkiye'ye ne zaman beyaz eşya sektöründ...</td>\n",
       "      <td>1983</td>\n",
       "    </tr>\n",
       "    <tr>\n",
       "      <th>8304</th>\n",
       "      <td>TQuAD Dataset</td>\n",
       "      <td>Beko'nun bir ihracat firması haline gelmesini ...</td>\n",
       "      <td>yurt dışı faaliyetlerine yönelmesi</td>\n",
       "    </tr>\n",
       "    <tr>\n",
       "      <th>8305</th>\n",
       "      <td>TQuAD Dataset</td>\n",
       "      <td>2000 yılında Beko, Beko Ticaret A.Ş. bünyesind...</td>\n",
       "      <td>Arçelik</td>\n",
       "    </tr>\n",
       "    <tr>\n",
       "      <th>8306</th>\n",
       "      <td>TQuAD Dataset</td>\n",
       "      <td>Yurt dışında kendi markasıyla satış yapan ilk ...</td>\n",
       "      <td>Beko</td>\n",
       "    </tr>\n",
       "    <tr>\n",
       "      <th>8307</th>\n",
       "      <td>TQuAD Dataset</td>\n",
       "      <td>2014 yılında Beko hangi futbol klübüne sponsor...</td>\n",
       "      <td>ıspanyol futbol kulüplerinden Barcelona</td>\n",
       "    </tr>\n",
       "  </tbody>\n",
       "</table>\n",
       "<p>8308 rows × 3 columns</p>\n",
       "</div>"
      ],
      "text/plain": [
       "             source                                            concept  \\\n",
       "0     TQuAD Dataset  el-Hasan b. Muhammed el-Vezzan isimli bilgin a...   \n",
       "1     TQuAD Dataset  el-Hasan b. Muhammed el-Vezzan hangi şehirde b...   \n",
       "2     TQuAD Dataset  el-Hasan b. Muhammed el-Vezzan sicilyalı korsa...   \n",
       "3     TQuAD Dataset  el-Hasan b. Muhammed el-Vezzan kim tarafından ...   \n",
       "4     TQuAD Dataset  el-Hasan b. Muhammed el-Vezzan kaç yılında vaf...   \n",
       "...             ...                                                ...   \n",
       "8303  TQuAD Dataset  Beko, Türkiye'ye ne zaman beyaz eşya sektöründ...   \n",
       "8304  TQuAD Dataset  Beko'nun bir ihracat firması haline gelmesini ...   \n",
       "8305  TQuAD Dataset  2000 yılında Beko, Beko Ticaret A.Ş. bünyesind...   \n",
       "8306  TQuAD Dataset  Yurt dışında kendi markasıyla satış yapan ilk ...   \n",
       "8307  TQuAD Dataset  2014 yılında Beko hangi futbol klübüne sponsor...   \n",
       "\n",
       "                                  description  \n",
       "0                                Afrikalı Leo  \n",
       "1                          Fas (Fez) şehrinde  \n",
       "2     ilk olarak Napoli’ye daha sonra Roma’ya  \n",
       "3                                 Papa X. Leo  \n",
       "4                            6.1.1520 yılında  \n",
       "...                                       ...  \n",
       "8303                                     1983  \n",
       "8304       yurt dışı faaliyetlerine yönelmesi  \n",
       "8305                                  Arçelik  \n",
       "8306                                     Beko  \n",
       "8307  ıspanyol futbol kulüplerinden Barcelona  \n",
       "\n",
       "[8308 rows x 3 columns]"
      ]
     },
     "execution_count": 28,
     "metadata": {},
     "output_type": "execute_result"
    }
   ],
   "source": [
    "df2"
   ]
  },
  {
   "cell_type": "markdown",
   "metadata": {},
   "source": [
    "TQUAD Dev Data"
   ]
  },
  {
   "cell_type": "code",
   "execution_count": 29,
   "metadata": {},
   "outputs": [
    {
     "name": "stdout",
     "output_type": "stream",
     "text": [
      "Total # of qa pairs: 892\n",
      "Len Question column: 892\n",
      "Len Answer column: 892\n"
     ]
    }
   ],
   "source": [
    "counter = 0\n",
    "question_column = []\n",
    "answer_column = []\n",
    "for doc in raw_json_T_dev[\"data\"]:\n",
    "    for paragraph in doc[\"paragraphs\"]:\n",
    "        for qas in paragraph[\"qas\"]:\n",
    "            question_column.append(qas[\"question\"])\n",
    "            answer_column.append(qas[\"answers\"][0][\"text\"])\n",
    "            \n",
    "            counter+=1\n",
    "\n",
    "print(\"Total # of qa pairs:\",counter)\n",
    "print(\"Len Question column:\",len(question_column))\n",
    "print(\"Len Answer column:\",len(answer_column))\n",
    "\n",
    "df2_dev = pd.DataFrame({\"source\":\"TQuAD Dataset\",\"concept\":question_column,\"description\":answer_column})"
   ]
  },
  {
   "cell_type": "code",
   "execution_count": 30,
   "metadata": {},
   "outputs": [
    {
     "data": {
      "text/html": [
       "<div>\n",
       "<style scoped>\n",
       "    .dataframe tbody tr th:only-of-type {\n",
       "        vertical-align: middle;\n",
       "    }\n",
       "\n",
       "    .dataframe tbody tr th {\n",
       "        vertical-align: top;\n",
       "    }\n",
       "\n",
       "    .dataframe thead th {\n",
       "        text-align: right;\n",
       "    }\n",
       "</style>\n",
       "<table border=\"1\" class=\"dataframe\">\n",
       "  <thead>\n",
       "    <tr style=\"text-align: right;\">\n",
       "      <th></th>\n",
       "      <th>source</th>\n",
       "      <th>concept</th>\n",
       "      <th>description</th>\n",
       "    </tr>\n",
       "  </thead>\n",
       "  <tbody>\n",
       "    <tr>\n",
       "      <th>0</th>\n",
       "      <td>TQuAD Dataset</td>\n",
       "      <td>Kemaleddin ibn Yunus lakabı dışında hangi isim...</td>\n",
       "      <td>İbn-i Yunus ve Mewsilî</td>\n",
       "    </tr>\n",
       "    <tr>\n",
       "      <th>1</th>\n",
       "      <td>TQuAD Dataset</td>\n",
       "      <td>Kemaleddin ibn Yunus nerede doğmuştur?</td>\n",
       "      <td>Musul</td>\n",
       "    </tr>\n",
       "    <tr>\n",
       "      <th>2</th>\n",
       "      <td>TQuAD Dataset</td>\n",
       "      <td>Kemaleddin ibn Yunus nerede ölmüştür?</td>\n",
       "      <td>Musul</td>\n",
       "    </tr>\n",
       "    <tr>\n",
       "      <th>3</th>\n",
       "      <td>TQuAD Dataset</td>\n",
       "      <td>Kemaleddin ibn Yunus'ın doğum yılı nedir?</td>\n",
       "      <td>1156</td>\n",
       "    </tr>\n",
       "    <tr>\n",
       "      <th>4</th>\n",
       "      <td>TQuAD Dataset</td>\n",
       "      <td>Kemaleddin ibn Yunus hangi yıl vefat etmiştir?</td>\n",
       "      <td>1241</td>\n",
       "    </tr>\n",
       "    <tr>\n",
       "      <th>...</th>\n",
       "      <td>...</td>\n",
       "      <td>...</td>\n",
       "      <td>...</td>\n",
       "    </tr>\n",
       "    <tr>\n",
       "      <th>887</th>\n",
       "      <td>TQuAD Dataset</td>\n",
       "      <td>Sencer Divitçioğlu nerede 1968-1969'da tekrar ...</td>\n",
       "      <td>Cambridge'de</td>\n",
       "    </tr>\n",
       "    <tr>\n",
       "      <th>888</th>\n",
       "      <td>TQuAD Dataset</td>\n",
       "      <td>Sencer Divitçioğlu ne zaman Boğaziçi Üniversit...</td>\n",
       "      <td>1975'te</td>\n",
       "    </tr>\n",
       "    <tr>\n",
       "      <th>889</th>\n",
       "      <td>TQuAD Dataset</td>\n",
       "      <td>Sencer Divitçioğlu ne zaman profesörlüğe yükse...</td>\n",
       "      <td>1976 yılında</td>\n",
       "    </tr>\n",
       "    <tr>\n",
       "      <th>890</th>\n",
       "      <td>TQuAD Dataset</td>\n",
       "      <td>Sencer Divitçioğlu ne zaman  Paris Üniversites...</td>\n",
       "      <td>1983 yılında</td>\n",
       "    </tr>\n",
       "    <tr>\n",
       "      <th>891</th>\n",
       "      <td>TQuAD Dataset</td>\n",
       "      <td>Sencer Divitçioğlu, Karl Marx tarafından ne za...</td>\n",
       "      <td>1850'li yılların başında</td>\n",
       "    </tr>\n",
       "  </tbody>\n",
       "</table>\n",
       "<p>892 rows × 3 columns</p>\n",
       "</div>"
      ],
      "text/plain": [
       "            source                                            concept  \\\n",
       "0    TQuAD Dataset  Kemaleddin ibn Yunus lakabı dışında hangi isim...   \n",
       "1    TQuAD Dataset             Kemaleddin ibn Yunus nerede doğmuştur?   \n",
       "2    TQuAD Dataset              Kemaleddin ibn Yunus nerede ölmüştür?   \n",
       "3    TQuAD Dataset          Kemaleddin ibn Yunus'ın doğum yılı nedir?   \n",
       "4    TQuAD Dataset     Kemaleddin ibn Yunus hangi yıl vefat etmiştir?   \n",
       "..             ...                                                ...   \n",
       "887  TQuAD Dataset  Sencer Divitçioğlu nerede 1968-1969'da tekrar ...   \n",
       "888  TQuAD Dataset  Sencer Divitçioğlu ne zaman Boğaziçi Üniversit...   \n",
       "889  TQuAD Dataset  Sencer Divitçioğlu ne zaman profesörlüğe yükse...   \n",
       "890  TQuAD Dataset  Sencer Divitçioğlu ne zaman  Paris Üniversites...   \n",
       "891  TQuAD Dataset  Sencer Divitçioğlu, Karl Marx tarafından ne za...   \n",
       "\n",
       "                  description  \n",
       "0      İbn-i Yunus ve Mewsilî  \n",
       "1                       Musul  \n",
       "2                       Musul  \n",
       "3                        1156  \n",
       "4                        1241  \n",
       "..                        ...  \n",
       "887              Cambridge'de  \n",
       "888                   1975'te  \n",
       "889              1976 yılında  \n",
       "890              1983 yılında  \n",
       "891  1850'li yılların başında  \n",
       "\n",
       "[892 rows x 3 columns]"
      ]
     },
     "execution_count": 30,
     "metadata": {},
     "output_type": "execute_result"
    }
   ],
   "source": [
    "df2_dev"
   ]
  },
  {
   "cell_type": "code",
   "execution_count": 31,
   "metadata": {},
   "outputs": [],
   "source": [
    "df.to_csv(\"webScrapper/csv_files/csv_SQuAD.csv\",index=False)"
   ]
  },
  {
   "cell_type": "code",
   "execution_count": 32,
   "metadata": {},
   "outputs": [],
   "source": [
    "df_dev.to_csv(\"webScrapper/csv_files/csv_SQuAD_dev.csv\",index=False)"
   ]
  },
  {
   "cell_type": "code",
   "execution_count": 33,
   "metadata": {},
   "outputs": [],
   "source": [
    "df2.to_csv(\"webScrapper/csv_files/csv_TQuAD.csv\",index=False)"
   ]
  },
  {
   "cell_type": "code",
   "execution_count": 34,
   "metadata": {},
   "outputs": [],
   "source": [
    "df2_dev.to_csv(\"webScrapper/csv_files/csv_TQuAD_dev.csv\",index=False)"
   ]
  },
  {
   "cell_type": "code",
   "execution_count": null,
   "metadata": {},
   "outputs": [],
   "source": []
  },
  {
   "cell_type": "code",
   "execution_count": null,
   "metadata": {},
   "outputs": [],
   "source": []
  }
 ],
 "metadata": {
  "kernelspec": {
   "display_name": "sebit_assistant_env",
   "language": "python",
   "name": "python3"
  },
  "language_info": {
   "codemirror_mode": {
    "name": "ipython",
    "version": 3
   },
   "file_extension": ".py",
   "mimetype": "text/x-python",
   "name": "python",
   "nbconvert_exporter": "python",
   "pygments_lexer": "ipython3",
   "version": "3.11.4"
  },
  "orig_nbformat": 4
 },
 "nbformat": 4,
 "nbformat_minor": 2
}
