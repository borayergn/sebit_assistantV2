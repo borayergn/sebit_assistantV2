{
 "cells": [
  {
   "cell_type": "code",
   "execution_count": 1,
   "metadata": {},
   "outputs": [],
   "source": [
    "import pandas as pd\n",
    "import json"
   ]
  },
  {
   "cell_type": "code",
   "execution_count": 2,
   "metadata": {},
   "outputs": [],
   "source": [
    "f = open(\"SQuAD_JSON/train-tr-v1.1.json\")"
   ]
  },
  {
   "cell_type": "code",
   "execution_count": 3,
   "metadata": {},
   "outputs": [],
   "source": [
    "raw_json = json.load(f)"
   ]
  },
  {
   "cell_type": "code",
   "execution_count": 4,
   "metadata": {},
   "outputs": [],
   "source": [
    "f = open(\"SQuAD_JSON/dev-tr-v1.1.json\")"
   ]
  },
  {
   "cell_type": "code",
   "execution_count": 5,
   "metadata": {},
   "outputs": [],
   "source": [
    "raw_json_dev = json.load(f)"
   ]
  },
  {
   "cell_type": "code",
   "execution_count": 6,
   "metadata": {},
   "outputs": [],
   "source": [
    "f = open(\"TQuAD_JSON/train-v0.1.json\")"
   ]
  },
  {
   "cell_type": "code",
   "execution_count": 7,
   "metadata": {},
   "outputs": [],
   "source": [
    "raw_json_T = json.load(f)"
   ]
  },
  {
   "cell_type": "code",
   "execution_count": 8,
   "metadata": {},
   "outputs": [],
   "source": [
    "f = open(\"TQuAD_JSON/dev-v0.1.json\")"
   ]
  },
  {
   "cell_type": "code",
   "execution_count": 9,
   "metadata": {},
   "outputs": [],
   "source": [
    "raw_json_T_dev = json.load(f)"
   ]
  },
  {
   "cell_type": "code",
   "execution_count": 10,
   "metadata": {},
   "outputs": [
    {
     "data": {
      "text/plain": [
       "'1.1'"
      ]
     },
     "execution_count": 10,
     "metadata": {},
     "output_type": "execute_result"
    }
   ],
   "source": [
    "raw_json[\"version\"]"
   ]
  },
  {
   "cell_type": "code",
   "execution_count": 11,
   "metadata": {},
   "outputs": [],
   "source": [
    "raw_json = raw_json[\"data\"]"
   ]
  },
  {
   "cell_type": "markdown",
   "metadata": {},
   "source": [
    "Reaching Down The QAs"
   ]
  },
  {
   "cell_type": "markdown",
   "metadata": {},
   "source": [
    "SQUAD TRAİN"
   ]
  },
  {
   "cell_type": "code",
   "execution_count": 12,
   "metadata": {},
   "outputs": [
    {
     "name": "stdout",
     "output_type": "stream",
     "text": [
      "Total # of qa pairs: 40014\n",
      "Len Question column: 40014\n",
      "Len Answer column: 40014\n"
     ]
    }
   ],
   "source": [
    "counter = 0\n",
    "question_column = []\n",
    "answer_column = []\n",
    "for doc in raw_json:\n",
    "    for paragraph in doc[\"paragraphs\"]:\n",
    "        for qas in paragraph[\"qas\"]:\n",
    "            question_column.append(qas[\"question\"])\n",
    "            answer_column.append(qas[\"answers\"][0][\"text\"])\n",
    "            \n",
    "            counter+=1\n",
    "\n",
    "print(\"Total # of qa pairs:\",counter)\n",
    "print(\"Len Question column:\",len(question_column))\n",
    "print(\"Len Answer column:\",len(answer_column))\n",
    "\n",
    "df = pd.DataFrame({\"source\":\"SQuAD Dataset\",\"concept\":question_column,\"description\":answer_column})\n"
   ]
  },
  {
   "cell_type": "code",
   "execution_count": 13,
   "metadata": {},
   "outputs": [
    {
     "data": {
      "text/html": [
       "<div>\n",
       "<style scoped>\n",
       "    .dataframe tbody tr th:only-of-type {\n",
       "        vertical-align: middle;\n",
       "    }\n",
       "\n",
       "    .dataframe tbody tr th {\n",
       "        vertical-align: top;\n",
       "    }\n",
       "\n",
       "    .dataframe thead th {\n",
       "        text-align: right;\n",
       "    }\n",
       "</style>\n",
       "<table border=\"1\" class=\"dataframe\">\n",
       "  <thead>\n",
       "    <tr style=\"text-align: right;\">\n",
       "      <th></th>\n",
       "      <th>source</th>\n",
       "      <th>concept</th>\n",
       "      <th>description</th>\n",
       "    </tr>\n",
       "  </thead>\n",
       "  <tbody>\n",
       "    <tr>\n",
       "      <th>0</th>\n",
       "      <td>SQuAD Dataset</td>\n",
       "      <td>Meryem Ana'nın 1858'de Lourdes Fransa'da kime ...</td>\n",
       "      <td>Saint Bernadette Soubirous</td>\n",
       "    </tr>\n",
       "    <tr>\n",
       "      <th>1</th>\n",
       "      <td>SQuAD Dataset</td>\n",
       "      <td>Notre dame Scholastic Dergisi ne zaman yayınla...</td>\n",
       "      <td>Eylül 1876</td>\n",
       "    </tr>\n",
       "    <tr>\n",
       "      <th>2</th>\n",
       "      <td>SQuAD Dataset</td>\n",
       "      <td>Notre Dame'deki günlük öğrenci makalesine ne d...</td>\n",
       "      <td>Gözlemci</td>\n",
       "    </tr>\n",
       "    <tr>\n",
       "      <th>3</th>\n",
       "      <td>SQuAD Dataset</td>\n",
       "      <td>Notre Dame'da kaç tane öğrenci haber makalesi ...</td>\n",
       "      <td>üç</td>\n",
       "    </tr>\n",
       "    <tr>\n",
       "      <th>4</th>\n",
       "      <td>SQuAD Dataset</td>\n",
       "      <td>Common Sense öğrenci notu hangi yılda Notre Da...</td>\n",
       "      <td>1987</td>\n",
       "    </tr>\n",
       "    <tr>\n",
       "      <th>...</th>\n",
       "      <td>...</td>\n",
       "      <td>...</td>\n",
       "      <td>...</td>\n",
       "    </tr>\n",
       "    <tr>\n",
       "      <th>40009</th>\n",
       "      <td>SQuAD Dataset</td>\n",
       "      <td>Prithvi Otoyolu Katmandu'dan hangi yöne gidiyor?</td>\n",
       "      <td>batı</td>\n",
       "    </tr>\n",
       "    <tr>\n",
       "      <th>40010</th>\n",
       "      <td>SQuAD Dataset</td>\n",
       "      <td>Eğer biri Katmandu'dan kuzeye gitmek isterse, ...</td>\n",
       "      <td>Araniko</td>\n",
       "    </tr>\n",
       "    <tr>\n",
       "      <th>40011</th>\n",
       "      <td>SQuAD Dataset</td>\n",
       "      <td>Nepal'in uluslararası seyahat için birincil ha...</td>\n",
       "      <td>Tribhuvan Uluslararası Havaalanı</td>\n",
       "    </tr>\n",
       "    <tr>\n",
       "      <th>40012</th>\n",
       "      <td>SQuAD Dataset</td>\n",
       "      <td>Katmandu'nun merkezinden başlayarak, Tribhuvan...</td>\n",
       "      <td>6</td>\n",
       "    </tr>\n",
       "    <tr>\n",
       "      <th>40013</th>\n",
       "      <td>SQuAD Dataset</td>\n",
       "      <td>Uluslararası havayolları için kaç havayolu Tri...</td>\n",
       "      <td>22</td>\n",
       "    </tr>\n",
       "  </tbody>\n",
       "</table>\n",
       "<p>40014 rows × 3 columns</p>\n",
       "</div>"
      ],
      "text/plain": [
       "              source                                            concept  \\\n",
       "0      SQuAD Dataset  Meryem Ana'nın 1858'de Lourdes Fransa'da kime ...   \n",
       "1      SQuAD Dataset  Notre dame Scholastic Dergisi ne zaman yayınla...   \n",
       "2      SQuAD Dataset  Notre Dame'deki günlük öğrenci makalesine ne d...   \n",
       "3      SQuAD Dataset  Notre Dame'da kaç tane öğrenci haber makalesi ...   \n",
       "4      SQuAD Dataset  Common Sense öğrenci notu hangi yılda Notre Da...   \n",
       "...              ...                                                ...   \n",
       "40009  SQuAD Dataset   Prithvi Otoyolu Katmandu'dan hangi yöne gidiyor?   \n",
       "40010  SQuAD Dataset  Eğer biri Katmandu'dan kuzeye gitmek isterse, ...   \n",
       "40011  SQuAD Dataset  Nepal'in uluslararası seyahat için birincil ha...   \n",
       "40012  SQuAD Dataset  Katmandu'nun merkezinden başlayarak, Tribhuvan...   \n",
       "40013  SQuAD Dataset  Uluslararası havayolları için kaç havayolu Tri...   \n",
       "\n",
       "                            description  \n",
       "0            Saint Bernadette Soubirous  \n",
       "1                            Eylül 1876  \n",
       "2                              Gözlemci  \n",
       "3                                    üç  \n",
       "4                                  1987  \n",
       "...                                 ...  \n",
       "40009                              batı  \n",
       "40010                           Araniko  \n",
       "40011  Tribhuvan Uluslararası Havaalanı  \n",
       "40012                                 6  \n",
       "40013                                22  \n",
       "\n",
       "[40014 rows x 3 columns]"
      ]
     },
     "execution_count": 13,
     "metadata": {},
     "output_type": "execute_result"
    }
   ],
   "source": [
    "df"
   ]
  },
  {
   "cell_type": "markdown",
   "metadata": {},
   "source": [
    "SQUAD dev"
   ]
  },
  {
   "cell_type": "code",
   "execution_count": 14,
   "metadata": {},
   "outputs": [
    {
     "ename": "TypeError",
     "evalue": "string indices must be integers, not 'str'",
     "output_type": "error",
     "traceback": [
      "\u001b[0;31m---------------------------------------------------------------------------\u001b[0m",
      "\u001b[0;31mTypeError\u001b[0m                                 Traceback (most recent call last)",
      "\u001b[1;32m/home/boray/sebit_assistant/preproccess_squad.ipynb Cell 17\u001b[0m line \u001b[0;36m5\n\u001b[1;32m      <a href='vscode-notebook-cell://wsl%2Bubuntu-20.04/home/boray/sebit_assistant/preproccess_squad.ipynb#X30sdnNjb2RlLXJlbW90ZQ%3D%3D?line=2'>3</a>\u001b[0m answer_column \u001b[39m=\u001b[39m []\n\u001b[1;32m      <a href='vscode-notebook-cell://wsl%2Bubuntu-20.04/home/boray/sebit_assistant/preproccess_squad.ipynb#X30sdnNjb2RlLXJlbW90ZQ%3D%3D?line=3'>4</a>\u001b[0m \u001b[39mfor\u001b[39;00m doc \u001b[39min\u001b[39;00m raw_json_dev:\n\u001b[0;32m----> <a href='vscode-notebook-cell://wsl%2Bubuntu-20.04/home/boray/sebit_assistant/preproccess_squad.ipynb#X30sdnNjb2RlLXJlbW90ZQ%3D%3D?line=4'>5</a>\u001b[0m     \u001b[39mfor\u001b[39;00m paragraph \u001b[39min\u001b[39;00m doc[\u001b[39m\"\u001b[39;49m\u001b[39mparagraphs\u001b[39;49m\u001b[39m\"\u001b[39;49m]:\n\u001b[1;32m      <a href='vscode-notebook-cell://wsl%2Bubuntu-20.04/home/boray/sebit_assistant/preproccess_squad.ipynb#X30sdnNjb2RlLXJlbW90ZQ%3D%3D?line=5'>6</a>\u001b[0m         \u001b[39mfor\u001b[39;00m qas \u001b[39min\u001b[39;00m paragraph[\u001b[39m\"\u001b[39m\u001b[39mqas\u001b[39m\u001b[39m\"\u001b[39m]:\n\u001b[1;32m      <a href='vscode-notebook-cell://wsl%2Bubuntu-20.04/home/boray/sebit_assistant/preproccess_squad.ipynb#X30sdnNjb2RlLXJlbW90ZQ%3D%3D?line=6'>7</a>\u001b[0m             question_column\u001b[39m.\u001b[39mappend(qas[\u001b[39m\"\u001b[39m\u001b[39mquestion\u001b[39m\u001b[39m\"\u001b[39m])\n",
      "\u001b[0;31mTypeError\u001b[0m: string indices must be integers, not 'str'"
     ]
    }
   ],
   "source": [
    "counter = 0\n",
    "question_column = []\n",
    "answer_column = []\n",
    "for doc in raw_json_dev:\n",
    "    for paragraph in doc[\"paragraphs\"]:\n",
    "        for qas in paragraph[\"qas\"]:\n",
    "            question_column.append(qas[\"question\"])\n",
    "            answer_column.append(qas[\"answers\"][0][\"text\"])\n",
    "            \n",
    "            counter+=1\n",
    "\n",
    "print(\"Total # of qa pairs:\",counter)\n",
    "print(\"Len Question column:\",len(question_column))\n",
    "print(\"Len Answer column:\",len(answer_column))\n",
    "\n",
    "df_dev = pd.DataFrame({\"source\":\"SQuAD Dataset\",\"concept\":question_column,\"description\":answer_column})"
   ]
  },
  {
   "cell_type": "code",
   "execution_count": 63,
   "metadata": {},
   "outputs": [
    {
     "data": {
      "text/html": [
       "<div>\n",
       "<style scoped>\n",
       "    .dataframe tbody tr th:only-of-type {\n",
       "        vertical-align: middle;\n",
       "    }\n",
       "\n",
       "    .dataframe tbody tr th {\n",
       "        vertical-align: top;\n",
       "    }\n",
       "\n",
       "    .dataframe thead th {\n",
       "        text-align: right;\n",
       "    }\n",
       "</style>\n",
       "<table border=\"1\" class=\"dataframe\">\n",
       "  <thead>\n",
       "    <tr style=\"text-align: right;\">\n",
       "      <th></th>\n",
       "      <th>source</th>\n",
       "      <th>concept</th>\n",
       "      <th>description</th>\n",
       "    </tr>\n",
       "  </thead>\n",
       "  <tbody>\n",
       "    <tr>\n",
       "      <th>0</th>\n",
       "      <td>SQuAD Dataset</td>\n",
       "      <td>Meryem Ana'nın 1858'de Lourdes Fransa'da kime ...</td>\n",
       "      <td>Saint Bernadette Soubirous</td>\n",
       "    </tr>\n",
       "    <tr>\n",
       "      <th>1</th>\n",
       "      <td>SQuAD Dataset</td>\n",
       "      <td>Notre dame Scholastic Dergisi ne zaman yayınla...</td>\n",
       "      <td>Eylül 1876</td>\n",
       "    </tr>\n",
       "    <tr>\n",
       "      <th>2</th>\n",
       "      <td>SQuAD Dataset</td>\n",
       "      <td>Notre Dame'deki günlük öğrenci makalesine ne d...</td>\n",
       "      <td>Gözlemci</td>\n",
       "    </tr>\n",
       "    <tr>\n",
       "      <th>3</th>\n",
       "      <td>SQuAD Dataset</td>\n",
       "      <td>Notre Dame'da kaç tane öğrenci haber makalesi ...</td>\n",
       "      <td>üç</td>\n",
       "    </tr>\n",
       "    <tr>\n",
       "      <th>4</th>\n",
       "      <td>SQuAD Dataset</td>\n",
       "      <td>Common Sense öğrenci notu hangi yılda Notre Da...</td>\n",
       "      <td>1987</td>\n",
       "    </tr>\n",
       "    <tr>\n",
       "      <th>...</th>\n",
       "      <td>...</td>\n",
       "      <td>...</td>\n",
       "      <td>...</td>\n",
       "    </tr>\n",
       "    <tr>\n",
       "      <th>40009</th>\n",
       "      <td>SQuAD Dataset</td>\n",
       "      <td>Prithvi Otoyolu Katmandu'dan hangi yöne gidiyor?</td>\n",
       "      <td>batı</td>\n",
       "    </tr>\n",
       "    <tr>\n",
       "      <th>40010</th>\n",
       "      <td>SQuAD Dataset</td>\n",
       "      <td>Eğer biri Katmandu'dan kuzeye gitmek isterse, ...</td>\n",
       "      <td>Araniko</td>\n",
       "    </tr>\n",
       "    <tr>\n",
       "      <th>40011</th>\n",
       "      <td>SQuAD Dataset</td>\n",
       "      <td>Nepal'in uluslararası seyahat için birincil ha...</td>\n",
       "      <td>Tribhuvan Uluslararası Havaalanı</td>\n",
       "    </tr>\n",
       "    <tr>\n",
       "      <th>40012</th>\n",
       "      <td>SQuAD Dataset</td>\n",
       "      <td>Katmandu'nun merkezinden başlayarak, Tribhuvan...</td>\n",
       "      <td>6</td>\n",
       "    </tr>\n",
       "    <tr>\n",
       "      <th>40013</th>\n",
       "      <td>SQuAD Dataset</td>\n",
       "      <td>Uluslararası havayolları için kaç havayolu Tri...</td>\n",
       "      <td>22</td>\n",
       "    </tr>\n",
       "  </tbody>\n",
       "</table>\n",
       "<p>40014 rows × 3 columns</p>\n",
       "</div>"
      ],
      "text/plain": [
       "              source                                            concept  \\\n",
       "0      SQuAD Dataset  Meryem Ana'nın 1858'de Lourdes Fransa'da kime ...   \n",
       "1      SQuAD Dataset  Notre dame Scholastic Dergisi ne zaman yayınla...   \n",
       "2      SQuAD Dataset  Notre Dame'deki günlük öğrenci makalesine ne d...   \n",
       "3      SQuAD Dataset  Notre Dame'da kaç tane öğrenci haber makalesi ...   \n",
       "4      SQuAD Dataset  Common Sense öğrenci notu hangi yılda Notre Da...   \n",
       "...              ...                                                ...   \n",
       "40009  SQuAD Dataset   Prithvi Otoyolu Katmandu'dan hangi yöne gidiyor?   \n",
       "40010  SQuAD Dataset  Eğer biri Katmandu'dan kuzeye gitmek isterse, ...   \n",
       "40011  SQuAD Dataset  Nepal'in uluslararası seyahat için birincil ha...   \n",
       "40012  SQuAD Dataset  Katmandu'nun merkezinden başlayarak, Tribhuvan...   \n",
       "40013  SQuAD Dataset  Uluslararası havayolları için kaç havayolu Tri...   \n",
       "\n",
       "                            description  \n",
       "0            Saint Bernadette Soubirous  \n",
       "1                            Eylül 1876  \n",
       "2                              Gözlemci  \n",
       "3                                    üç  \n",
       "4                                  1987  \n",
       "...                                 ...  \n",
       "40009                              batı  \n",
       "40010                           Araniko  \n",
       "40011  Tribhuvan Uluslararası Havaalanı  \n",
       "40012                                 6  \n",
       "40013                                22  \n",
       "\n",
       "[40014 rows x 3 columns]"
      ]
     },
     "execution_count": 63,
     "metadata": {},
     "output_type": "execute_result"
    }
   ],
   "source": [
    "df"
   ]
  },
  {
   "cell_type": "code",
   "execution_count": 65,
   "metadata": {},
   "outputs": [],
   "source": [
    "df.to_csv(\"webScrapper/csv_files/csv_SQuAD.csv\",index=False)"
   ]
  }
 ],
 "metadata": {
  "kernelspec": {
   "display_name": "sebit_assistant_env",
   "language": "python",
   "name": "python3"
  },
  "language_info": {
   "codemirror_mode": {
    "name": "ipython",
    "version": 3
   },
   "file_extension": ".py",
   "mimetype": "text/x-python",
   "name": "python",
   "nbconvert_exporter": "python",
   "pygments_lexer": "ipython3",
   "version": "3.11.4"
  },
  "orig_nbformat": 4
 },
 "nbformat": 4,
 "nbformat_minor": 2
}
