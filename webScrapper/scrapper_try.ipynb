{
 "cells": [
  {
   "cell_type": "code",
   "execution_count": 1,
   "metadata": {},
   "outputs": [],
   "source": [
    "\n",
    "from scrapper import Scrapper\n",
    "from tqdm import tqdm"
   ]
  },
  {
   "cell_type": "code",
   "execution_count": 13,
   "metadata": {},
   "outputs": [],
   "source": [
    "scrapper = Scrapper(\"tryrtryrtry2alll\")"
   ]
  },
  {
   "cell_type": "code",
   "execution_count": 18,
   "metadata": {},
   "outputs": [],
   "source": [
    "\n",
    "scrapper.setOptions(size = 'window-size=1920x1080', h = '--headless',\n",
    "                        gpu =\" --disable-gpu\", incognito = \"--incognito\",\n",
    "                        sandbox = '--no-sandbox', memory = '--disable-dev-shm-usage',\n",
    "                        extension = \"--disable-extensions\", log = \"--log-level=2\",\n",
    "                        scroll = \"--hide-scrollbars\", info = '--disable-infobars')"
   ]
  },
  {
   "cell_type": "code",
   "execution_count": 19,
   "metadata": {},
   "outputs": [
    {
     "data": {
      "text/plain": [
       "['window-size=1920x1080',\n",
       " '--headless',\n",
       " ' --disable-gpu',\n",
       " 'window-size=1920x1080',\n",
       " '--headless',\n",
       " ' --disable-gpu',\n",
       " '--incognito',\n",
       " '--no-sandbox',\n",
       " '--disable-dev-shm-usage',\n",
       " '--disable-extensions',\n",
       " '--log-level=2',\n",
       " '--hide-scrollbars']"
      ]
     },
     "execution_count": 19,
     "metadata": {},
     "output_type": "execute_result"
    }
   ],
   "source": [
    "scrapper.getOptions()"
   ]
  },
  {
   "cell_type": "code",
   "execution_count": 20,
   "metadata": {},
   "outputs": [
    {
     "data": {
      "text/plain": [
       "{'urls': {'meb': ['https://odsgm.meb.gov.tr/www/sss.php',\n",
       "   'https://ogm.meb.gov.tr/www/sss.php',\n",
       "   'https://www.meb.gov.tr/sss.php',\n",
       "   'https://personel.meb.gov.tr/www/sss.php',\n",
       "   'https://oygm.meb.gov.tr/www/sss.php',\n",
       "   'https://tegm.meb.gov.tr/www/sss.php',\n",
       "   'https://orgm.meb.gov.tr/www/sss.php',\n",
       "   'https://yyegm.meb.gov.tr/www/sss.php',\n",
       "   'https://ookgm.meb.gov.tr/www/sss.php',\n",
       "   'https://pazar53.meb.gov.tr/www/sss.php',\n",
       "   'https://dhgm.meb.gov.tr/www/sss.php',\n",
       "   'http://hbogm.meb.gov.tr/www/sss.php'],\n",
       "  'osym': 'https://www.osym.gov.tr/TR,8808/genel.html',\n",
       "  'yok': 'https://www.yok.gov.tr/iletisim/sss',\n",
       "  'vitamin': 'https://www.vitaminegitim.com/ortaokul/sss.jsp',\n",
       "  'vcloud': 'https://www.sebitvcloud.com/tr/yardim.jsp',\n",
       "  'hizligo': 'https://www.hizligo.com/sss',\n",
       "  'eba': 'https://ders.eba.gov.tr/yardim-sss/',\n",
       "  'raunt': 'https://www.raunt.com/sss'}}"
      ]
     },
     "execution_count": 20,
     "metadata": {},
     "output_type": "execute_result"
    }
   ],
   "source": [
    "scrapper.getConfig()"
   ]
  },
  {
   "cell_type": "code",
   "execution_count": 21,
   "metadata": {},
   "outputs": [],
   "source": [
    "scrapper.meb_faq(\"meb.csv\")"
   ]
  },
  {
   "cell_type": "code",
   "execution_count": 11,
   "metadata": {},
   "outputs": [
    {
     "name": "stdout",
     "output_type": "stream",
     "text": [
      "all_urls: ['assets/pages/student/EBADestekNoktasiNedir/EBADestekNoktasiNedir.html', 'assets/pages/student/EBADestekNoktasiniKimlerKullanabilir/EBADestekNoktasiniKimlerKullanabilir.html', 'assets/pages/student/BanaEnYakinDestekNoktasi/BanaEnYakinDestekNoktasi.html', 'assets/pages/student/EBADestekNoktasinaNasilMuracaatEdebilirim/EBADestekNoktasinaNasilMuracaatEdebilirim.html', 'assets/pages/student/EBADestekNoktasindaNelereDikkatEtmeliyim/EBADestekNoktasindaNelereDikkatEtmeliyim.html', 'assets/pages/student/EBADestekNoktasiniHangiAmaclarIcinKullanabilirim/EBADestekNoktasiniHangiAmaclarIcinKullanabilirim.html', 'assets/pages/student/EBADestekNoktasiniGundeKacSaatKullanabilirim/EBADestekNoktasiniGundeKacSaatKullanabilirim.html', 'assets/pages/student/EBADestekNoktasiHangiSaatlerArasindaAciktir/EBADestekNoktasiHangiSaatlerArasindaAciktir.html', 'assets/pages/student/CanliDerseNeZamanKatilabilirim/CanliDerseNeZamanKatilabilirim.html', 'assets/pages/student/CanliDerseKatildimFakatOgretmenGelmedi/CanliDerseKatildimFakatOgretmenGelmedi.html', 'assets/pages/student/MobilCihazlarimdanCanliDerslerimeErisebilirMiyim/MobilCihazlarimdanCanliDerslerimeErisebilirMiyim.html', 'assets/pages/student/DuvarimAlaniniNasilKullanirim/DuvarimAlaniniNasilKullanirim.html', 'assets/pages/student/NasilIletiPaylasirim/NasilIletiPaylasirim.html', 'assets/pages/student/PaylastigimIletiyiDuzenleyebilirMiyim/PaylastigimIletiyiDuzenleyebilirMiyim.html', 'assets/pages/student/FavorilerimeEkledigimIletileriNeredenGorebilirim/FavorilerimeEkledigimIletileriNeredenGorebilirim.html', 'assets/pages/student/TartismalaraNasilKatilabilirim/TartismalaraNasilKatilabilirim.html', 'assets/pages/student/NasilOylamaOlustururum/NasilOylamaOlustururum.html', 'assets/pages/student/OylamaSonuclarinaNerdenUlasirim/OylamaSonuclarinaNerdenUlasirim.html', 'assets/pages/student/BekleyenCalismalarinBolumuNedir/BekleyenCalismalarinBolumuNedir.html', 'assets/pages/student/BirGrubaNasilUyeOlabilirim/BirGrubaNasilUyeOlabilirim.html', 'assets/pages/student/GrupSayfasinaNasilGidebilirim/GrupSayfasinaNasilGidebilirim.html', 'assets/pages/student/AnaSayfadaTakvimimdeNeleriGorebilirim/AnaSayfadaTakvimimdeNeleriGorebilirim.html', 'assets/pages/student/PortfolyoNedir/PortfolyoNedir.html', 'assets/pages/student/PortfolyodaBulunanAlanlarNelerdir/PortfolyodaBulunanAlanlarNelerdir.html', 'assets/pages/student/PortfolyoyuKimlerGoruntuleyebilir/PortfolyoyuKimlerGoruntuleyebilir.html', 'assets/pages/student/PortfolyodakiEklenmisOlanBilgileriKimlerDuzenleyebilir/PortfolyodakiEklenmisOlanBilgileriKimlerDuzenleyebilir.html', 'assets/pages/student/ArmaVePuanNasilKazanilir/ArmaVePuanNasilKazanilir.html', 'assets/pages/student/DerslerSayfasiNedir/DerslerSayfasiNedir.html', 'assets/pages/student/SiraliAnlatimNedir/SiraliAnlatimNedir.html', 'assets/pages/student/KutuphaneSayfasiNedir/KutuphaneSayfasiNedir.html', 'assets/pages/student/CalismalarimSayfasiNedir/CalismalarimSayfasiNedir.html', 'assets/pages/student/DijitalCalismalarNedir/DijitalCalismalarNedir.html', 'assets/pages/student/SozluVeYaziliCalismalarNedir/SozluVeYaziliCalismalarNedir.html', 'assets/pages/student/OgretmenleriminGonderdigiSozluveYazili/OgretmenleriminGonderdigiSozluveYazili.html', 'assets/pages/student/CalismalaraNasilDokumanYukleyebilirim/CalismalaraNasilDokumanYukleyebilirim.html', 'assets/pages/student/CalismalarimlaIlgiliNotlarim/CalismalarimlaIlgiliNotlarim.html', 'assets/pages/student/SinavlarAlaniNedir/SinavlarAlaniNedir.html', 'assets/pages/student/EbaSifremiNasilOlustururum/EbaSifremiNasilOlustururum.html', 'assets/pages/student/OgrenciOlarakEbayaNasilGirisYapabilirim/OgrenciOlarakEbayaNasilGirisYapabilirim.html', 'assets/pages/student/UniversiteOgrencisiOlarakEbayaNasilGirisYapabilirim/UniversiteOgrencisiOlarakEbayaNasilGirisYapabilirim.html', 'assets/pages/student/EbaSifremiUnuttumNeYapmaliyim/EbaSifremiUnuttumNeYapmaliyim.html', 'assets/pages/student/ad/AnasayfadaNelerYerAlir/AnasayfadaNelerYerAlir.html', 'assets/pages/student/ad/NasilAramaYapabilirim/NasilAramaYapabilirim.html', 'assets/pages/student/ad/BildirimleriNasilGoruntuleyebilirim/BildirimleriNasilGoruntuleyebilirim.html', 'assets/pages/student/ad/ProfilSayfamaNasilUlasirim/ProfilSayfamaNasilUlasirim.html', 'assets/pages/student/ad/KisisellestirmeRozetleriNelerdir/KisisellestirmeRozetleriNelerdir.html', 'assets/pages/student/ad/AkademikDestekDuzenliCalismaRozetleriNelerdir/AkademikDestekDuzenliCalismaRozetleriNelerdir.html', 'assets/pages/student/ad/icerikleCalismaRozetleriNelerdir/icerikleCalismaRozetleriNelerdir.html', 'assets/pages/student/ad/KonuCalismaRozetleriNelerdir/KonuCalismaRozetleriNelerdir.html', 'assets/pages/student/ad/KonuveEksikTamamlamaRozetleriNelerdir/KonuveEksikTamamlamaRozetleriNelerdir.html', 'assets/pages/student/ad/SoruCozmeRozetleriNelerdir/SoruCozmeRozetleriNelerdir.html', 'assets/pages/student/ad/AkademikDestekDenemeSinaviRozetleriNelerdir/AkademikDestekDenemeSinaviRozetleriNelerdir.html', 'assets/pages/student/ad/TakvimNedirTakvimAlanindaNelerBulunur/TakvimNedirTakvimAlanindaNelerBulunur.html', 'assets/pages/student/ad/CalismaProgramimiNasillDuzenleyebilirim/CalismaProgramimiNasillDuzenleyebilirim.html', 'assets/pages/student/ad/CalismaStratejisiNedir/CalismaStratejisiNedir.html', 'assets/pages/student/ad/ArayiKapatNedir/ArayiKapatNedir.html', 'assets/pages/student/ad/DersSayfasinaNasilUlasirim/DersSayfasinaNasilUlasirim.html', 'assets/pages/student/ad/KonuSayfasinaNasilUlasirim/KonuSayfasinaNasilUlasirim.html', 'assets/pages/student/ad/DerslerdekiEksiklerimNedir/DerslerdekiEksiklerimNedir.html', 'assets/pages/student/ad/DenemeSinavlarindakiEksiklerimiNasilTamamlarim/DenemeSinavlarindakiEksiklerimiNasilTamamlarim.html', 'assets/pages/student/ad/EtutBildirimlerimiNasilGoruntulerim/EtutBildirimlerimiNasilGoruntulerim.html', 'assets/pages/student/ad/HedeflerinAlanindaNelerYerAlir/HedeflerinAlanindaNelerYerAlir.html', 'assets/pages/student/ad/YeniTercihListesiNasilOlustururum/YeniTercihListesiNasilOlustururum.html', 'assets/pages/student/ad/TercihListemiNasilDuzenleyebilirim/TercihListemiNasilDuzenleyebilirim.html', 'assets/pages/student/ad/NetHedefleriNedir/NetHedefleriNedir.html', 'assets/pages/student/ad/OdevlerimiNasilGoruntulerim/OdevlerimiNasilGoruntulerim.html', 'assets/pages/student/ad/RaporlarAlanindaNelerYerAlir/RaporlarAlanindaNelerYerAlir.html', 'assets/pages/student/ad/DenemeSinavlariPuanGelisimi/DenemeSinavlariPuanGelisimi.html', 'assets/pages/student/ad/DenemeSinaviRaporlarinaNasilUlasirim/DenemeSinaviRaporlarinaNasilUlasirim.html', 'assets/pages/student/ad/DenemeSinaviDersRaporlarinaNasilUlasirim/DenemeSinaviDersRaporlarinaNasilUlasirim.html', 'assets/pages/student/ad/CozdugumTestleriNasilGoruntulerim/CozdugumTestleriNasilGoruntulerim.html', 'assets/pages/student/ad/DerslerdekiDurumumuNasilGoruntulerim/DerslerdekiDurumumuNasilGoruntulerim.html', 'assets/pages/student/ad/DerslerdekiGelisimimiNasilGoruntuleyebilirim/DerslerdekiGelisimimiNasilGoruntuleyebilirim.html', 'assets/pages/student/ad/AkademikDestekSiralamasiNedir/AkademikDestekSiralamasiNedir.html', 'assets/pages/student/ad/TestlereNasilUlasirim/TestlereNasilUlasirim.html', 'assets/pages/student/ad/TestlerinCevaplariniNasilGoruntuleyebilirim/TestlerinCevaplariniNasilGoruntuleyebilirim.html', 'assets/pages/student/ad/CozdugumTestiNasilYazdirabilirim/CozdugumTestiNasilYazdirabilirim.html', 'assets/pages/student/ad/TestiBitirdiktenSonraHemenNasilYazdirabilirim/TestiBitirdiktenSonraHemenNasilYazdirabilirim.html', 'assets/pages/student/ad/TestiCozmeyeBaslamadanNasilYazdirabilirim/TestiCozmeyeBaslamadanNasilYazdirabilirim.html', 'assets/pages/student/ad/EBAAkademikDestekDenemeSinavlarinaNasilKatilirim/EBAAkademikDestekDenemeSinavlarinaNasilKatilirim.html', 'assets/pages/teacher/EBADestekNoktasindaOgrencilerinOturmaDuzenleri/EBADestekNoktasindaOgrencilerinOturmaDuzenleri.html', 'assets/pages/teacher/EBADestekNoktasinaOgretmenVePersonelGorevlendirmesi/EBADestekNoktasinaOgretmenVePersonelGorevlendirmesi.html', 'assets/pages/teacher/EBADeskteNoktasindaCalisacakPersonelIcinAlinmasi/EBADeskteNoktasindaCalisacakPersonelIcinAlinmasi.html', 'assets/pages/teacher/EBADestekNoktasiHangiStandartlardaHazirlanmalidir/EBADestekNoktasiHangiStandartlardaHazirlanmalidir.html', 'assets/pages/teacher/EBADestekNoktasiniKullanacakOgrenciler/EBADestekNoktasiniKullanacakOgrenciler.html', 'assets/pages/teacher/EBADestekNoktasindaHastalikBelirtisi/EBADestekNoktasindaHastalikBelirtisi.html', 'assets/pages/teacher/EBADestekNoktasindaAlinmasiGerekenOnlemler/EBADestekNoktasindaAlinmasiGerekenOnlemler.html', 'assets/pages/teacher/KimlerCanliDersOlusturabilir/KimlerCanliDersOlusturabilir.html', 'assets/pages/teacher/CanliDersKimGorebilir/CanliDersKimGorebilir.html', 'assets/pages/teacher/CanliDerseSecilenOgretmen/CanliDerseSecilenOgretmen.html', 'assets/pages/teacher/CanliDersiNeZamanBaslatabilirim/CanliDersiNeZamanBaslatabilirim.html', 'assets/pages/teacher/CanliDersiNeZamanBitirebilirim/CanliDersiNeZamanBitirebilirim.html', 'assets/pages/teacher/CanliDerseGecKaldim/CanliDerseGecKaldim.html', 'assets/pages/teacher/MobilCihazlarimdanCanliDerslerieErisebilirMiyim/MobilCihazlarimdanCanliDerslerieErisebilirMiyim.html', 'assets/pages/teacher/CanliDersSirasindaKatilimcilar/CanliDersSirasindaKatilimcilar.html', 'assets/pages/teacher/DersSirasindaHerkesinSesi/DersSirasindaHerkesinSesi.html', 'assets/pages/teacher/YardimciYonetici/YardimciYonetici.html', 'assets/pages/teacher/CanliDersUygulamasiAcilirken/CanliDersUygulamasiAcilirken.html', 'assets/pages/teacher/EbaCanliDerslerimiNasilYonetebilirim/EbaCanliDerslerimiNasilYonetebilirim.html', 'assets/pages/teacher/DuvarimAlaniniNasilKullanirim/DuvarimAlaniniNasilKullanirim.html', 'assets/pages/teacher/NasilIletiPaylasirim/NasilIletiPaylasirim.html', 'assets/pages/teacher/PaylastigimIletiyiDuzenleyebilirMiyim/PaylastigimIletiyiDuzenleyebilirMiyim.html', 'assets/pages/teacher/FavorilerimeEkledigimIletileriNeredenGorebilirim/FavorilerimeEkledigimIletileriNeredenGorebilirim.html', 'assets/pages/teacher/TartismalaraNasilKatilabilirim/TartismalaraNasilKatilabilirim.html', 'assets/pages/teacher/NasilOylamaOlustururum/NasilOylamaOlustururum.html', 'assets/pages/teacher/OylamaSonuclarinaNerdenUlasirim/OylamaSonuclarinaNerdenUlasirim.html', 'assets/pages/teacher/NasilEtkinlikOlustururum/NasilEtkinlikOlustururum.html', 'assets/pages/teacher/TakvimeNasilEtkinlikEklerim/TakvimeNasilEtkinlikEklerim.html', 'assets/pages/teacher/NasilPuanKazanabilirim/NasilPuanKazanabilirim.html', 'assets/pages/teacher/GonderdigimCalismalarBolumuNedir/GonderdigimCalismalarBolumuNedir.html', 'assets/pages/teacher/NasilSubeEklerim/NasilSubeEklerim.html', 'assets/pages/teacher/NasilGrupOlustururum/NasilGrupOlustururum.html', 'assets/pages/teacher/BirGrubaNasilUyeOlabilirim/BirGrubaNasilUyeOlabilirim.html', 'assets/pages/teacher/GrupSayfasindaNelerYerAlir/GrupSayfasindaNelerYerAlir.html', 'assets/pages/teacher/GrupUyeleriniNerdenGorebilirim/GrupUyeleriniNerdenGorebilirim.html', 'assets/pages/teacher/OlusturdugumGruplaraKimlerUyeOlabilir/OlusturdugumGruplaraKimlerUyeOlabilir.html', 'assets/pages/teacher/DerslerSayfasiNedir/DerslerSayfasiNedir.html', 'assets/pages/teacher/BirKonuSayfasinaKendiIceriklerimiEkleyebilirMiyim/BirKonuSayfasinaKendiIceriklerimiEkleyebilirMiyim.html', 'assets/pages/teacher/SiraliAnlatimNedir/SiraliAnlatimNedir.html', 'assets/pages/teacher/NasilListeOlusturabilirim/NasilListeOlusturabilirim.html', 'assets/pages/teacher/ListemiCalismaOlarakGonderebilirMiyim/ListemiCalismaOlarakGonderebilirMiyim.html', 'assets/pages/teacher/DersIcerikleriCalismaOlarakNasilGonderilir/DersIcerikleriCalismaOlarakNasilGonderilir.html', 'assets/pages/teacher/ListemiNasilDuzenlerim/ListemiNasilDuzenlerim.html', 'assets/pages/teacher/DosyalarAlaniNedir/DosyalarAlaniNedir.html', 'assets/pages/teacher/IcerikUretimiSayfasiNedir/IcerikUretimiSayfasiNedir.html', 'assets/pages/teacher/IcerikNasilEklenir/IcerikNasilEklenir.html', 'assets/pages/teacher/IcerigimiPaylasabilirMiyim/IcerigimiPaylasabilirMiyim.html', 'assets/pages/teacher/OgrenmeAdimiNasilEklenir/OgrenmeAdimiNasilEklenir.html', 'assets/pages/teacher/HazirladigimOgrenmeAdiminiPaylasabilirMiyim/HazirladigimOgrenmeAdiminiPaylasabilirMiyim.html', 'assets/pages/teacher/DersAkisiNasilOlusturulur/DersAkisiNasilOlusturulur.html', 'assets/pages/teacher/KutuphaneSayfasindaNelerBulunur/KutuphaneSayfasindaNelerBulunur.html', 'assets/pages/teacher/CalismalarSayfasiNedir/CalismalarSayfasiNedir.html', 'assets/pages/teacher/DijitalCalismalarNedir/DijitalCalismalarNedir.html', 'assets/pages/teacher/BirIcerigiGruplarimaDijitalCalismaOlarakNasilYollayabilirim/BirIcerigiGruplarimaDijitalCalismaOlarakNasilYollayabilirim.html', 'assets/pages/teacher/DijitalCalismalarinAvantajiNedir/DijitalCalismalarinAvantajiNedir.html', 'assets/pages/teacher/SozluVeYaziliCalismalarNedir/SozluVeYaziliCalismalarNedir.html', 'assets/pages/teacher/SozluveYaziliCalismayiNasilOlustururum/SozluveYaziliCalismayiNasilOlustururum.html', 'assets/pages/teacher/GonderdigimSozluveYaziliCalismalar/GonderdigimSozluveYaziliCalismalar.html', 'assets/pages/teacher/GonderdigimSozluveYaziliCalismalariNasil/GonderdigimSozluveYaziliCalismalarNasil.html', 'assets/pages/teacher/NotlarimiOgrencilerimleNasilPaylasabilirim/NotlarimiOgrencilerimleNasilPaylasabilirim.html', 'assets/pages/teacher/SinavlarAlaniNedir/SinavlarAlaniNedir.html', 'assets/pages/teacher/KendiSinavimiOlusturabilirMiyim/KendiSinavimiOlusturabilirMiyim.html', 'assets/pages/teacher/SoruVeSinavSistemiNedir/SoruVeSinavSistemiNedir.html', 'assets/pages/teacher/NasilYeniSoruOlusturabilirim/NasilYeniSoruOlusturabilirim.html', 'assets/pages/teacher/EbaSoruHavuzundakiBegendigimBirSoruyuDegistirerekKullanabilirMiyim/EbaSoruHavuzundakiBegendigimBirSoruyuDegistirerekKullanabilirMiyim.html', 'assets/pages/teacher/NasilYeniSinavOlusturabilirim/NasilYeniSinavOlusturabilirim.html', 'assets/pages/teacher/RaporlarSayfasindaNelerYerAlir/RaporlarSayfasindaNelerYerAlir.html', 'assets/pages/teacher/MeslekiGelisimAlaniNedir/MeslekiGelisimAlaniNedir.html', 'assets/pages/teacher/MeslekiGelisimAnaSayfasindaNelerVar/MeslekiGelisimAnaSayfasindaNelerVar.html', 'assets/pages/teacher/GruplarVeIceriklerAlanindaNelerBulunur/GruplarVeIceriklerAlanindaNelerBulunur.html', 'assets/pages/teacher/GruplarIcerisindeNeTurPaylasimlarYapilabilir/GruplarIcerisindeNeTurPaylasimlarYapilabilir.html', 'assets/pages/teacher/VideolarVeDokumanlarSekmeleriNeIsimeYarar/VideolarVeDokumanlarSekmeleriNeIsimeYarar.html', 'assets/pages/teacher/GrubaUyeOlmakNeIsimeYarar/GrubaUyeOlmakNeIsimeYarar.html', 'assets/pages/teacher/GrupUyeligimNeKadarDevamEder/GrupUyeligimNeKadarDevamEder.html', 'assets/pages/teacher/KurslarimAlaniNedir/KurslarimAlaniNedir.html', 'assets/pages/teacher/GuncelKurslarSekmesindeNelerBulunur/GuncelKurslarSekmesindeNelerBulunur.html', 'assets/pages/teacher/GecmisKurslarSekmesindeNelerBulunur/GecmisKurslarSekmesindeNelerBulunur.html', 'assets/pages/teacher/KursPerformansBilgilerimiMebbisteNeZamanGorebilirim/KursPerformansBilgilerimiMebbisteNeZamanGorebilirim.html', 'assets/pages/teacher/ProgramlarimAlaniNedir/ProgramlarimAlaniNedir.html', 'assets/pages/teacher/GuncelProgramlarSekmesindeNelerBulunur/GuncelProgramlarSekmesindeNelerBulunur.html', 'assets/pages/teacher/GecmisProgramlarSekmesindeNelerBulunur/GecmisProgramlarSekmesindeNelerBulunur.html', 'assets/pages/teacher/ProgramPerformansBilgilerimiMebbisteNeZamanGorebilirim/ProgramPerformansBilgilerimiMebbisteNeZamanGorebilirim.html', 'assets/pages/teacher/CanliEgitimlerAlaniNedir/CanliEgitimlerAlaniNedir.html', 'assets/pages/teacher/CanliEgitimeKatilabilmekIcinNeYapmaliyim/CanliEgitimeKatilabilmekIcinNeYapmaliyim.html', 'assets/pages/teacher/CanliEgitimlereKatilmakIcinNeTurAraclaraIhtiyacimVar/CanliEgitimlereKatilmakIcinNeTurAraclaraIhtiyacimVar.html', 'assets/pages/teacher/EgitimeSesliVeGoruntuluOlarakKatilabilirMiyim/EgitimeSesliVeGoruntuluOlarakKatilabilirMiyim.html', 'assets/pages/teacher/EbayaNasilGirisYapabilirim/EbayaNasilGirisYapabilirim.html', 'assets/pages/teacher/OgretmenOlarakOgrencilerimIcinEbaSifresiNasilOlustururum/OgretmenOlarakOgrencilerimIcinEbaSifresiNasilOlustururum.html', 'assets/pages/teacher/AkademisyenOlarakEbayaNasilGirisYapabilirim/AkademisyenOlarakEbayaNasilGirisYapabilirim.html', 'assets/pages/teacher/EbaKodNedirVeNasilKullanilir/EbaKodNedirVeNasilKullanilir.html', 'assets/pages/teacher/ad/AnaSayfadaNelerYerAlir/AnaSayfadaNelerYerAlir.html', 'assets/pages/teacher/ad/NasilAramaYapilir/NasilAramaYapilir.html', 'assets/pages/teacher/ad/BildirimlerNasilGoruntulenir/BildirimlerNasilGoruntulenir.html', 'assets/pages/teacher/ad/NasilSinifDegistirilir/NasilSinifDegistirilir.html', 'assets/pages/teacher/ad/DersPlaniNasilCevrimdisiKullanilir/DersPlaniNasilCevrimdisiKullanilir.html', 'assets/pages/teacher/ad/DersPlaniNasilGoruntulenir/DersPlaniNasilGoruntulenir.html', 'assets/pages/teacher/ad/OgretmenveVeliRolleriArasindaNasilGecisYapilir/OgretmenveVeliRolleriArasindaNasilGecisYapilir.html', 'assets/pages/teacher/ad/YoneticiOgretmenveVeliRolleriArasindaNasilGecisYapilir/YoneticiOgretmenveVeliRolleriArasindaNasilGecisYapilir.html', 'assets/pages/teacher/ad/TakvimAlanindaNelerBulunur/TakvimAlanindaNelerBulunur.html', 'assets/pages/teacher/ad/TestlereNasilUlasilir/TestlereNasilUlasilir.html', 'assets/pages/teacher/ad/TestlerinCevaplariNasilGoruntulenir/TestlerinCevaplariNasilGoruntulenir.html', 'assets/pages/teacher/ad/TestlerNasilYazdirilir/TestlerNasilYazdirilir.html', 'assets/pages/teacher/ad/TestRaporlariNasilGoruntulenir/TestRaporlariNasilGoruntulenir.html', 'assets/pages/teacher/ad/TestOdevOlarakNasilGonderilir/TestOdevOlarakNasilGonderilir.html', 'assets/pages/teacher/ad/NasilYeniTestOlusturulur/NasilYeniTestOlusturulur.html', 'assets/pages/teacher/ad/OlusturulanTestNasilGoruntulenir/OlusturulanTestNasilGoruntulenir.html', 'assets/pages/teacher/ad/RaporlarAlanindaNelerYerAlir/RaporlarAlanindaNelerYerAlir.html', 'assets/pages/teacher/ad/SinavSonucDegerlendirmeRaporuNedir/SinavSonucDegerlendirmeRaporuNedir.html', 'assets/pages/teacher/ad/KonuAnaliziRaporuNedir/KonuAnaliziRaporuNedir.html', 'assets/pages/teacher/ad/SoruAnaliziRaporuNedir/SoruAnaliziRaporuNedir.html', 'assets/pages/teacher/ad/PuanBazliRaporNedir/PuanBazliRaporNedir.html', 'assets/pages/teacher/ad/DersBazliRaporNedir/DersBazliRaporNedir.html', 'assets/pages/teacher/ad/SinavSonucKarnesiNedir/SinavSonucKarnesiNedir.html', 'assets/pages/teacher/ad/OgrenciNetGelisimiKarsilastirmaRaporuNedir/OgrenciNetGelisimiKarsilastirmaRaporuNedir.html', 'assets/pages/teacher/ad/SubeNetGelisimiKarsilastirmaRaporuNedir/SubeNetGelisimiKarsilastirmaRaporuNedir.html', 'assets/pages/teacher/ad/OgrenciPuanGelisimiKarsilastirmaRaporuNedir/OgrenciPuanGelisimiKarsilastirmaRaporuNedir.html', 'assets/pages/teacher/ad/SubePuanGelisimiKarsilastirmaRaporuNedir/SubePuanGelisimiKarsilastirmaRaporuNedir.html', 'assets/pages/teacher/ad/GelisimKarnesiNedir/GelisimKarnesiNedir.html', 'assets/pages/teacher/ad/OgrenciYeterlikSeviyesiRaporuNedir/OgrenciYeterlikSeviyesiRaporuNedir.html', 'assets/pages/teacher/ad/KonuYeterlikSeviyesiRaporuNedir/KonuYeterlikSeviyesiRaporuNedir.html', 'assets/pages/teacher/ad/TercihHedefleriRaporuNedir/TercihHedefleriRaporuNedir.html', 'assets/pages/teacher/ad/OgrenciyeNasilTercihListesiOnerilir/OgrenciyeNasilTercihListesiOnerilir.html', 'assets/pages/teacher/ad/KonuCalismaHedefleriRaporuNedir/KonuCalismaHedefleriRaporuNedir.html', 'assets/pages/teacher/ad/YeniEtutNasilOlusturulur/YeniEtutNasilOlusturulur.html', 'assets/pages/teacher/ad/OlusturulanEtutlerleilgiliHangiislemlerYapilir/OlusturulanEtutlerleilgiliHangiislemlerYapilir.html', 'assets/pages/teacher/ad/NasilEtutYoklamasiAlinir/NasilEtutYoklamasiAlinir.html', 'assets/pages/teacher/ad/OkuldakiEtutlerNasilGoruntulenir/OkuldakiEtutlerNasilGoruntulenir.html', None, 'assets/pages/teacher/ad/NasilYeniOdevGonderilir/NasilYeniOdevGonderilir.html', 'assets/pages/teacher/ad/GonderilenOdevlerNasilGoruntulenir/GonderilenOdevlerNasilGoruntulenir.html', 'assets/pages/teacher/ad/OkuldaGonderilenTumOdevlerNasilGoruntulenir/OkuldaGonderilenTumOdevlerNasilGoruntulenir.html', 'assets/pages/teacher/ad/KonuOzelindeNasilOdevGonderilir/KonuOzelindeNasilOdevGonderilir.html', 'assets/pages/teacher/ad/OgrencilerAlanindaNelerBulunur/OgrencilerAlanindaNelerBulunur.html', 'assets/pages/teacher/ad/YeniCalismaGrubuNasilOlusturulur/YeniCalismaGrubuNasilOlusturulur.html', 'assets/pages/teacher/ad/OgrenciTakibiNasilSaglanir/OgrenciTakibiNasilSaglanir.html', 'assets/pages/teacher/ad/SubeyeOgrencilereveVelilereNasilMesajGonderilir/SubeyeOgrencilereveVelilereNasilMesajGonderilir.html', 'assets/pages/teacher/ad/OgrenciArayuzundeNelerBulunur/OgrenciArayuzundeNelerBulunur.html', 'assets/pages/teacher/ad/VeliArayuzundeNelerBulunur/VeliArayuzundeNelerBulunur.html', 'assets/pages/teacher/ad/YoneticiArayuzundeNelerBulunur/YoneticiArayuzundeNelerBulunur.html', 'assets/pages/veli/EbadaNeYaptiBolumuNedir/EbadaNeYaptiBolumuNedir.html', 'assets/pages/veli/BekleyenCalismalariBolumuNedir/BekleyenCalismalariBolumuNedir.html', 'assets/pages/veli/EbadaNeYaptiBolumuCocugumunPerformansPuanlariniEtkilermi/EbadaNeYaptiBolumuCocugumunPerformansPuanlariniEtkilermi.html', 'assets/pages/veli/SonCalistigiKonularBolumuNedir/SonCalistigiKonularBolumuNedir.html', 'assets/pages/veli/TakvimdeNeleriGorebilirim/TakvimdeNeleriGorebilirim.html', 'assets/pages/veli/KonuPerformansiBolumuNedir/KonuPerformansiBolumuNedir.html', 'assets/pages/veli/KutuphaneBolumuNedir/KutuphaneBolumuNedir.html', 'assets/pages/veli/CalismalariBolumuNedir/CalismalariBolumuNedir.html', 'assets/pages/veli/RaporlariBolumundeNelerYerAlir/RaporlariBolumundeNelerYerAlir.html', 'assets/pages/veli/EbaPortfolyoNedir/EbaPortfolyoNedir.html', 'assets/pages/veli/EbaPortfolyodaBulunanAlanlarNelerdir/EbaPortfolyodaBulunanAlanlarNelerdir.html', 'assets/pages/manager/KimlerCanliDersOlusturabilir/KimlerCanliDersOlusturabilir.html', 'assets/pages/manager/CanliDerslerSayfasiniKimlerGorebilir/CanliDerslerSayfasiniKimlerGorebilir.html', 'assets/pages/manager/AtamaYapabilecegimCanliDersKotamiNeredenTakipEdebilirim/AtamaYapabilecegimCanliDersKotamiNeredenTakipEdebilirim.html', 'assets/pages/manager/CanliDersEnFazlaKacSubeyeGonderilebilir/CanliDersEnFazlaKacSubeyeGonderilebilir.html', 'assets/pages/manager/EnFazlaKacOgrenciyeCanliDersGonderilebilir/EnFazlaKacOgrenciyeCanliDersGonderilebilir.html', 'assets/pages/manager/CanliDerseSecilenOgretmenVeOgrencilerDisindaKimlerKatilabilir/CanliDerseSecilenOgretmenVeOgrencilerDisindaKimlerKatilabilir.html', 'assets/pages/manager/CanliDerseEnYakinHangiSaateAtanabilir/CanliDerseEnYakinHangiSaateAtanabilir.html', 'assets/pages/manager/OlusturulanBirCanliDersSonradanGuncellenebilirMi/OlusturulanBirCanliDersSonradanGuncellenebilirMi.html', 'assets/pages/manager/OlusturulanBirCanliDersAtandiktanSonraSilinirMi/OlusturulanBirCanliDersAtandiktanSonraSilinirMi.html', 'assets/pages/manager/MobilCihazlarimdanCanliDersAtamasiYapabilirMiyim/MobilCihazlarimdanCanliDersAtamasiYapabilirMiyim.html', 'assets/pages/manager/CanliDersAtamamiIstedigimGunVeSaateGoreYapamiyorumNeden/CanliDersAtamamiIstedigimGunVeSaateGoreYapamiyorumNeden.html', 'assets/pages/manager/CanliDersAtamasiYaparkenKayitliOldugumOkullardanBiriniGormuyorumNeYapabilirim/CanliDersAtamasiYaparkenKayitliOldugumOkullardanBiriniGormuyorumNeYapabilirim.html', 'assets/pages/manager/CanliDersAtamasiniYaparkenGuncelSinifVeSubeleriYaDaSubelerimdekiOgrenciSayisiniEksikGoruyorumNeYapabilirim/CanliDersAtamasiniYaparkenGuncelSinifVeSubeleriYaDaSubelerimdekiOgrenciSayisiniEks.html', 'assets/pages/manager/CanliDersAtamasiYaparkenCanliDersAtamasiYapacagimOgretmeniGoremiyorumBununIcinNeYapabilirim/CanliDersAtamasiYaparkenCanliDersAtamasiYapacagimOgretmeniGoremiyorumBununIcinNeYapabilirim.html']\n"
     ]
    },
    {
     "name": "stderr",
     "output_type": "stream",
     "text": [
      "0it [00:00, ?it/s]\n",
      "0it [00:00, ?it/s]\n",
      "0it [00:00, ?it/s]\n",
      "0it [00:00, ?it/s]\n",
      "0it [00:00, ?it/s]\n"
     ]
    },
    {
     "ename": "WebDriverException",
     "evalue": "Message: unknown error: net::ERR_CONNECTION_RESET\n  (Session info: headless chrome=116.0.5845.179)\nStacktrace:\n#0 0x55a1e2e08e23 <unknown>\n#1 0x55a1e2b317a7 <unknown>\n#2 0x55a1e2b29829 <unknown>\n#3 0x55a1e2b192c2 <unknown>\n#4 0x55a1e2b1a9fb <unknown>\n#5 0x55a1e2b1969d <unknown>\n#6 0x55a1e2b1865c <unknown>\n#7 0x55a1e2b185ce <unknown>\n#8 0x55a1e2b1728a <unknown>\n#9 0x55a1e2b176da <unknown>\n#10 0x55a1e2b33630 <unknown>\n#11 0x55a1e2ba9b15 <unknown>\n#12 0x55a1e2b91012 <unknown>\n#13 0x55a1e2ba9369 <unknown>\n#14 0x55a1e2b90de3 <unknown>\n#15 0x55a1e2b64a7b <unknown>\n#16 0x55a1e2b6581e <unknown>\n#17 0x55a1e2dca638 <unknown>\n#18 0x55a1e2dce507 <unknown>\n#19 0x55a1e2dd8c4c <unknown>\n#20 0x55a1e2dcf136 <unknown>\n#21 0x55a1e2d9d9cf <unknown>\n#22 0x55a1e2df2b98 <unknown>\n#23 0x55a1e2df2d68 <unknown>\n#24 0x55a1e2e01cb3 <unknown>\n#25 0x7fdd2575a609 start_thread\n",
     "output_type": "error",
     "traceback": [
      "\u001b[0;31m---------------------------------------------------------------------------\u001b[0m",
      "\u001b[0;31mWebDriverException\u001b[0m                        Traceback (most recent call last)",
      "\u001b[1;32m/home/boray/sebit_assistant/webScrapper/scrapper_try.ipynb Cell 7\u001b[0m line \u001b[0;36m1\n\u001b[0;32m----> <a href='vscode-notebook-cell://wsl%2Bubuntu-20.04/home/boray/sebit_assistant/webScrapper/scrapper_try.ipynb#X52sdnNjb2RlLXJlbW90ZQ%3D%3D?line=0'>1</a>\u001b[0m scrapper\u001b[39m.\u001b[39;49mscrapAll()\n",
      "File \u001b[0;32m~/sebit_assistant/webScrapper/scrapper.py:557\u001b[0m, in \u001b[0;36mScrapper.scrapAll\u001b[0;34m(self)\u001b[0m\n\u001b[1;32m    555\u001b[0m \u001b[39mdef\u001b[39;00m \u001b[39mscrapAll\u001b[39m(\u001b[39mself\u001b[39m):\n\u001b[1;32m    556\u001b[0m     \u001b[39mself\u001b[39m\u001b[39m.\u001b[39mscrapJustSebit()\n\u001b[0;32m--> 557\u001b[0m     \u001b[39mself\u001b[39;49m\u001b[39m.\u001b[39;49mscrapJustEdu()\n",
      "File \u001b[0;32m~/sebit_assistant/webScrapper/scrapper.py:567\u001b[0m, in \u001b[0;36mScrapper.scrapJustEdu\u001b[0;34m(self)\u001b[0m\n\u001b[1;32m    566\u001b[0m \u001b[39mdef\u001b[39;00m \u001b[39mscrapJustEdu\u001b[39m(\u001b[39mself\u001b[39m):\n\u001b[0;32m--> 567\u001b[0m     \u001b[39mself\u001b[39m\u001b[39m.\u001b[39mmeb_faq(\u001b[39m\"\u001b[39m\u001b[39mmeb.csv\u001b[39m\u001b[39m\"\u001b[39m)\n\u001b[1;32m    568\u001b[0m     \u001b[39mself\u001b[39m\u001b[39m.\u001b[39mosym_faq(\u001b[39m\"\u001b[39m\u001b[39mosym.csv\u001b[39m\u001b[39m\"\u001b[39m)\n\u001b[1;32m    569\u001b[0m     \u001b[39mself\u001b[39m\u001b[39m.\u001b[39myok_faq(\u001b[39m\"\u001b[39m\u001b[39myok.csv\u001b[39m\u001b[39m\"\u001b[39m)\n",
      "File \u001b[0;32m~/sebit_assistant/webScrapper/scrapper.py:179\u001b[0m, in \u001b[0;36mScrapper.meb_faq\u001b[0;34m(self, output_file_name)\u001b[0m\n\u001b[1;32m    175\u001b[0m     temp_df \u001b[39m=\u001b[39m pd\u001b[39m.\u001b[39mconcat([temp_df, pd\u001b[39m.\u001b[39mDataFrame(data\u001b[39m=\u001b[39mdata_dict)])\n\u001b[1;32m    177\u001b[0m     \u001b[39mreturn\u001b[39;00m temp_df\n\u001b[0;32m--> 179\u001b[0m meb_dfs \u001b[39m=\u001b[39m \u001b[39mlist\u001b[39;49m(\u001b[39mmap\u001b[39;49m(get_qa_pairs, urls))\n\u001b[1;32m    181\u001b[0m faq_df \u001b[39m=\u001b[39m pd\u001b[39m.\u001b[39mconcat(meb_dfs)\n\u001b[1;32m    182\u001b[0m faq_df\u001b[39m.\u001b[39mreset_index(drop\u001b[39m=\u001b[39m\u001b[39mTrue\u001b[39;00m, inplace\u001b[39m=\u001b[39m\u001b[39mTrue\u001b[39;00m)\n",
      "File \u001b[0;32m~/sebit_assistant/webScrapper/scrapper.py:152\u001b[0m, in \u001b[0;36mScrapper.meb_faq.<locals>.get_qa_pairs\u001b[0;34m(url)\u001b[0m\n\u001b[1;32m    150\u001b[0m \u001b[39mdef\u001b[39;00m \u001b[39mget_qa_pairs\u001b[39m(url):\n\u001b[0;32m--> 152\u001b[0m     driver\u001b[39m.\u001b[39;49mget(url)\n\u001b[1;32m    154\u001b[0m     questions \u001b[39m=\u001b[39m driver\u001b[39m.\u001b[39mfind_elements(By\u001b[39m.\u001b[39mXPATH, \u001b[39m'\u001b[39m\u001b[39m//body[1]/section[1]/div[1]/div[2]/div[1]/div[1]/div[2]/ul/li/strong\u001b[39m\u001b[39m'\u001b[39m)\n\u001b[1;32m    155\u001b[0m     answers \u001b[39m=\u001b[39m driver\u001b[39m.\u001b[39mfind_elements(By\u001b[39m.\u001b[39mXPATH, \u001b[39m'\u001b[39m\u001b[39m//body[1]/section[1]/div[1]/div[2]/div[1]/div[1]/div[2]/ul/li\u001b[39m\u001b[39m'\u001b[39m)\n",
      "File \u001b[0;32m~/anaconda3/envs/sebit_assistant_env/lib/python3.11/site-packages/selenium/webdriver/remote/webdriver.py:353\u001b[0m, in \u001b[0;36mWebDriver.get\u001b[0;34m(self, url)\u001b[0m\n\u001b[1;32m    351\u001b[0m \u001b[39mdef\u001b[39;00m \u001b[39mget\u001b[39m(\u001b[39mself\u001b[39m, url: \u001b[39mstr\u001b[39m) \u001b[39m-\u001b[39m\u001b[39m>\u001b[39m \u001b[39mNone\u001b[39;00m:\n\u001b[1;32m    352\u001b[0m \u001b[39m    \u001b[39m\u001b[39m\"\"\"Loads a web page in the current browser session.\"\"\"\u001b[39;00m\n\u001b[0;32m--> 353\u001b[0m     \u001b[39mself\u001b[39;49m\u001b[39m.\u001b[39;49mexecute(Command\u001b[39m.\u001b[39;49mGET, {\u001b[39m\"\u001b[39;49m\u001b[39murl\u001b[39;49m\u001b[39m\"\u001b[39;49m: url})\n",
      "File \u001b[0;32m~/anaconda3/envs/sebit_assistant_env/lib/python3.11/site-packages/selenium/webdriver/remote/webdriver.py:344\u001b[0m, in \u001b[0;36mWebDriver.execute\u001b[0;34m(self, driver_command, params)\u001b[0m\n\u001b[1;32m    342\u001b[0m response \u001b[39m=\u001b[39m \u001b[39mself\u001b[39m\u001b[39m.\u001b[39mcommand_executor\u001b[39m.\u001b[39mexecute(driver_command, params)\n\u001b[1;32m    343\u001b[0m \u001b[39mif\u001b[39;00m response:\n\u001b[0;32m--> 344\u001b[0m     \u001b[39mself\u001b[39;49m\u001b[39m.\u001b[39;49merror_handler\u001b[39m.\u001b[39;49mcheck_response(response)\n\u001b[1;32m    345\u001b[0m     response[\u001b[39m\"\u001b[39m\u001b[39mvalue\u001b[39m\u001b[39m\"\u001b[39m] \u001b[39m=\u001b[39m \u001b[39mself\u001b[39m\u001b[39m.\u001b[39m_unwrap_value(response\u001b[39m.\u001b[39mget(\u001b[39m\"\u001b[39m\u001b[39mvalue\u001b[39m\u001b[39m\"\u001b[39m, \u001b[39mNone\u001b[39;00m))\n\u001b[1;32m    346\u001b[0m     \u001b[39mreturn\u001b[39;00m response\n",
      "File \u001b[0;32m~/anaconda3/envs/sebit_assistant_env/lib/python3.11/site-packages/selenium/webdriver/remote/errorhandler.py:229\u001b[0m, in \u001b[0;36mErrorHandler.check_response\u001b[0;34m(self, response)\u001b[0m\n\u001b[1;32m    227\u001b[0m         alert_text \u001b[39m=\u001b[39m value[\u001b[39m\"\u001b[39m\u001b[39malert\u001b[39m\u001b[39m\"\u001b[39m]\u001b[39m.\u001b[39mget(\u001b[39m\"\u001b[39m\u001b[39mtext\u001b[39m\u001b[39m\"\u001b[39m)\n\u001b[1;32m    228\u001b[0m     \u001b[39mraise\u001b[39;00m exception_class(message, screen, stacktrace, alert_text)  \u001b[39m# type: ignore[call-arg]  # mypy is not smart enough here\u001b[39;00m\n\u001b[0;32m--> 229\u001b[0m \u001b[39mraise\u001b[39;00m exception_class(message, screen, stacktrace)\n",
      "\u001b[0;31mWebDriverException\u001b[0m: Message: unknown error: net::ERR_CONNECTION_RESET\n  (Session info: headless chrome=116.0.5845.179)\nStacktrace:\n#0 0x55a1e2e08e23 <unknown>\n#1 0x55a1e2b317a7 <unknown>\n#2 0x55a1e2b29829 <unknown>\n#3 0x55a1e2b192c2 <unknown>\n#4 0x55a1e2b1a9fb <unknown>\n#5 0x55a1e2b1969d <unknown>\n#6 0x55a1e2b1865c <unknown>\n#7 0x55a1e2b185ce <unknown>\n#8 0x55a1e2b1728a <unknown>\n#9 0x55a1e2b176da <unknown>\n#10 0x55a1e2b33630 <unknown>\n#11 0x55a1e2ba9b15 <unknown>\n#12 0x55a1e2b91012 <unknown>\n#13 0x55a1e2ba9369 <unknown>\n#14 0x55a1e2b90de3 <unknown>\n#15 0x55a1e2b64a7b <unknown>\n#16 0x55a1e2b6581e <unknown>\n#17 0x55a1e2dca638 <unknown>\n#18 0x55a1e2dce507 <unknown>\n#19 0x55a1e2dd8c4c <unknown>\n#20 0x55a1e2dcf136 <unknown>\n#21 0x55a1e2d9d9cf <unknown>\n#22 0x55a1e2df2b98 <unknown>\n#23 0x55a1e2df2d68 <unknown>\n#24 0x55a1e2e01cb3 <unknown>\n#25 0x7fdd2575a609 start_thread\n"
     ]
    }
   ],
   "source": [
    "scrapper.scrapAll()"
   ]
  },
  {
   "cell_type": "code",
   "execution_count": null,
   "metadata": {},
   "outputs": [],
   "source": [
    "scrapper.meb_faq(\"meb.csv\")\n",
    "scrapper.osym_faq(\"osym.csv\")\n",
    "scrapper.eba_faq(\"eba.csv\")\n",
    "scrapper.hizligo_faq(\"hizligo.csv\")\n",
    "scrapper.raunt_faq(\"raunt.csv\")\n",
    "scrapper.vcloud_faq(\"vcloud.csv\")\n",
    "scrapper.vitamin_faq(\"vitamin.csv\")\n",
    "scrapper.yok_faq(\"yok.csv\")"
   ]
  },
  {
   "cell_type": "code",
   "execution_count": null,
   "metadata": {},
   "outputs": [],
   "source": [
    "scrapper.raunt_faq(\"raunt.csv\")"
   ]
  },
  {
   "cell_type": "code",
   "execution_count": null,
   "metadata": {},
   "outputs": [],
   "source": [
    "scrapper.concatMultipleCsv(\"TryAllScrapper\",\"allcsv_try/try.csv\")"
   ]
  },
  {
   "cell_type": "code",
   "execution_count": null,
   "metadata": {},
   "outputs": [],
   "source": [
    "import yaml"
   ]
  },
  {
   "cell_type": "code",
   "execution_count": null,
   "metadata": {},
   "outputs": [],
   "source": [
    "with open('scrapConfig.yaml','r') as f:\n",
    "    urls = yaml.safe_load(f)\n",
    "\n",
    "urls"
   ]
  }
 ],
 "metadata": {
  "kernelspec": {
   "display_name": "sebit_assistant_env",
   "language": "python",
   "name": "python3"
  },
  "language_info": {
   "codemirror_mode": {
    "name": "ipython",
    "version": 3
   },
   "file_extension": ".py",
   "mimetype": "text/x-python",
   "name": "python",
   "nbconvert_exporter": "python",
   "pygments_lexer": "ipython3",
   "version": "3.11.4"
  }
 },
 "nbformat": 4,
 "nbformat_minor": 2
}
